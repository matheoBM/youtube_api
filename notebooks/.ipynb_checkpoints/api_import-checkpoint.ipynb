{
 "cells": [
  {
   "cell_type": "code",
   "execution_count": 1,
   "id": "84044d76-5d77-467b-9b9a-1be4d2b8d061",
   "metadata": {},
   "outputs": [
    {
     "data": {
      "text/plain": [
       "True"
      ]
     },
     "execution_count": 1,
     "metadata": {},
     "output_type": "execute_result"
    }
   ],
   "source": [
    "import os\n",
    "from googleapiclient.discovery import build\n",
    "from IPython.display import JSON\n",
    "import pandas as pd\n",
    "import numpy as np\n",
    "from dateutil import parser\n",
    "import seaborn as sn\n",
    "from dotenv import load_dotenv\n",
    "load_dotenv()"
   ]
  },
  {
   "cell_type": "markdown",
   "id": "c7b0288e-326f-4007-bc1f-1128ee3741aa",
   "metadata": {
    "jp-MarkdownHeadingCollapsed": true
   },
   "source": [
    "# 1. Importação dos dados\n",
    "* 1.1 Playlist id collection\n",
    "* 1.2 Videos Ids collection\n",
    "* 1.3 Statistics of the videos"
   ]
  },
  {
   "cell_type": "code",
   "execution_count": 2,
   "id": "0bbfcd47-75b0-4634-836f-c9c86d433e10",
   "metadata": {},
   "outputs": [],
   "source": [
    "api_service_name = \"youtube\"\n",
    "api_version = \"v3\"\n",
    "api_key = os.getenv('API_KEY')\n",
    "\n",
    "youtube = build(\n",
    "    api_service_name, api_version, developerKey=api_key\n",
    ")\n",
    "\n",
    "channel_ids=[\n",
    "    'UCpaCprFX3Lm10g4-7uvj02A', \n",
    "    'UCcq1Xu3SKcwE1CpzGi-N68g'\n",
    "]   "
   ]
  },
  {
   "cell_type": "code",
   "execution_count": 3,
   "id": "f0978897-d436-43ed-b4f1-6d77227fed6c",
   "metadata": {},
   "outputs": [],
   "source": [
    "def get_statistics(youtube, channel_ids):    \n",
    "    request = youtube.channels().list(\n",
    "        part=\"snippet,contentDetails,statistics\",\n",
    "        id=channel_ids\n",
    "    )\n",
    "    response = request.execute()\n",
    "\n",
    "    all_data = []\n",
    "    for channel_data in response['items']:\n",
    "        data = {\n",
    "            'channel_id':channel_data['id'],\n",
    "            'channel_name':channel_data['snippet']['title'],\n",
    "            'subscribers':channel_data['statistics']['subscriberCount'],\n",
    "            'views':channel_data['statistics']['viewCount'],\n",
    "            'num_videos':channel_data['statistics']['videoCount'],\n",
    "            'playlist_id':channel_data['contentDetails']['relatedPlaylists']['uploads']\n",
    "        }\n",
    "        all_data.append(data)\n",
    "    return pd.DataFrame(all_data)"
   ]
  },
  {
   "cell_type": "code",
   "execution_count": 4,
   "id": "fada127a-6dc3-4c1f-ac1d-436e63968fe4",
   "metadata": {},
   "outputs": [
    {
     "name": "stdout",
     "output_type": "stream",
     "text": [
      "CPU times: total: 15.6 ms\n",
      "Wall time: 264 ms\n"
     ]
    },
    {
     "data": {
      "text/html": [
       "<div>\n",
       "<style scoped>\n",
       "    .dataframe tbody tr th:only-of-type {\n",
       "        vertical-align: middle;\n",
       "    }\n",
       "\n",
       "    .dataframe tbody tr th {\n",
       "        vertical-align: top;\n",
       "    }\n",
       "\n",
       "    .dataframe thead th {\n",
       "        text-align: right;\n",
       "    }\n",
       "</style>\n",
       "<table border=\"1\" class=\"dataframe\">\n",
       "  <thead>\n",
       "    <tr style=\"text-align: right;\">\n",
       "      <th></th>\n",
       "      <th>channel_id</th>\n",
       "      <th>channel_name</th>\n",
       "      <th>subscribers</th>\n",
       "      <th>views</th>\n",
       "      <th>num_videos</th>\n",
       "      <th>playlist_id</th>\n",
       "    </tr>\n",
       "  </thead>\n",
       "  <tbody>\n",
       "    <tr>\n",
       "      <th>0</th>\n",
       "      <td>UCpaCprFX3Lm10g4-7uvj02A</td>\n",
       "      <td>crymelt</td>\n",
       "      <td>252000</td>\n",
       "      <td>11329803</td>\n",
       "      <td>10</td>\n",
       "      <td>UUpaCprFX3Lm10g4-7uvj02A</td>\n",
       "    </tr>\n",
       "    <tr>\n",
       "      <th>1</th>\n",
       "      <td>UCcq1Xu3SKcwE1CpzGi-N68g</td>\n",
       "      <td>Pipoca &amp; Nanquim</td>\n",
       "      <td>291000</td>\n",
       "      <td>70781752</td>\n",
       "      <td>1737</td>\n",
       "      <td>UUcq1Xu3SKcwE1CpzGi-N68g</td>\n",
       "    </tr>\n",
       "  </tbody>\n",
       "</table>\n",
       "</div>"
      ],
      "text/plain": [
       "                 channel_id      channel_name subscribers     views  \\\n",
       "0  UCpaCprFX3Lm10g4-7uvj02A           crymelt      252000  11329803   \n",
       "1  UCcq1Xu3SKcwE1CpzGi-N68g  Pipoca & Nanquim      291000  70781752   \n",
       "\n",
       "  num_videos               playlist_id  \n",
       "0         10  UUpaCprFX3Lm10g4-7uvj02A  \n",
       "1       1737  UUcq1Xu3SKcwE1CpzGi-N68g  "
      ]
     },
     "execution_count": 4,
     "metadata": {},
     "output_type": "execute_result"
    }
   ],
   "source": [
    "%%time\n",
    "get_statistics(youtube, channel_ids)"
   ]
  },
  {
   "cell_type": "code",
   "execution_count": 5,
   "id": "24e545e4-24ae-4e3a-bba1-a44065458cbc",
   "metadata": {},
   "outputs": [],
   "source": [
    "request = youtube.playlistItems().list(\n",
    "    part=\"snippet,contentDetails\",\n",
    "    playlistId='UUcq1Xu3SKcwE1CpzGi-N68g',\n",
    "    maxResults = 50\n",
    ")"
   ]
  },
  {
   "cell_type": "code",
   "execution_count": 6,
   "id": "12914430-d38f-4aa5-a842-baac92ee3a35",
   "metadata": {},
   "outputs": [
    {
     "data": {
      "application/json": {
       "etag": "7C7aM72V4J2x3b09puq_gbEGNiA",
       "items": [
        {
         "contentDetails": {
          "videoId": "cTufXjYijqQ",
          "videoPublishedAt": "2023-11-26T15:54:30Z"
         },
         "etag": "uSAzTcpYSpXwqMfr708fQWqukGk",
         "id": "VVVjcTFYdTNTS2N3RTFDcHpHaS1ONjhnLmNUdWZYallpanFR",
         "kind": "youtube#playlistItem",
         "snippet": {
          "channelId": "UCcq1Xu3SKcwE1CpzGi-N68g",
          "channelTitle": "Pipoca & Nanquim",
          "description": "🎥 Catarse de Ogiva: https://www.catarse.me/Ogiva (já aberto para financiamento com as recompensas)\n⚡ OGIVA, de Bruno Zago e Guilherme Petreca: https://amzn.to/2VBSr5L / https://pipocaenanquim.com.br/ogiva.html\n🎞️ INSTA DA PRODUTORA: @monolito_producoes \n\nEste é um momento HISTÓRICO na trajetória do Pipoca & Nanquim, galera!\n\nEm 2009, nascemos como um canal de vídeos para falar de cinema e quadrinhos na internet. Em 2017, realizamos nosso maior sonho e abrimos uma editora de HQs! De lá para cá, publicamos alguns dos maiores nomes da nona arte, inauguramos um selo de quadrinhos nacionais e fomos pentacampeões do Troféu HQ Mix como Melhor Editora do Ano!!!\n\nE em toda essa trajetória nós contamos com amigos essenciais: VOCÊS!!\n\nVocês sempre fizeram parte da nossa história, e agora precisamos desse apoio mais do que nunca, pois estamos dando o maior passo da editora: a produção de um filme live-action baseado em um dos quadrinhos do nosso selo de obras originais: OGIVA!!\n\nE mais do que isso! O filme virá acompanhado de um livro inédito da editora, como não podia deixar de ser!!\n\nAbaixo, contamos a vocês tudo sobre esse projeto maravilhoso que está previsto para ser lançado em novembro de 2024.\n\nAh, e cabe também dizer: nosso único propósito com esta campanha é financiar o filme e o livro do filme, não existe nenhum fim lucrativo em cima. Nosso “lucro” será o mesmo de vocês: a alegria de ver esse maravilhoso trabalho ganhar vida.❤️\n\n\nCRÉDITOS DE PRODUÇÃO ATÉ O MOMENTO:\n- Diretor e artista do teaser pôster - Cadu Rosenfeld - @cadurosenfeld\n- Diretor de Produção - Mario Tacach @mario.tacach\n- Diretor de Arte - Vinicius Feller @fellerv\n- Diretor de Fotografia - Giovani Gasparetto @gigigasparetto\n- Figurinista - Maria Paula Vaz Freire @maresemarias\n- Supervisor de VFX - Jhonatan Luiz @jhonatanluiz\n- Artista 3D - Leandro Benigno @leandro_benignoart\n- Concept Artist - Andres Ramos @renderia\n- Prop “Criatura” - Paulo Gomes @paulomcl.art\n- Imagens de bastidores - Vinicius Caldas e Aline Prado @caldasv @rrobaline\n- Possível add-on de boneco da Maimai - Helleno Souza @helleno_souza \n- Possível add-on de estatueta da Pilar e Sara - Eduardo Souza @edusouza.art\n- Possível add-on de placa de monstro e chaveiro - Leandro Benigno @leandro_benignoart\n\n🌸 EDIÇÃO DO VÍDEO: Jessica Torlezi (@jessica_torlezi)\n\n-------------\nCAIXA POSTAL 81382\nCEP 08050-970 São Paulo/SP\n\nNOSSOS LINKS\n- Site e loja virtual: https://pipocaenanquim.com.br/\n- E-mail: pipocaenanquim@gmail.com\n- @pipocaenanquim \n- @alexandrecallari\n- @zagaiada\n- @danielgillopes\n\n#pipocaenanquim #ogiva #quadrinhos\nBORA FAZER NASCER NOSSO PRIMEIRO FILME! Aberto o financiamento no Catarse | Pipoca e Nanquim 548\nhttps://youtu.be/cTufXjYijqQ",
          "playlistId": "UUcq1Xu3SKcwE1CpzGi-N68g",
          "position": 0,
          "publishedAt": "2023-11-26T15:54:30Z",
          "resourceId": {
           "kind": "youtube#video",
           "videoId": "cTufXjYijqQ"
          },
          "thumbnails": {
           "default": {
            "height": 90,
            "url": "https://i.ytimg.com/vi/cTufXjYijqQ/default.jpg",
            "width": 120
           },
           "high": {
            "height": 360,
            "url": "https://i.ytimg.com/vi/cTufXjYijqQ/hqdefault.jpg",
            "width": 480
           },
           "maxres": {
            "height": 720,
            "url": "https://i.ytimg.com/vi/cTufXjYijqQ/maxresdefault.jpg",
            "width": 1280
           },
           "medium": {
            "height": 180,
            "url": "https://i.ytimg.com/vi/cTufXjYijqQ/mqdefault.jpg",
            "width": 320
           },
           "standard": {
            "height": 480,
            "url": "https://i.ytimg.com/vi/cTufXjYijqQ/sddefault.jpg",
            "width": 640
           }
          },
          "title": "BORA FAZER NASCER NOSSO PRIMEIRO FILME! Aberto o financiamento no Catarse | Pipoca e Nanquim 548",
          "videoOwnerChannelId": "UCcq1Xu3SKcwE1CpzGi-N68g",
          "videoOwnerChannelTitle": "Pipoca & Nanquim"
         }
        },
        {
         "contentDetails": {
          "videoId": "ufQGQb5g6ZM",
          "videoPublishedAt": "2023-11-26T02:19:27Z"
         },
         "etag": "WLChgV1QLrKDN2qQZWEl119_BBE",
         "id": "VVVjcTFYdTNTS2N3RTFDcHpHaS1ONjhnLnVmUUdRYjVnNlpN",
         "kind": "youtube#playlistItem",
         "snippet": {
          "channelId": "UCcq1Xu3SKcwE1CpzGi-N68g",
          "channelTitle": "Pipoca & Nanquim",
          "description": "",
          "playlistId": "UUcq1Xu3SKcwE1CpzGi-N68g",
          "position": 1,
          "publishedAt": "2023-11-26T02:19:27Z",
          "resourceId": {
           "kind": "youtube#video",
           "videoId": "ufQGQb5g6ZM"
          },
          "thumbnails": {
           "default": {
            "height": 90,
            "url": "https://i.ytimg.com/vi/ufQGQb5g6ZM/default.jpg",
            "width": 120
           },
           "high": {
            "height": 360,
            "url": "https://i.ytimg.com/vi/ufQGQb5g6ZM/hqdefault.jpg",
            "width": 480
           },
           "maxres": {
            "height": 720,
            "url": "https://i.ytimg.com/vi/ufQGQb5g6ZM/maxresdefault.jpg",
            "width": 1280
           },
           "medium": {
            "height": 180,
            "url": "https://i.ytimg.com/vi/ufQGQb5g6ZM/mqdefault.jpg",
            "width": 320
           },
           "standard": {
            "height": 480,
            "url": "https://i.ytimg.com/vi/ufQGQb5g6ZM/sddefault.jpg",
            "width": 640
           }
          },
          "title": "UMA NOVA ETAPA DIA 26/11 ❤️",
          "videoOwnerChannelId": "UCcq1Xu3SKcwE1CpzGi-N68g",
          "videoOwnerChannelTitle": "Pipoca & Nanquim"
         }
        },
        {
         "contentDetails": {
          "videoId": "cSinekP-uwI",
          "videoPublishedAt": "2023-11-25T14:30:14Z"
         },
         "etag": "F47gMmegay69foadm0S9ZVGc2GM",
         "id": "VVVjcTFYdTNTS2N3RTFDcHpHaS1ONjhnLmNTaW5la1AtdXdJ",
         "kind": "youtube#playlistItem",
         "snippet": {
          "channelId": "UCcq1Xu3SKcwE1CpzGi-N68g",
          "channelTitle": "Pipoca & Nanquim",
          "description": "🎥 Catarse de Ogiva: https://www.catarse.me/Ogiva\n⚡ OGIVA, de Bruno Zago e Guilherme Petreca: https://amzn.to/2VBSr5L\n🎞️ INSTA DA PRODUTORA: @monolito_producoes \n\nCRÉDITOS DE PRODUÇÃO ATÉ O MOMENTO:\n- Diretor e artista do teaser pôster - Cadu Rosenfeld - @cadurosenfeld\n- Diretor de Produção - Mario Tacach @mario.tacach\n- Diretor de Arte - Vinicius Feller @fellerv\n- Diretor de Fotografia - Giovani Gasparetto @gigigasparetto\n- Figurinista - Maria Paula Vaz Freire @maresemarias\n- Supervisor de VFX - Jhonatan Luiz @jhonatanluiz\n- Artista 3D - Leandro Benigno @leandro_benignoart\n- Concept Artist - Andres Ramos @renderia\n- Prop “Criatura” - Paulo Gomes @paulomcl.art\n- Imagens de bastidores - Vinicius Caldas e Aline Prado @caldasv @rrobaline\n- Possível add-on de boneco da Maimai - Helleno Souza @helleno_souza \n- Possível add-on de estatueta da Pilar e Sara - Eduardo Souza @edusouza.art\n- Possível add-on de placa de monstro e chaveiro - Leandro Benigno @leandro_benignoart\n\nA realização de um sonho começou! O quadrinho Ogiva vai virar um filme live-action!!! \n\nBruno Zago lançou a HQ em 2020, ao lado de Guilherme Petreca, e foi a primeira obra 100% original Pipoca & Nanquim mesmo, com tudo sendo produzido dentro da editora. Agora, em 2023, em parceria com a produtora  @MonolitoProducoes   de Cadu Rosenfeld, começa a produção do primeiro grande projeto audiovisual da editora! \n\nO inicio deste projeto que nos enche de orgulho já foi espetacular, por que ganhamos, em primeiro lugar, o edital da lei Paulo Gustavo da cidade de Indaiatuba, que incentiva a retomada de projetos culturais a estados, municípios e ao Distrito Federal.\n\nE, agora, estamos abrindo uma campanha no Catarse para ampliar e incrementar ainda mais esse projeto tão especial para nós. Aguardem novidades!! Começa dia 26/01!! \n\nYEAAAH! Valeu, galera!!\n\n📚 Quadrinhos, livros e mangás da editora Pipoca & Nanquim: https://amzn.to/3pwH2GV\n\n\n-------------\nCAIXA POSTAL 81382\nCEP 08050-970 São Paulo/SP\n\nNOSSOS LINKS\n- Site e loja virtual: https://pipocaenanquim.com.br/\n- E-mail: pipocaenanquim@gmail.com\n- @pipocaenanquim \n- @alexandrecallari\n- @zagaiada\n- @danielgillopes",
          "playlistId": "UUcq1Xu3SKcwE1CpzGi-N68g",
          "position": 2,
          "publishedAt": "2023-11-25T14:30:14Z",
          "resourceId": {
           "kind": "youtube#video",
           "videoId": "cSinekP-uwI"
          },
          "thumbnails": {
           "default": {
            "height": 90,
            "url": "https://i.ytimg.com/vi/cSinekP-uwI/default.jpg",
            "width": 120
           },
           "high": {
            "height": 360,
            "url": "https://i.ytimg.com/vi/cSinekP-uwI/hqdefault.jpg",
            "width": 480
           },
           "medium": {
            "height": 180,
            "url": "https://i.ytimg.com/vi/cSinekP-uwI/mqdefault.jpg",
            "width": 320
           },
           "standard": {
            "height": 480,
            "url": "https://i.ytimg.com/vi/cSinekP-uwI/sddefault.jpg",
            "width": 640
           }
          },
          "title": "TEASER TRAILER DO FILME DE OGIVA NO CATARSE 🎬 🤩",
          "videoOwnerChannelId": "UCcq1Xu3SKcwE1CpzGi-N68g",
          "videoOwnerChannelTitle": "Pipoca & Nanquim"
         }
        },
        {
         "contentDetails": {
          "videoId": "N-ox544XhE0",
          "videoPublishedAt": "2023-11-24T22:31:48Z"
         },
         "etag": "kuFalBr7g3LQdcvdMHI2uVPsfvQ",
         "id": "VVVjcTFYdTNTS2N3RTFDcHpHaS1ONjhnLk4tb3g1NDRYaEUw",
         "kind": "youtube#playlistItem",
         "snippet": {
          "channelId": "UCcq1Xu3SKcwE1CpzGi-N68g",
          "channelTitle": "Pipoca & Nanquim",
          "description": "🎥 Catarse de Ogiva: https://www.catarse.me/Ogiva\n⚡ OGIVA, de Bruno Zago e Guilherme Petreca: https://amzn.to/2VBSr5L",
          "playlistId": "UUcq1Xu3SKcwE1CpzGi-N68g",
          "position": 3,
          "publishedAt": "2023-11-24T22:31:48Z",
          "resourceId": {
           "kind": "youtube#video",
           "videoId": "N-ox544XhE0"
          },
          "thumbnails": {
           "default": {
            "height": 90,
            "url": "https://i.ytimg.com/vi/N-ox544XhE0/default.jpg",
            "width": 120
           },
           "high": {
            "height": 360,
            "url": "https://i.ytimg.com/vi/N-ox544XhE0/hqdefault.jpg",
            "width": 480
           },
           "maxres": {
            "height": 720,
            "url": "https://i.ytimg.com/vi/N-ox544XhE0/maxresdefault.jpg",
            "width": 1280
           },
           "medium": {
            "height": 180,
            "url": "https://i.ytimg.com/vi/N-ox544XhE0/mqdefault.jpg",
            "width": 320
           },
           "standard": {
            "height": 480,
            "url": "https://i.ytimg.com/vi/N-ox544XhE0/sddefault.jpg",
            "width": 640
           }
          },
          "title": "Vem aí o nosso primeiro filme live-action!!",
          "videoOwnerChannelId": "UCcq1Xu3SKcwE1CpzGi-N68g",
          "videoOwnerChannelTitle": "Pipoca & Nanquim"
         }
        },
        {
         "contentDetails": {
          "videoId": "OKp86seA9O0",
          "videoPublishedAt": "2023-11-24T21:00:17Z"
         },
         "etag": "z1tinAOe0lAFueG_VgvTARvrS0s",
         "id": "VVVjcTFYdTNTS2N3RTFDcHpHaS1ONjhnLk9LcDg2c2VBOU8w",
         "kind": "youtube#playlistItem",
         "snippet": {
          "channelId": "UCcq1Xu3SKcwE1CpzGi-N68g",
          "channelTitle": "Pipoca & Nanquim",
          "description": "✨ Black Friday da Surfshark! Use o cupom de desconto PIPOCA para ganhar até 6 meses grátis na sua compra: https://surfshark.deals/pipoca\n\n📚 Quadrinhos, livros e mangás da editora Pipoca & Nanquim: https://amzn.to/3pwH2GV\n\nMais um vídeo no ar e hoje voltamos pra analisar a segunda temporada de Loki, da Disney +. \nNo melhor estilo Pipoca & Nanquim, Bruno Zago e Daniel Lopes, questionam até mesmo se as linhas do tempo seguradas pelo, agora Deus, Loki são ou não uma metáfora 😅\nE veja esse vídeo até o final, por que temos o primeiro react do canal!! \n\nSINOPSE DA SÉRIE:\nA série da Marvel pertence ao universo MCU e acontece após os eventos de Vingadores: Ultimato (2019). Na sua primeira parte, lançada no Disney+ em 2021, Loki é levado para a Autoridade de Variância Temporal (AVL) depois de roubar o Tesseract e recebe a difícil missão de capturar uma Variante de si mesmo sob a supervisão do agente Mobius (Owen Wilson). Na segunda temporada, Loki precisa lidar com os deslizes temporais que o fazem viajar involuntariamente entre o passado e o presente, consequência do caos deixado por Sylvie (Sophia Di Martino) no multiverso no final da primeira etapa da série.\n\nPRÉ-VENDAS DA EDITORA ROLANDO AGORA:\n🪐 AS ARMAS DOS METABARÕES + Caixa da Coleção (volume 3 de 3 da COLEÇÃO METABARÕES): https://amzn.to/3G6qCKb / https://bit.ly/metabaroes3pn\n🐴 BLUEBERRY Edição Definitiva Vol. 2 de 4: https://amzn.to/49H8Ivg / https://bit.ly/blueberry2pn\n👻 ZONA FANTASMA: mangá volume único, com sobrecapa, 4 cards exclusivos + deck box e marcador de página: https://amzn.to/3sgfJC8 / https://bit.ly/zonafantasmapn  (+5% OFF no pix em nosso site)\n💪 BOX CONAN, O BÁRBARO: Coleção Completa em 3 Volumes + Pôster + Livreto Inédito + Marcadores Exclusivos: https://amzn.to/3RZrMhV / https://bit.ly/boxconanpn\n\n🚀 EDIÇÃO DO VÍDEO: João Alves (@johndalves) \n-------------\nCAIXA POSTAL 81382\nCEP 08050-970 São Paulo/SP\n\nNOSSOS LINKS\n- Site e loja virtual: https://pipocaenanquim.com.br/\n- E-mail: pipocaenanquim@gmail.com\n- @pipocaenanquim \n- @alexandrecallari\n- @zagaiada\n- @danielgillopes\n\n#loki #marvel #pnextra \nReact pirado de Loki Season 2! COMO É ISSO DE PEGAR TIMELINE COM A MÃO? | PN Extra 364\nhttps://youtu.be/OKp86seA9O0",
          "playlistId": "UUcq1Xu3SKcwE1CpzGi-N68g",
          "position": 4,
          "publishedAt": "2023-11-24T21:00:17Z",
          "resourceId": {
           "kind": "youtube#video",
           "videoId": "OKp86seA9O0"
          },
          "thumbnails": {
           "default": {
            "height": 90,
            "url": "https://i.ytimg.com/vi/OKp86seA9O0/default.jpg",
            "width": 120
           },
           "high": {
            "height": 360,
            "url": "https://i.ytimg.com/vi/OKp86seA9O0/hqdefault.jpg",
            "width": 480
           },
           "maxres": {
            "height": 720,
            "url": "https://i.ytimg.com/vi/OKp86seA9O0/maxresdefault.jpg",
            "width": 1280
           },
           "medium": {
            "height": 180,
            "url": "https://i.ytimg.com/vi/OKp86seA9O0/mqdefault.jpg",
            "width": 320
           },
           "standard": {
            "height": 480,
            "url": "https://i.ytimg.com/vi/OKp86seA9O0/sddefault.jpg",
            "width": 640
           }
          },
          "title": "React pirado de Loki Season 2! COMO É ISSO DE PEGAR TIMELINE COM A MÃO? | PN Extra 364",
          "videoOwnerChannelId": "UCcq1Xu3SKcwE1CpzGi-N68g",
          "videoOwnerChannelTitle": "Pipoca & Nanquim"
         }
        },
        {
         "contentDetails": {
          "videoId": "zuwWcvObZCc",
          "videoPublishedAt": "2023-11-23T21:20:43Z"
         },
         "etag": "_Xk8mMvrpgZkbPNhJ_HmiddWG68",
         "id": "VVVjcTFYdTNTS2N3RTFDcHpHaS1ONjhnLnp1d1djdk9iWkNj",
         "kind": "youtube#playlistItem",
         "snippet": {
          "channelId": "UCcq1Xu3SKcwE1CpzGi-N68g",
          "channelTitle": "Pipoca & Nanquim",
          "description": "🎥 Catarse de Ogiva: https://www.catarse.me/Ogiva\n⚡ OGIVA, de Bruno Zago e Guilherme Petreca: https://amzn.to/2VBSr5L\n🎞️ INSTA: @monolito_producoes e @cadurosenfeld e @guilhermepetreca \n\nA realização de um sonho começou! O quadrinho Ogiva vai virar um filme live-action!!! \n\nBruno Zago lançou a HQ em 2020, ao lado de Guilherme Petreca, e foi a primeira obra 100% original Pipoca & Nanquim mesmo, com tudo sendo produzido dentro da editora. Agora, em 2023, em parceria com a produtora @MonolitoProducoes  de Cadu Rosenfeld, começa a produção do primeiro grande projeto audiovisual da editora! \n\nO inicio deste projeto que nos enche de orgulho já foi espetacular, por que ganhamos, em primeiro lugar, o edital da lei Paulo Gustavo da cidade de Indaiatuba, que incentiva a retomada de projetos culturais a estados, municípios e ao Distrito Federal.\n\nE, agora, estamos abrindo uma campanha no Catarse para ampliar e incrementar ainda mais esse projeto tão especial para nós. Aguardem novidades!! Começa dia 26/01!! \n\nYEAAAH! Valeu, galera!!\n\n📚 Quadrinhos, livros e mangás da editora Pipoca & Nanquim: https://amzn.to/3pwH2GV\n\n-------------\nCAIXA POSTAL 81382\nCEP 08050-970 São Paulo/SP\n\nNOSSOS LINKS\n- Site e loja virtual: https://pipocaenanquim.com.br/\n- E-mail: pipocaenanquim@gmail.com\n- @pipocaenanquim \n- @alexandrecallari\n- @zagaiada\n- @danielgillopes\n\n#ogivafilme #pipocaenanquim #monolitoproducoes",
          "playlistId": "UUcq1Xu3SKcwE1CpzGi-N68g",
          "position": 5,
          "publishedAt": "2023-11-23T21:20:43Z",
          "resourceId": {
           "kind": "youtube#video",
           "videoId": "zuwWcvObZCc"
          },
          "thumbnails": {
           "default": {
            "height": 90,
            "url": "https://i.ytimg.com/vi/zuwWcvObZCc/default.jpg",
            "width": 120
           },
           "high": {
            "height": 360,
            "url": "https://i.ytimg.com/vi/zuwWcvObZCc/hqdefault.jpg",
            "width": 480
           },
           "maxres": {
            "height": 720,
            "url": "https://i.ytimg.com/vi/zuwWcvObZCc/maxresdefault.jpg",
            "width": 1280
           },
           "medium": {
            "height": 180,
            "url": "https://i.ytimg.com/vi/zuwWcvObZCc/mqdefault.jpg",
            "width": 320
           },
           "standard": {
            "height": 480,
            "url": "https://i.ytimg.com/vi/zuwWcvObZCc/sddefault.jpg",
            "width": 640
           }
          },
          "title": "CONHEÇAM O DIRETOR DE OGIVA E A PRODUTORA DO FILME 🎥🎬",
          "videoOwnerChannelId": "UCcq1Xu3SKcwE1CpzGi-N68g",
          "videoOwnerChannelTitle": "Pipoca & Nanquim"
         }
        },
        {
         "contentDetails": {
          "videoId": "W12hQIzDtKs",
          "videoPublishedAt": "2023-11-23T04:51:11Z"
         },
         "etag": "8WJeQLn-Mn_F0EX4wVJbGUYXjyw",
         "id": "VVVjcTFYdTNTS2N3RTFDcHpHaS1ONjhnLlcxMmhRSXpEdEtz",
         "kind": "youtube#playlistItem",
         "snippet": {
          "channelId": "UCcq1Xu3SKcwE1CpzGi-N68g",
          "channelTitle": "Pipoca & Nanquim",
          "description": "⚡ BLACK FRIDAY NA AMAZON: https://amzn.to/3sLPu6Z\r\n⚡ FILME DO OGIVA (Link do Catarse para se inscrever): https://www.catarse.me/ogiva\n⚡ SEJA VIP DO NOSSO CONTEÚDO: https://links.pipocaenanquim.com.br/\n⚡ OGIVA, de Bruno Zago e Guilherme Petreca: https://amzn.to/2VBSr5L\n⚡ INSTA: @monolito_producoes e @cadurosenfeld e @guilhermepetreca \r\n\r\nPRÉ-VENDAS DA EDITORA\r\n🪐 AS ARMAS DOS METABARÕES + Caixa da Coleção (volume 3 de 3 da COLEÇÃO METABARÕES): https://amzn.to/3G6qCKb / https://bit.ly/metabaroes3pn \r\n🐴 BLUEBERRY Edição Definitiva Vol. 2 de 4 (de R$ 219,90 por R$ 153,90; compila seis álbuns originais, cada um sai por R$ 25,65, até 17/12/23): https://amzn.to/49H8Ivg / https://bit.ly/blueberry2pn \n👻 ZONA FANTASMA: mangá volume único, com sobrecapa, 4 cards exclusivos + deck box e marcador de página (Pré-venda 30% OFF até 29/11): https://amzn.to/3sgfJC8 / https://bit.ly/zonafantasmapn \n🔻 INCAL PSICOVERSO (pré-venda 30% OFF até 30/11, de R$ 99,90 por R$ 69,90): https://amzn.to/3Q2hivt / https://pipocaenanquim.com.br/incal-psicoverso-spin-off-oficial-de-incal.html \r\n\r\n-------------\r\nCAIXA POSTAL 81382\r\nCEP 08050-970 São Paulo/SP\r\n\r\nNOSSOS LINKS\r\n- Site e loja virtual: https://pipocaenanquim.com.br/\r\n- E-mail: pipocaenanquim@gmail.com\r\n- @pipocaenanquim \r\n- @alexandrecallari\r\n- @zagaiada\r\n- @danielgillopes",
          "playlistId": "UUcq1Xu3SKcwE1CpzGi-N68g",
          "position": 6,
          "publishedAt": "2023-11-23T04:51:11Z",
          "resourceId": {
           "kind": "youtube#video",
           "videoId": "W12hQIzDtKs"
          },
          "thumbnails": {
           "default": {
            "height": 90,
            "url": "https://i.ytimg.com/vi/W12hQIzDtKs/default.jpg",
            "width": 120
           },
           "high": {
            "height": 360,
            "url": "https://i.ytimg.com/vi/W12hQIzDtKs/hqdefault.jpg",
            "width": 480
           },
           "maxres": {
            "height": 720,
            "url": "https://i.ytimg.com/vi/W12hQIzDtKs/maxresdefault.jpg",
            "width": 1280
           },
           "medium": {
            "height": 180,
            "url": "https://i.ytimg.com/vi/W12hQIzDtKs/mqdefault.jpg",
            "width": 320
           },
           "standard": {
            "height": 480,
            "url": "https://i.ytimg.com/vi/W12hQIzDtKs/sddefault.jpg",
            "width": 640
           }
          },
          "title": "LIVE DE BLACK FRIDAY PAPEANDO E CORINGANDO LENTAMENTE",
          "videoOwnerChannelId": "UCcq1Xu3SKcwE1CpzGi-N68g",
          "videoOwnerChannelTitle": "Pipoca & Nanquim"
         }
        },
        {
         "contentDetails": {
          "videoId": "nlhkZycwAn0",
          "videoPublishedAt": "2023-11-23T00:26:24Z"
         },
         "etag": "9tlDy08kWBDBnR_iS1T-fG8Rqs8",
         "id": "VVVjcTFYdTNTS2N3RTFDcHpHaS1ONjhnLm5saGtaeWN3QW4w",
         "kind": "youtube#playlistItem",
         "snippet": {
          "channelId": "UCcq1Xu3SKcwE1CpzGi-N68g",
          "channelTitle": "Pipoca & Nanquim",
          "description": "⚡ APOIO: Evolukit Móveis Modulados. https://evolukit.com.br/\nAproveite a Black November Evolukit o mês inteiro com descontos incríveis! Produtos com até 8x s/juros ou 5% de desconto nos pagamentos á vista.\n\nPRÉ-VENDAS DA EDITORA ROLANDO AGORA:\n🪐 AS ARMAS DOS METABARÕES + Caixa da Coleção (volume 3 de 3 da COLEÇÃO METABARÕES): https://amzn.to/3G6qCKb / https://bit.ly/metabaroes3pn\n🐴 BLUEBERRY Edição Definitiva Vol. 2 de 4 (de R$ 219,90 por R$ 153,90; compila seis álbuns originais, cada um sai por R$ 25,65, até 17/12/23): https://amzn.to/49H8Ivg / https://bit.ly/blueberry2pn\n👻 ZONA FANTASMA: mangá volume único, com sobrecapa, 4 cards exclusivos + deck box e marcador de página (Pré-venda 30% OFF até 29/11): https://amzn.to/3sgfJC8 / https://bit.ly/zonafantasmapn  (+5% OFF no pix em nosso site)\n\nMais um ano de Pipoca & Nanquim na CCXP, e esse em específico será épico!! Nesse vídeo seguimos a tradição e deixamos nossa lista de recomendações do que levar pra autografar no evento. \n\nLISTA DE AUTORES DA CCXP 23\n\nAUTORES QUE PUBLICAM PELA PIPOCA & NANQUIM\n- Junji Ito (Estande da PN no Magic Market)\n- Camilo Solano (L07) \n- Pedro Mauro (A21-22) \n- Robson Moura (C25) \n- Jefferson Costa e Rafael Calça (L21-22) \n- Bianca Pinheiro (J-31-32)\n- Rafael Albuquerque (No Artist Valley, mas o site da CCXP não especificou a mesa)\n- Thobias Daneluz (J09-10)\n- Alexandre Carvalho (D08) \n- Linha do Trem / Raphael Salimena (F06)\n- Roy Thomas (H-05-06) \n- Mark Russell (I-07-08)\n- Enrique \"Quique\" Alcatena (J-11-12)\n\nCONVIDADOS INTERNACIONAIS \n- John Romita Jr. (E-07-08) \n- Gigi Cavenago (C-29-30)\n- Eduardo Risso (F-01-02) \n- Humberto Ramos (H-11-12)\n- Ariel Olivetti (D-19-20) \n- Pepe Larraz (G-11-12)\n- Lorenzo De Felici (C31-32) \n- Geoff Johns (sessões de autógrafos no espaço da Chiaroscuro Studios)\n- Joshua Cassara (J-21-22) \n- Julian Totino Tedesco (C-19-20) \n- Lea Murawiec (estande da editora Comix Zone, no Magic Market) \n- Box Brown (I-11-12) \n\nARTISTAS NACIONAIS\nO grande homenageado do Artists’ Valley este ano é MARCELO CAMPOS, criador do personagem Quebra-Queixo, foi um dos primeiros artistas nacionais a publicar nos Estados Unidos, foi um dos fundadores da Quanta Academia (ainda é o diretor e proprietário da escola).\n\n- Bilquis Evely e Matheus Lopes (I-03-04) \n- Mike Deodato (I-09-10) - \n- Laerte (K-01-02) \n- Carol Ito (L-31-32) \n- Fabiane Langona (K-09-10) \n- Helô D'Angelo (L-11-12) \n-Gabriela Borges | Mina de HQ (L-29-30) \n- Lucas Werneck (G05-06) \n- Rod Reis (C-09-10) \n- Carol Rossetti (D-29-30) \n- Guilherme de Sousa (J-39-40) \n- Greg Tocchini (I-21-22) \n- Hugo Canuto (B-21-22) \n\n🌸 EDIÇÃO DO VÍDEO: Jessica Torlezi (@jessica_torlezi)\n-------------\nCAIXA POSTAL 81382\nCEP 08050-970 São Paulo/SP\n\nNOSSOS LINKS\n- Site e loja virtual: https://pipocaenanquim.com.br/\n- E-mail: pipocaenanquim@gmail.com\n- @pipocaenanquim \n- @alexandrecallari\n- @zagaiada\n- @danielgillopes\n\n#ccxp23 #pnextra #quadrinhos\nGuia Completo do que levar pra autografar na CCXP23 (Artist's Valley + Nosso Estande) | PN Extra 363\nhttps://youtu.be/nlhkZycwAn0",
          "playlistId": "UUcq1Xu3SKcwE1CpzGi-N68g",
          "position": 7,
          "publishedAt": "2023-11-23T00:26:24Z",
          "resourceId": {
           "kind": "youtube#video",
           "videoId": "nlhkZycwAn0"
          },
          "thumbnails": {
           "default": {
            "height": 90,
            "url": "https://i.ytimg.com/vi/nlhkZycwAn0/default.jpg",
            "width": 120
           },
           "high": {
            "height": 360,
            "url": "https://i.ytimg.com/vi/nlhkZycwAn0/hqdefault.jpg",
            "width": 480
           },
           "maxres": {
            "height": 720,
            "url": "https://i.ytimg.com/vi/nlhkZycwAn0/maxresdefault.jpg",
            "width": 1280
           },
           "medium": {
            "height": 180,
            "url": "https://i.ytimg.com/vi/nlhkZycwAn0/mqdefault.jpg",
            "width": 320
           },
           "standard": {
            "height": 480,
            "url": "https://i.ytimg.com/vi/nlhkZycwAn0/sddefault.jpg",
            "width": 640
           }
          },
          "title": "Guia Completo do que levar pra autografar na CCXP23 (Artist's Valley + Nosso Estande) | PN Extra 363",
          "videoOwnerChannelId": "UCcq1Xu3SKcwE1CpzGi-N68g",
          "videoOwnerChannelTitle": "Pipoca & Nanquim"
         }
        },
        {
         "contentDetails": {
          "videoId": "zFVYAC5NRus",
          "videoPublishedAt": "2023-11-19T14:00:40Z"
         },
         "etag": "F9rLwOsSxiI7oIPmIUvBkt58-cg",
         "id": "VVVjcTFYdTNTS2N3RTFDcHpHaS1ONjhnLnpGVllBQzVOUnVz",
         "kind": "youtube#playlistItem",
         "snippet": {
          "channelId": "UCcq1Xu3SKcwE1CpzGi-N68g",
          "channelTitle": "Pipoca & Nanquim",
          "description": "🪐 AS ARMAS DOS METABARÕES + Caixa da Coleção (volume 3 de 3 da COLEÇÃO METABARÕES): https://amzn.to/3G6qCKb / https://bit.ly/metabaroes3pn\n🛸 A Casta dos Metabarões Vol. 2 (volume 2 de 3 da COLEÇÃO METABARÕES): https://amzn.to/3poCrGZ / https://bit.ly/metabaroes2pn\n🛡️ A Casta dos Metabarões Vol. 1 (volume 1 de 3 da COLEÇÃO METABARÕES): https://amzn.to/3CQSa4D / https://bit.ly/metabaroes1pn\n🔸 Trilogia TODO INCAL: https://amzn.to/38hBq6P\n📖 BÓRGIA Edição Integral: https://amzn.to/3m0UK3f / https://bit.ly/borgiapn\n\nA conclusão da grandiosa história da linhagem guerreira mais poderosa do universo!\n\nA editora Pipoca & Nanquim tem o orgulho de trazer ao Brasil, pela primeira vez, a coleção completa da saga dos Metabarões, o imperdível spin-off de Incal!\n\nEste terceiro volume tem formato luxuoso, capa dura com verniz localizado, 308 páginas coloridas impressas em papel couché de alta gramatura e reúne duas histórias escritas pelo lendário roteirista Alejandro Jodorowsky: CASTAKA (com desenhos de Das Pastoras), na qual conhecemos os ancestrais da casta dos Metabarões por meio das batalhas sangrentas entre dois clãs inimigos e a trágica história de amor entre Dayal e Antigrea, que os levará até o planeta Mármola; e AS ARMAS DOS METABARÕES (com desenhos de Travis Charest e Zoran Janjetov), um conto sobre como Sem-Nome, o último e mais poderoso guerreiro da casta, obteve as suas incríveis armas. \n\nAlém de Castaka e As Armas dos Metabarões, a edição traz ainda todo o conteúdo de A LINHAGEM DOS ANCESTRAIS, uma verdadeira enciclopédia que reúne conceitos, segredos e curiosidades acerca desta impressionante saga de ficção científica, encerrando com chave de ouro a coleção METABARÕES, que poderá ficar orgulhosamente exposta na prateleira dos colecionadores em um BOX EXCLUSIVO que acompanha este produto.\n\n\n🌸 EDIÇÃO DO VÍDEO: Jessica Torlezi (@jessica_torlezi)\n-------------\nCAIXA POSTAL 81382\nCEP 08050-970 São Paulo/SP\n\nNOSSOS LINKS\n- Site e loja virtual: https://pipocaenanquim.com.br/\n- E-mail: pipocaenanquim@gmail.com\n- @pipocaenanquim \n- @alexandrecallari\n- @zagaiada\n- @danielgillopes\n\n#castadosmetabarões #pipocaenanquim #quadrinhos\nO fim da coleção METABARÕES com o box pra guardar a trilogia | Pipoca e Nanquim 547\nhttps://youtu.be/zFVYAC5NRus",
          "playlistId": "UUcq1Xu3SKcwE1CpzGi-N68g",
          "position": 8,
          "publishedAt": "2023-11-19T14:00:40Z",
          "resourceId": {
           "kind": "youtube#video",
           "videoId": "zFVYAC5NRus"
          },
          "thumbnails": {
           "default": {
            "height": 90,
            "url": "https://i.ytimg.com/vi/zFVYAC5NRus/default.jpg",
            "width": 120
           },
           "high": {
            "height": 360,
            "url": "https://i.ytimg.com/vi/zFVYAC5NRus/hqdefault.jpg",
            "width": 480
           },
           "maxres": {
            "height": 720,
            "url": "https://i.ytimg.com/vi/zFVYAC5NRus/maxresdefault.jpg",
            "width": 1280
           },
           "medium": {
            "height": 180,
            "url": "https://i.ytimg.com/vi/zFVYAC5NRus/mqdefault.jpg",
            "width": 320
           },
           "standard": {
            "height": 480,
            "url": "https://i.ytimg.com/vi/zFVYAC5NRus/sddefault.jpg",
            "width": 640
           }
          },
          "title": "O fim da coleção METABARÕES com o box pra guardar a trilogia | Pipoca e Nanquim 547",
          "videoOwnerChannelId": "UCcq1Xu3SKcwE1CpzGi-N68g",
          "videoOwnerChannelTitle": "Pipoca & Nanquim"
         }
        },
        {
         "contentDetails": {
          "videoId": "IExl4oMlCN8",
          "videoPublishedAt": "2023-11-18T00:10:18Z"
         },
         "etag": "yUzSqlOoUPKPOrtHQIRzcpaOUSE",
         "id": "VVVjcTFYdTNTS2N3RTFDcHpHaS1ONjhnLklFeGw0b01sQ044",
         "kind": "youtube#playlistItem",
         "snippet": {
          "channelId": "UCcq1Xu3SKcwE1CpzGi-N68g",
          "channelTitle": "Pipoca & Nanquim",
          "description": "👻 ZONA FANTASMA: mangá volume único, com sobrecapa, 4 cards exclusivos + deck box e marcador de página (Pré-venda 30% OFF até 29/11): https://amzn.to/3sgfJC8 / https://bit.ly/zonafantasmapn  (+5% OFF no pix em nosso site)\n🎨 MANDALA DE FOGO mangá volume único, com sobrecapa, capa metalizada em bronze e marcador de página: https://amzn.to/3Q381V9 / https://bit.ly/mandalaon (+5% OFF no pix em nosso site)\n🐴 BLUEBERRY Edição Definitiva Vol. 2 de 4 (de R$ 219,90 por R$ 153,90; compila seis álbuns originais, cada um sai por R$ 25,65, até 17/12/23): https://amzn.to/49H8Ivg / https://bit.ly/blueberry2pn\n📚 Quadrinhos, livros e mangás da editora Pipoca & Nanquim: https://amzn.to/3pwH2GV\n\nDaniel Lopes trouxe de suas incríveis férias no Japão uma revista Weekly Shonen Jump novinha para folhearmos pra vocês. Então, no vídeo de hoje, junto de Bruno Zago e de seu ventiladorzinho portátil mega-útil, eles mostram tudo sobre uma revista semanal de quadrinhos japonesa e todas as suas publicações!\n\n🚀 EDIÇÃO DO VÍDEO: João Alves (@johndalves) \n-------------\nCAIXA POSTAL 81382\nCEP 08050-970 São Paulo/SP\n\nNOSSOS LINKS\n- Site e loja virtual: https://pipocaenanquim.com.br/\n- E-mail: pipocaenanquim@gmail.com\n- @pipocaenanquim \n- @alexandrecallari\n- @zagaiada\n- @danielgillopes\n\n#shonenjump #mangás #pnextra\nHistória da revista SHONEN JUMP e folheando uma inteira de forma detalhada | PN Extra 362\nhttps://youtu.be/IExl4oMlCN8",
          "playlistId": "UUcq1Xu3SKcwE1CpzGi-N68g",
          "position": 9,
          "publishedAt": "2023-11-18T00:10:18Z",
          "resourceId": {
           "kind": "youtube#video",
           "videoId": "IExl4oMlCN8"
          },
          "thumbnails": {
           "default": {
            "height": 90,
            "url": "https://i.ytimg.com/vi/IExl4oMlCN8/default.jpg",
            "width": 120
           },
           "high": {
            "height": 360,
            "url": "https://i.ytimg.com/vi/IExl4oMlCN8/hqdefault.jpg",
            "width": 480
           },
           "maxres": {
            "height": 720,
            "url": "https://i.ytimg.com/vi/IExl4oMlCN8/maxresdefault.jpg",
            "width": 1280
           },
           "medium": {
            "height": 180,
            "url": "https://i.ytimg.com/vi/IExl4oMlCN8/mqdefault.jpg",
            "width": 320
           },
           "standard": {
            "height": 480,
            "url": "https://i.ytimg.com/vi/IExl4oMlCN8/sddefault.jpg",
            "width": 640
           }
          },
          "title": "A História da SHONEN JUMP! Como é a Revista por Dentro? Mostrando TUDO! | PN Extra 362",
          "videoOwnerChannelId": "UCcq1Xu3SKcwE1CpzGi-N68g",
          "videoOwnerChannelTitle": "Pipoca & Nanquim"
         }
        },
        {
         "contentDetails": {
          "videoId": "9DY2YC8qgqY",
          "videoPublishedAt": "2023-11-15T21:06:54Z"
         },
         "etag": "F9mKIkamCalSAh5I00hrSZmvAvU",
         "id": "VVVjcTFYdTNTS2N3RTFDcHpHaS1ONjhnLjlEWTJZQzhxZ3FZ",
         "kind": "youtube#playlistItem",
         "snippet": {
          "channelId": "UCcq1Xu3SKcwE1CpzGi-N68g",
          "channelTitle": "Pipoca & Nanquim",
          "description": "⚡ APOIO: Evolukit Móveis Modulados. https://evolukit.com.br/\nAproveite a Black November Evolukit o mês inteiro com descontos incríveis! Produtos com até 8x s/juros ou 5% de desconto nos pagamentos á vista.\n\n📚 Quadrinhos, livros e mangás da editora Pipoca & Nanquim: https://amzn.to/3pwH2GV\n\nAssistimos As Marvels, o mais novo filme do MCU!  No vídeo de hoje, viemos falar nossa crítica com spoilers, e também comentar do porquê achamos que o universo cinematográfico da Marvel anda tão inconsistente depois do Ultimato.  \n\nSINOPSE DO FILME\nSequência direta de Capitã Marvel (2019) e das séries WandaVision (2021) e Ms. Marvel (2022), do Disney+, o longa-metragem dirigido por Nia DaCosta (A Lenda de Candyman) apresenta a seguinte história:\n\nCarol Danvers, vulgo Capitã Marvel, recuperou sua identidade da tirania dos Kree e se vingou da Inteligência Suprema. No entanto, consequências não intencionais fazem com que Carol assuma o fardo de um universo desestabilizado. Quando suas obrigações levam Carol até uma fenda espacial anômala ligada a um revolucionário Kree, seus poderes se entrelaçam aos de Kamala Khan, uma super fã de Jersey City, vulgo Ms. Marvel, e aos da sobrinha de Carol, atual astronauta da S.A.B.E.R., a Capitã Monica Rambeau. Juntas, esse trio improvável precisará se unir e aprender a trabalhar em conjunto para salvar o universo como \"As Marvels\".\n\nPRÉ-VENDAS DA NOSSA EDITORA ROLANDO AGORA\n🐴 BLUEBERRY Edição Definitiva Vol. 2 de 4: https://amzn.to/49H8Ivg / https://bit.ly/blueberry2pn\n👻 ZONA FANTASMA: https://amzn.to/3sgfJC8 / https://bit.ly/zonafantasmapn  (+5% OFF no pix em nosso site)\n💪 BOX CONAN, O BÁRBARO: Coleção Completa em 3 Volumes + Pôster + Livreto Inédito + Marcadores Exclusivos: https://amzn.to/3RZrMhV / https://bit.ly/boxconanpn \n🔻 INCAL PSICOVERSO: https://amzn.to/3Q2hivt / https://bit.ly/incalpsicoversopn\n\n🌸 EDIÇÃO DO VÍDEO: Jessica Torlezi (@jessica_torlezi)\n-------------\nCAIXA POSTAL 81382\nCEP 08050-970 São Paulo/SP\n\nNOSSOS LINKS\n- Site e loja virtual: https://pipocaenanquim.com.br/\n- E-mail: pipocaenanquim@gmail.com\n- @pipocaenanquim \n- @alexandrecallari\n- @zagaiada\n- @danielgillopes\n\n#marvel #asmarvels #pipocaenanquim \nAS MARVELS (com spoilers) e a monotonia do atual Universo Marvel do cinema | Pipoca e Nanquim 546\nhttps://youtu.be/9DY2YC8qgqY",
          "playlistId": "UUcq1Xu3SKcwE1CpzGi-N68g",
          "position": 10,
          "publishedAt": "2023-11-15T21:06:54Z",
          "resourceId": {
           "kind": "youtube#video",
           "videoId": "9DY2YC8qgqY"
          },
          "thumbnails": {
           "default": {
            "height": 90,
            "url": "https://i.ytimg.com/vi/9DY2YC8qgqY/default.jpg",
            "width": 120
           },
           "high": {
            "height": 360,
            "url": "https://i.ytimg.com/vi/9DY2YC8qgqY/hqdefault.jpg",
            "width": 480
           },
           "maxres": {
            "height": 720,
            "url": "https://i.ytimg.com/vi/9DY2YC8qgqY/maxresdefault.jpg",
            "width": 1280
           },
           "medium": {
            "height": 180,
            "url": "https://i.ytimg.com/vi/9DY2YC8qgqY/mqdefault.jpg",
            "width": 320
           },
           "standard": {
            "height": 480,
            "url": "https://i.ytimg.com/vi/9DY2YC8qgqY/sddefault.jpg",
            "width": 640
           }
          },
          "title": "AS MARVELS (com spoilers) e a monotonia do atual Universo Marvel do cinema | Pipoca e Nanquim 546",
          "videoOwnerChannelId": "UCcq1Xu3SKcwE1CpzGi-N68g",
          "videoOwnerChannelTitle": "Pipoca & Nanquim"
         }
        },
        {
         "contentDetails": {
          "videoId": "wgRUUKD3kuA",
          "videoPublishedAt": "2023-11-12T14:00:38Z"
         },
         "etag": "MM0umeEwvvlfjhLbzzZGAMAJacM",
         "id": "VVVjcTFYdTNTS2N3RTFDcHpHaS1ONjhnLndnUlVVS0Qza3VB",
         "kind": "youtube#playlistItem",
         "snippet": {
          "channelId": "UCcq1Xu3SKcwE1CpzGi-N68g",
          "channelTitle": "Pipoca & Nanquim",
          "description": "🐴 BLUEBERRY Edição Definitiva Vol. 2 de 4 (de R$ 219,90 por R$ 153,90; compila seis álbuns originais, cada um sai por R$ 25,65, até 17/12/23): https://amzn.to/49H8Ivg / https://bit.ly/blueberry2pn\n🤠 BLUEBERRY Edição Definitiva Vol. 1 de 4: https://amzn.to/3qpBYEB / https://bit.ly/blueberry1pn\n👉 BLOG BLUEBERRY, por Afrânio Braga: https://blueberrybr.blogspot.com/\n\n📚 Quadrinhos, livros e mangás da editora Pipoca & Nanquim: https://amzn.to/3pwH2GV\n\nUma das mais famosas e importantes sagas da história dos quadrinhos mundiais segue com sua publicação em uma COLEÇÃO INTEGRAL e DEFINITIVA! \n\nBlueberry é a criação máxima da lendária dupla franco-belga Jean-Michel Charlier e Jean Giraud (que mais tarde se tornaria mundialmente conhecido como Moebius), e em 2023, 60 anos após a publicação da primeira história desse tenente do velho-oeste, ela começa a sair por completo no Brasil pela Pipoca & Nanquim, para a satisfação dos antigos fãs, que nunca tiveram a chance de ler o clássico em sua totalidade, e dos novos leitores, que terão a oportunidade de conhecer um marco universal das HQs! \n\nNeste segundo volume da série, quando todos pensavam que os esforços de Blueberry haviam sido suficientes para impedir um massacre e assegurar a paz entre brancos e indígenas, eis que o destino o coloca sob as ordens do general McAllister, um oficial autoritário que vê o extermínio dos povos nativos dos EUA como algo glorioso. Também conhecido “Cabeça-Amarela”, o general sonha com fama e renome, e fará de tudo para alcançá-los, mesmo que isso signifique uma chacina de milhares de inocentes. \n\nVítima desse mesmo autoritarismo, Blueberry é transferido para ser xerife na cidade de Palomito, e cai nas tramoias de um vigarista chamado Luckner, cujas histórias sobre uma fabulosa mina de ouro parecem boas demais para ser verdade... Depois, mais uma vez a carreira militar coloca o tenente em risco, quando ele recebe uma missão de extrema importância, que é recuperar o tesouro dos confederados que se encontra em algum lugar do México. \n\nPara tanto, precisa “apenas” fingir ser um criminoso, entrar no país clandestinamente e efetuar o resgate sem qualquer apoio oficial, contando única e exclusivamente com a ajuda de seus velhos parceiros, Jimmy Mc Clure e Red Neck! Blueberry – Edição Definitiva Volume 2, com 388 páginas coloridas impressas em papel offset, capa dura e formato grande, reúne as edições integrais francesas 4 e 5, que trazem seis álbuns: General Cabeça-Amarela, A Mina do Alemão Perdido, O Espectro das Balas de Ouro, Chihuahua Pearl, O Homem que Valia 500.000 Dólares e Balada para um Caixão. \n\nNo início de cada etapa de um integral francês, entra um vasto conteúdo extra que conta os bastidores da concepção do personagem e dos seus inesquecíveis coadjuvantes, além da contextualização da época e a maneira como seus criadores se envolveram com a obra.\n\n🌸 EDIÇÃO DO VÍDEO: Jessica Torlezi (@jessica_torlezi)\n-------------\nCAIXA POSTAL 81382\nCEP 08050-970 São Paulo/SP\n\nNOSSOS LINKS\n- Site e loja virtual: https://pipocaenanquim.com.br/\n- E-mail: pipocaenanquim@gmail.com\n- @pipocaenanquim \n- @alexandrecallari\n- @zagaiada\n- @danielgillopes\n\n#blueberry #quadrinhos #pipocaenanquim \nAs histórias mais consagradas de BLUEBERRY no volume 2 da Edição Definitiva | Pipoca e Nanquim 545\nhttps://youtu.be/wgRUUKD3kuA",
          "playlistId": "UUcq1Xu3SKcwE1CpzGi-N68g",
          "position": 11,
          "publishedAt": "2023-11-12T14:00:38Z",
          "resourceId": {
           "kind": "youtube#video",
           "videoId": "wgRUUKD3kuA"
          },
          "thumbnails": {
           "default": {
            "height": 90,
            "url": "https://i.ytimg.com/vi/wgRUUKD3kuA/default.jpg",
            "width": 120
           },
           "high": {
            "height": 360,
            "url": "https://i.ytimg.com/vi/wgRUUKD3kuA/hqdefault.jpg",
            "width": 480
           },
           "maxres": {
            "height": 720,
            "url": "https://i.ytimg.com/vi/wgRUUKD3kuA/maxresdefault.jpg",
            "width": 1280
           },
           "medium": {
            "height": 180,
            "url": "https://i.ytimg.com/vi/wgRUUKD3kuA/mqdefault.jpg",
            "width": 320
           },
           "standard": {
            "height": 480,
            "url": "https://i.ytimg.com/vi/wgRUUKD3kuA/sddefault.jpg",
            "width": 640
           }
          },
          "title": "As histórias mais consagradas de BLUEBERRY no volume 2 da Edição Definitiva | Pipoca e Nanquim 545",
          "videoOwnerChannelId": "UCcq1Xu3SKcwE1CpzGi-N68g",
          "videoOwnerChannelTitle": "Pipoca & Nanquim"
         }
        },
        {
         "contentDetails": {
          "videoId": "RZIapHA1KLY",
          "videoPublishedAt": "2023-11-10T22:00:15Z"
         },
         "etag": "hG5ktVx7CEPZsLpz6jQ99_cOlNA",
         "id": "VVVjcTFYdTNTS2N3RTFDcHpHaS1ONjhnLlJaSWFwSEExS0xZ",
         "kind": "youtube#playlistItem",
         "snippet": {
          "channelId": "UCcq1Xu3SKcwE1CpzGi-N68g",
          "channelTitle": "Pipoca & Nanquim",
          "description": "⚡ APOIO: Evolukit Móveis Modulados. https://evolukit.com.br/\nAproveite a Black November Evolukit o mês inteiro com descontos incríveis! Produtos com até 8x s/juros ou 5% de desconto nos\npagamentos á vista.\n\n📚 Quadrinhos, livros e mangás da editora Pipoca & Nanquim: https://amzn.to/3pwH2GV\n\nAssistimos As Marvels, o mais novo filme do MCU! \n\nSequência direta de Capitã Marvel (2019) e das séries WandaVision (2021) e Ms. Marvel (2022), do Disney+, o longa-metragem dirigido por Nia DaCosta (A Lenda de Candyman) apresenta a seguinte história:\n\nCarol Danvers, vulgo Capitã Marvel, recuperou sua identidade da tirania dos Kree e se vingou da Inteligência Suprema. No entanto, consequências não intencionais fazem com que Carol assuma o fardo de um universo desestabilizado. Quando suas obrigações levam Carol até uma fenda espacial anômala ligada a um revolucionário Kree, seus poderes se entrelaçam aos de Kamala Khan, uma super fã de Jersey City, vulgo Ms. Marvel, e aos da sobrinha de Carol, atual astronauta da S.A.B.E.R., a Capitã Monica Rambeau. Juntas, esse trio improvável precisará se unir e aprender a trabalhar em conjunto para salvar o universo como \"As Marvels\".\n\nPRÉ-VENDAS DA NOSSA EDITORA ROLANDO AGORA\n🐴 BLUEBERRY Edição Definitiva Vol. 2 de 4: https://amzn.to/49H8Ivg / https://bit.ly/blueberry2pn\n👻 ZONA FANTASMA: https://amzn.to/3sgfJC8 / https://bit.ly/zonafantasmapn  (+5% OFF no pix em nosso site)\n💪 BOX CONAN, O BÁRBARO: Coleção Completa em 3 Volumes + Pôster + Livreto Inédito + Marcadores Exclusivos: https://amzn.to/3RZrMhV / https://bit.ly/boxconanpn \n🔻 INCAL PSICOVERSO: https://amzn.to/3Q2hivt / https://bit.ly/incalpsicoversopn\n\n\n🌸 EDIÇÃO DO VÍDEO: Jessica Torlezi (@jessica_torlezi)\n-------------\nCAIXA POSTAL 81382\nCEP 08050-970 São Paulo/SP\n\nNOSSOS LINKS\n- Site e loja virtual: https://pipocaenanquim.com.br/\n- E-mail: pipocaenanquim@gmail.com\n- @pipocaenanquim \n- @alexandrecallari\n- @zagaiada\n- @danielgillopes\n\n#asmarvels #marvel #pipocaenanquim \nE ISSO NÃO É ALGO NECESSARIAMENTE RUIM! Crítica As Marvels (sem spoilers) | Pipoca e Nanquim 544\nhttps://youtu.be/RZIapHA1KLY",
          "playlistId": "UUcq1Xu3SKcwE1CpzGi-N68g",
          "position": 12,
          "publishedAt": "2023-11-10T22:00:15Z",
          "resourceId": {
           "kind": "youtube#video",
           "videoId": "RZIapHA1KLY"
          },
          "thumbnails": {
           "default": {
            "height": 90,
            "url": "https://i.ytimg.com/vi/RZIapHA1KLY/default.jpg",
            "width": 120
           },
           "high": {
            "height": 360,
            "url": "https://i.ytimg.com/vi/RZIapHA1KLY/hqdefault.jpg",
            "width": 480
           },
           "maxres": {
            "height": 720,
            "url": "https://i.ytimg.com/vi/RZIapHA1KLY/maxresdefault.jpg",
            "width": 1280
           },
           "medium": {
            "height": 180,
            "url": "https://i.ytimg.com/vi/RZIapHA1KLY/mqdefault.jpg",
            "width": 320
           },
           "standard": {
            "height": 480,
            "url": "https://i.ytimg.com/vi/RZIapHA1KLY/sddefault.jpg",
            "width": 640
           }
          },
          "title": "E ISSO NÃO É ALGO NECESSARIAMENTE RUIM! Crítica As Marvels (sem spoilers) | Pipoca e Nanquim 544",
          "videoOwnerChannelId": "UCcq1Xu3SKcwE1CpzGi-N68g",
          "videoOwnerChannelTitle": "Pipoca & Nanquim"
         }
        },
        {
         "contentDetails": {
          "videoId": "ub3Lu0KKGls",
          "videoPublishedAt": "2023-11-08T23:44:03Z"
         },
         "etag": "Gage2iZJtTKegNJAlsuybHtit6k",
         "id": "VVVjcTFYdTNTS2N3RTFDcHpHaS1ONjhnLnViM0x1MEtLR2xz",
         "kind": "youtube#playlistItem",
         "snippet": {
          "channelId": "UCcq1Xu3SKcwE1CpzGi-N68g",
          "channelTitle": "Pipoca & Nanquim",
          "description": "⚡ OGIVA, de Bruno Zago e Guilherme Petreca: https://amzn.to/2VBSr5L\n⚡ INSTA: @monolito_producoes e @cadurosenfeld e @guilhermepetreca \n📚 Quadrinhos, livros e mangás da editora Pipoca & Nanquim: https://amzn.to/3pwH2GV\n\nA realização de um sonho começou! O quadrinho Ogiva vai virar um filme live-action!!! \n\nBruno Zago lançou a HQ em 2020, ao lado de Guilherme Petreca, e foi a primeira obra 100% original Pipoca & Nanquim mesmo, com tudo sendo produzido dentro da editora. Agora, em 2023, em parceria com a produtora Monolito, de Cadu Rosenfeld, começa a produção do primeiro grande projeto audiovisual da editora! \n\nO inicio deste projeto que nos enche de orgulho já foi espetacular, por que ganhamos, em primeiro lugar, o edital da lei Paulo Gustavo da cidade de Indaiatuba, que incentiva a retomada de projetos culturais a estados, municípios e ao Distrito Federal.\n\nE, muito em breve, vamos abrir uma campanha no Catarse para ampliar e incrementar ainda mais esse projeto tão especial para nós. Aguardem novidades!! YEAAAH! Valeu, galera!!\n\n\n🌸 EDIÇÃO DO VÍDEO: Jessica Torlezi (@jessica_torlezi)\n-------------\nCAIXA POSTAL 81382\nCEP 08050-970 São Paulo/SP\n\nNOSSOS LINKS\n- Site e loja virtual: https://pipocaenanquim.com.br/\n- E-mail: pipocaenanquim@gmail.com\n- @pipocaenanquim \n- @alexandrecallari\n- @zagaiada\n- @danielgillopes\n\n#sagadaeditora #ogiva #quadrinhos\nO PRIMEIRO FILME DE UM QUADRINHO ORIGINAL DA NOSSA EDITORA 😍 | Saga da Editora 143\nhttps://youtu.be/ub3Lu0KKGls",
          "playlistId": "UUcq1Xu3SKcwE1CpzGi-N68g",
          "position": 13,
          "publishedAt": "2023-11-08T23:44:03Z",
          "resourceId": {
           "kind": "youtube#video",
           "videoId": "ub3Lu0KKGls"
          },
          "thumbnails": {
           "default": {
            "height": 90,
            "url": "https://i.ytimg.com/vi/ub3Lu0KKGls/default.jpg",
            "width": 120
           },
           "high": {
            "height": 360,
            "url": "https://i.ytimg.com/vi/ub3Lu0KKGls/hqdefault.jpg",
            "width": 480
           },
           "maxres": {
            "height": 720,
            "url": "https://i.ytimg.com/vi/ub3Lu0KKGls/maxresdefault.jpg",
            "width": 1280
           },
           "medium": {
            "height": 180,
            "url": "https://i.ytimg.com/vi/ub3Lu0KKGls/mqdefault.jpg",
            "width": 320
           },
           "standard": {
            "height": 480,
            "url": "https://i.ytimg.com/vi/ub3Lu0KKGls/sddefault.jpg",
            "width": 640
           }
          },
          "title": "O PRIMEIRO FILME DE UM QUADRINHO ORIGINAL PIPOCA E NANQUIM 😍 | Saga da Editora 143",
          "videoOwnerChannelId": "UCcq1Xu3SKcwE1CpzGi-N68g",
          "videoOwnerChannelTitle": "Pipoca & Nanquim"
         }
        },
        {
         "contentDetails": {
          "videoId": "lI3DjepsqtY",
          "videoPublishedAt": "2023-11-05T15:55:22Z"
         },
         "etag": "XiSGYFURGtmmdfQlB1uIIk_infQ",
         "id": "VVVjcTFYdTNTS2N3RTFDcHpHaS1ONjhnLmxJM0RqZXBzcXRZ",
         "kind": "youtube#playlistItem",
         "snippet": {
          "channelId": "UCcq1Xu3SKcwE1CpzGi-N68g",
          "channelTitle": "Pipoca & Nanquim",
          "description": "👺 KOGARASHI MONJIROU: O Prenúncio do Inverno: https://amzn.to/4824yNu / https://bit.ly/monjiroupn\n🍵 A Lenda de MUSASHI: https://amzn.to/3P41PKH / https://bit.ly/musashipn\n⛩️  MIYAMOTO MUSASHI, biografia em mangá: https://amzn.to/3ALXzcu\n\n⚔️ Outros mangás de SAMURAI da editora Pipoca e Nanquim: https://amzn.to/3Xwew4v\n📚 Quadrinhos, livros e mangás da editora Pipoca & Nanquim: https://amzn.to/3pwH2GV\n\nRecentemente Alexandre Callari e Bruno Zago fizeram um Papel Jornal sobre o primeiro mangá do Brasil: Lobo Solitário, da já extinta editora Cedibra. Não muito tempo depois disso, Alexandre arrematou uma revista rara da também falecida editora Edrel, e se deparou com algo curioso: um capitulo aleatório do mangá Lobo Solitário! Porém, com certas diferenças do material editado pela Cedibra, e isso 16 anos antes! Seria essa a real primeira primeira publicação de Lobo Solitário no Brasil?\n\nPRÉ-VENDAS DA NOSSA EDITORA ROLANDO AGORA\n👻 ZONA FANTASMA: https://amzn.to/3sgfJC8 / https://bit.ly/zonafantasmapn  (+5% OFF no pix em nosso site)\n💪 BOX CONAN, O BÁRBARO: Coleção Completa em 3 Volumes + Pôster + Livreto Inédito + Marcadores Exclusivos (pré-venda de R$ 229,90 por R$ 160,90, cada livro sai por R$ 53,64): https://amzn.to/3RZrMhV / https://bit.ly/boxconanpn \n🔻 INCAL PSICOVERSO: https://amzn.to/3Q2hivt / https://bit.ly/incalpsicoversopn\n\n🌸 EDIÇÃO DO VÍDEO: Jessica Torlezi (@jessica_torlezi)\n-------------\nCAIXA POSTAL 81382\nCEP 08050-970 São Paulo/SP\n\nNOSSOS LINKS\n- Site e loja virtual: https://pipocaenanquim.com.br/\n- E-mail: pipocaenanquim@gmail.com\n- @pipocaenanquim \n- @alexandrecallari\n- @zagaiada\n- @danielgillopes\n\n#lobosolitário #papeljornal #mangás\nA Maior PICARATAGEM já feita com mangás no Brasil: LOBO SOLITÁRIO PIRATA | Papel Jornal 48\nhttps://youtu.be/lI3DjepsqtY",
          "playlistId": "UUcq1Xu3SKcwE1CpzGi-N68g",
          "position": 14,
          "publishedAt": "2023-11-05T15:55:22Z",
          "resourceId": {
           "kind": "youtube#video",
           "videoId": "lI3DjepsqtY"
          },
          "thumbnails": {
           "default": {
            "height": 90,
            "url": "https://i.ytimg.com/vi/lI3DjepsqtY/default.jpg",
            "width": 120
           },
           "high": {
            "height": 360,
            "url": "https://i.ytimg.com/vi/lI3DjepsqtY/hqdefault.jpg",
            "width": 480
           },
           "maxres": {
            "height": 720,
            "url": "https://i.ytimg.com/vi/lI3DjepsqtY/maxresdefault.jpg",
            "width": 1280
           },
           "medium": {
            "height": 180,
            "url": "https://i.ytimg.com/vi/lI3DjepsqtY/mqdefault.jpg",
            "width": 320
           },
           "standard": {
            "height": 480,
            "url": "https://i.ytimg.com/vi/lI3DjepsqtY/sddefault.jpg",
            "width": 640
           }
          },
          "title": "A Maior PICARETAGEM já feita com mangás no Brasil: LOBO SOLITÁRIO PIRATA | Papel Jornal 48",
          "videoOwnerChannelId": "UCcq1Xu3SKcwE1CpzGi-N68g",
          "videoOwnerChannelTitle": "Pipoca & Nanquim"
         }
        },
        {
         "contentDetails": {
          "videoId": "o_cMPFifgbE",
          "videoPublishedAt": "2023-11-03T21:00:25Z"
         },
         "etag": "xwoyaL-MrvNxcSuZCmFv65kfVxM",
         "id": "VVVjcTFYdTNTS2N3RTFDcHpHaS1ONjhnLm9fY01QRmlmZ2JF",
         "kind": "youtube#playlistItem",
         "snippet": {
          "channelId": "UCcq1Xu3SKcwE1CpzGi-N68g",
          "channelTitle": "Pipoca & Nanquim",
          "description": "⛩️  MIYAMOTO MUSASHI, biografia em mangá: https://amzn.to/3ALXzcu\n🍵 A Lenda de MUSASHI: https://amzn.to/3P41PKH / https://bit.ly/musashipn\n👺 KOGARASHI MONJIROU: O Prenúncio do Inverno: https://amzn.to/4824yNu / https://bit.ly/monjiroupn\n\n⚔️ Outros mangás de SAMURAI da editora Pipoca e Nanquim: https://amzn.to/3Xwew4v\n📚 Quadrinhos, livros e mangás da editora Pipoca & Nanquim: https://amzn.to/3pwH2GV\n\nAssistimos Onimusha, que estreou na Netflix. Que anime sensacional!! Baseado nos jogos da Capcom, a série segue o histórico samurai Miyamoto Musashi combatendo forças sobrenaturais no Japão antigo. \n\nA animação foi dirigida por Takashi Miike (13 Assassinos), ao lado de Shinya Sugai, responsável pela animação em 3D, e o modelo do protagonista Musashi foi desenvolvido com base no famoso astro de filmes samurais Toshiro Mifune, que interpretou Musashi no passado. E, no Sessão Pipoca, de hoje vamos falar sobre essa série espetacular, sem spoilers, tá!! \n\nPRÉ-VENDAS DA NOSSA EDITORA ROLANDO AGORA\n👻 ZONA FANTASMA: https://amzn.to/3sgfJC8 / https://bit.ly/zonafantasmapn  (+5% OFF no pix em nosso site)\n💪 BOX CONAN, O BÁRBARO: Coleção Completa em 3 Volumes + Pôster + Livreto Inédito + Marcadores Exclusivos (pré-venda de R$ 229,90 por R$ 160,90, cada livro sai por R$ 53,64): https://amzn.to/3RZrMhV / https://bit.ly/boxconanpn \n🔻 INCAL PSICOVERSO: https://amzn.to/3Q2hivt / https://bit.ly/incalpsicoversopn\n\nSINOPSE DO ANIME: \nBaseada na clássica franquia de jogos da Capcom, a série Onimusha seguirá a jornada de Miyamoto Musashi em um Japão no início do Período Edo. Com o fim das tensões das guerras e um período de paz se instalando na Era dos Reinos Combatentes do Japão, Musashi recebe uma importante missão secreta para caçar os demônios. Recebendo um lendário instrumento, a espada Oni Gauntlet, ele parte em uma viagem enfrentando perigosas jornadas para derrotar Genma, uma temível raça de demônios.\n\n🌸 EDIÇÃO DO VÍDEO: Jessica Torlezi (@jessica_torlezi)\n-------------\nCAIXA POSTAL 81382\nCEP 08050-970 São Paulo/SP\n\nNOSSOS LINKS\n- Site e loja virtual: https://pipocaenanquim.com.br/\n- E-mail: pipocaenanquim@gmail.com\n- @pipocaenanquim \n- @alexandrecallari\n- @zagaiada\n- @danielgillopes\n\n#anime #netflix #sessãopipoca\nMUSASHI enfrentando Demônios e Zumbis num Anime Incrível da Netflix: ONIMUSHA | Sessão Pipoca 96\nhttps://youtu.be/o_cMPFifgbE",
          "playlistId": "UUcq1Xu3SKcwE1CpzGi-N68g",
          "position": 15,
          "publishedAt": "2023-11-03T21:00:25Z",
          "resourceId": {
           "kind": "youtube#video",
           "videoId": "o_cMPFifgbE"
          },
          "thumbnails": {
           "default": {
            "height": 90,
            "url": "https://i.ytimg.com/vi/o_cMPFifgbE/default.jpg",
            "width": 120
           },
           "high": {
            "height": 360,
            "url": "https://i.ytimg.com/vi/o_cMPFifgbE/hqdefault.jpg",
            "width": 480
           },
           "maxres": {
            "height": 720,
            "url": "https://i.ytimg.com/vi/o_cMPFifgbE/maxresdefault.jpg",
            "width": 1280
           },
           "medium": {
            "height": 180,
            "url": "https://i.ytimg.com/vi/o_cMPFifgbE/mqdefault.jpg",
            "width": 320
           },
           "standard": {
            "height": 480,
            "url": "https://i.ytimg.com/vi/o_cMPFifgbE/sddefault.jpg",
            "width": 640
           }
          },
          "title": "O Anime mais “Massaveio” da Netflix: ONIMUSHA | Sessão Pipoca 96",
          "videoOwnerChannelId": "UCcq1Xu3SKcwE1CpzGi-N68g",
          "videoOwnerChannelTitle": "Pipoca & Nanquim"
         }
        },
        {
         "contentDetails": {
          "videoId": "czLAywl2Jeg",
          "videoPublishedAt": "2023-11-02T22:12:54Z"
         },
         "etag": "5POBeZA4VZ5PtvqpkN8KhiwugZ4",
         "id": "VVVjcTFYdTNTS2N3RTFDcHpHaS1ONjhnLmN6TEF5d2wySmVn",
         "kind": "youtube#playlistItem",
         "snippet": {
          "channelId": "UCcq1Xu3SKcwE1CpzGi-N68g",
          "channelTitle": "Pipoca & Nanquim",
          "description": "",
          "playlistId": "UUcq1Xu3SKcwE1CpzGi-N68g",
          "position": 16,
          "publishedAt": "2023-11-02T22:12:54Z",
          "resourceId": {
           "kind": "youtube#video",
           "videoId": "czLAywl2Jeg"
          },
          "thumbnails": {
           "default": {
            "height": 90,
            "url": "https://i.ytimg.com/vi/czLAywl2Jeg/default.jpg",
            "width": 120
           },
           "high": {
            "height": 360,
            "url": "https://i.ytimg.com/vi/czLAywl2Jeg/hqdefault.jpg",
            "width": 480
           },
           "maxres": {
            "height": 720,
            "url": "https://i.ytimg.com/vi/czLAywl2Jeg/maxresdefault.jpg",
            "width": 1280
           },
           "medium": {
            "height": 180,
            "url": "https://i.ytimg.com/vi/czLAywl2Jeg/mqdefault.jpg",
            "width": 320
           },
           "standard": {
            "height": 480,
            "url": "https://i.ytimg.com/vi/czLAywl2Jeg/sddefault.jpg",
            "width": 640
           }
          },
          "title": "Ele trouxe uma revista Shounen Jump do Japão! #quadrinhos #pipocaenanquim #mangás",
          "videoOwnerChannelId": "UCcq1Xu3SKcwE1CpzGi-N68g",
          "videoOwnerChannelTitle": "Pipoca & Nanquim"
         }
        },
        {
         "contentDetails": {
          "videoId": "4bakkaayCNw",
          "videoPublishedAt": "2023-11-01T22:50:20Z"
         },
         "etag": "GdPgQSWksRKOUh38Tu62gEJmCps",
         "id": "VVVjcTFYdTNTS2N3RTFDcHpHaS1ONjhnLjRiYWtrYWF5Q053",
         "kind": "youtube#playlistItem",
         "snippet": {
          "channelId": "UCcq1Xu3SKcwE1CpzGi-N68g",
          "channelTitle": "Pipoca & Nanquim",
          "description": "📚 Quadrinhos, livros e mangás da editora Pipoca & Nanquim: https://amzn.to/3pwH2GV\n\nHoje, Bruno Zago, vai se tornar novamente o herói de Nova York, em Spider-Man 2! Agora podendo ser Miles Morales e Peter Parker, nosso noob vai balançar suas teias (e sentir frio na barriga) nessa nova aventura! \n\nSINOPSE DO GAME:\nOs Spiders Peter Parker e Miles Morales estão de volta em mais uma aventura eletrizante da famosa franquia Marvel's Spider-Man para PS5.\n\nPendure-se, pule e plane com as novas Asas de Teia para percorrer a Nova York da Marvel. Alterne rapidamente entre Peter Parker e Miles Morales para jogar histórias diferentes e usar novos poderes épicos enquanto o infame vilão Venom ameaça a vida deles, das pessoas próximas a eles e toda a cidade.\n\nATUAIS PRÉ-VENDAS DA NOSSA EDITORA\n👻 ZONA FANTASMA com 4 cards exclusivos: https://amzn.to/3sgfJC8 / https://bit.ly/zonafantasmapn\n💪 BOX CONAN, O BÁRBARO: Coleção Completa em 3 Volumes: https://amzn.to/3RZrMhV / https://bit.ly/boxconanpn \n🔻 INCAL PSICOVERSO: https://amzn.to/3Q2hivt / https://bit.ly/incalpsicoversopn\n🎨 MANDALA DE FOGO: https://amzn.to/3Q381V9 / https://bit.ly/mandalaon \n👻 AS ESCULTURAS SEM CABEÇA com 4 cards exclusivos: https://amzn.to/3Rktl9L / https://bit.ly/esculturaspn\n\n🌸 DIREÇÃO DA LIVE: Jessica Torlezi (@jessica_torlezi)\n-------------\nCAIXA POSTAL 81382\nCEP 08050-970 São Paulo/SP\n\nNOSSOS LINKS\n- Site e loja virtual: https://pipocaenanquim.com.br/\n- E-mail: pipocaenanquim@gmail.com\n- @pipocaenanquim \n- @alexandrecallari\n- @zagaiada\n- @danielgillopes",
          "playlistId": "UUcq1Xu3SKcwE1CpzGi-N68g",
          "position": 17,
          "publishedAt": "2023-11-01T22:50:20Z",
          "resourceId": {
           "kind": "youtube#video",
           "videoId": "4bakkaayCNw"
          },
          "thumbnails": {
           "default": {
            "height": 90,
            "url": "https://i.ytimg.com/vi/4bakkaayCNw/default.jpg",
            "width": 120
           },
           "high": {
            "height": 360,
            "url": "https://i.ytimg.com/vi/4bakkaayCNw/hqdefault.jpg",
            "width": 480
           },
           "maxres": {
            "height": 720,
            "url": "https://i.ytimg.com/vi/4bakkaayCNw/maxresdefault.jpg",
            "width": 1280
           },
           "medium": {
            "height": 180,
            "url": "https://i.ytimg.com/vi/4bakkaayCNw/mqdefault.jpg",
            "width": 320
           },
           "standard": {
            "height": 480,
            "url": "https://i.ytimg.com/vi/4bakkaayCNw/sddefault.jpg",
            "width": 640
           }
          },
          "title": "ELE É O PRÓPRIO HOMEM-ARANHA 🤩!! Jogando Spider-Man 2 AO VIVO | Noobificador Total",
          "videoOwnerChannelId": "UCcq1Xu3SKcwE1CpzGi-N68g",
          "videoOwnerChannelTitle": "Pipoca & Nanquim"
         }
        },
        {
         "contentDetails": {
          "videoId": "wsHyze_AYBM",
          "videoPublishedAt": "2023-10-31T22:25:44Z"
         },
         "etag": "3tobaPNmJGmGmPaXgDgJtAXWETY",
         "id": "VVVjcTFYdTNTS2N3RTFDcHpHaS1ONjhnLndzSHl6ZV9BWUJN",
         "kind": "youtube#playlistItem",
         "snippet": {
          "channelId": "UCcq1Xu3SKcwE1CpzGi-N68g",
          "channelTitle": "Pipoca & Nanquim",
          "description": "TODOS OS 8 MANGÁS DO JUNJITO QUE VÊM COM 4 CARDS CADA:\n👻 ZONA FANTASMA (acompanha também o deck box): https://amzn.to/3sgfJC8 / https://bit.ly/zonafantasmapn\n💀 AS ESCULTURAS SEM CABEÇA: https://amzn.to/3Rktl9L / https://bit.ly/esculturaspn \n🏘️ CIDADE DAS LÁPIDES: https://amzn.to/3P11lX9 / https://bit.ly/lapidespn\n👻 O BECO: https://amzn.to/4469YEi / https://bit.ly/obecopn\n🛁 O ENCANAMENTO QUE GEME: https://amzn.to/4469YEi / https://bit.ly/encanamentopn\n💔 MORTOS DE AMOR: https://amzn.to/3GLnZ1j / https://bit.ly/mortosdeamorpn\n💀 MORADA DO DESERTOR: https://amzn.to/3GLnZ1j / https://bit.ly/desertorpn\n😈 CONTOS ESMAGADORES: https://amzn.to/3YnMqIS / https://bit.ly/contosesmagadorespn\n\nOUTROS MANGÁS DO JUNJI ITO DA NOSSA EDITORA:\n👉 TOMIE volume 1: https://amzn.to/3P36xK5 / https://bit.ly/tomie1pn\n👉 TOMIE volume 2: https://amzn.to/3P3NUFO / https://bit.ly/tomie2pn\n🤖 FRANKENSTEIN E OUTRAS HISTÓRIAS: https://amzn.to/3YOM2UH\n🔨 AS EGOCÊNTRICAS MALDIÇÕES DE SOUICHI: https://amzn.to/3YHmkRU\n🐌 DISMORFOS: https://amzn.to/3YnMqIS / https://bit.ly/dismorfospn\n💀 CALAFRIOS: https://amzn.to/3bc1V32 \n🩸 A SALA DE AULA QUE DERRETEU: https://amzn.to/47Fuy0V\n🌪️ SENSOR: https://amzn.to/3qFZfCM / https://bit.ly/sensorpn\n\nFinalmente acertamos todos os detalhes pra vinda do Mestre Junji Ito para a CCXP aqui no Brasil 🥳  Por isso, no vídeo de hoje, vamos mostrar a programação dele durante todo o evento, em todos os dias que ele estiver participando e fazendo as sessões de autógrafos, que terão limite de pessoas e senhas distribuídas no estande do Pipoca & Nanquim, lá no Magic Market!\n\nOs autógrafos não serão cobrados, mas serão feitos apenas em títulos da editora Pipoca & Nanquim. Confira todos os detalhes no vídeo, e abaixo fique com a programação:\n\n29/11 (QUARTA - SPOILER NIGHT)\n- Autógrafos no estande da P&N no Magic Market (100 assinaturas) \nHorário: 18:30\nDistribuição das 100 senhas: 18:00\n\n30/11 (QUINTA-FEIRA)\n- Autógrafos no estande da P&N no Magic Market (100 assinaturas) \nHorário: 14:30\nDistribuição das 100 senhas: 12:30\n\n01/12 (SEXTA-FEIRA)\n- Painel no Palco Thunder seguido de bate-papo no Palco Omelete \nHorário 14:30\n\n02/12 (SÁBADO)\n- Autógrafos no estande da P&N no Magic Market (100 assinaturas) \nHorário: 15:30\nDistribuição das 100 senhas: 11:30\n- Participação no painel da editora P&N no Palco Ultra\nHorário: 19:00\n\n03/12 (DOMINGO)\n- Autógrafos no estande da P&N no Magic Market (50 assinaturas) \nHorário: 12:30\nDistribuição das 50 senhas: 11:30\n\n🚀 EDIÇÃO DO VÍDEO: João Alves (@johndalves) \n-------------\nCAIXA POSTAL 81382\nCEP 08050-970 São Paulo/SP\n\nNOSSOS LINKS\n- Site e loja virtual: https://pipocaenanquim.com.br/\n- E-mail: pipocaenanquim@gmail.com\n- @pipocaenanquim \n- @alexandrecallari\n- @zagaiada\n- @danielgillopes\n\nhttps://youtu.be/wsHyze_AYBM",
          "playlistId": "UUcq1Xu3SKcwE1CpzGi-N68g",
          "position": 18,
          "publishedAt": "2023-10-31T22:25:44Z",
          "resourceId": {
           "kind": "youtube#video",
           "videoId": "wsHyze_AYBM"
          },
          "thumbnails": {
           "default": {
            "height": 90,
            "url": "https://i.ytimg.com/vi/wsHyze_AYBM/default.jpg",
            "width": 120
           },
           "high": {
            "height": 360,
            "url": "https://i.ytimg.com/vi/wsHyze_AYBM/hqdefault.jpg",
            "width": 480
           },
           "maxres": {
            "height": 720,
            "url": "https://i.ytimg.com/vi/wsHyze_AYBM/maxresdefault.jpg",
            "width": 1280
           },
           "medium": {
            "height": 180,
            "url": "https://i.ytimg.com/vi/wsHyze_AYBM/mqdefault.jpg",
            "width": 320
           },
           "standard": {
            "height": 480,
            "url": "https://i.ytimg.com/vi/wsHyze_AYBM/sddefault.jpg",
            "width": 640
           }
          },
          "title": "TODOS OS DETALHES DA PROGRAMAÇÃO DO JUNJI ITO NA CCXP",
          "videoOwnerChannelId": "UCcq1Xu3SKcwE1CpzGi-N68g",
          "videoOwnerChannelTitle": "Pipoca & Nanquim"
         }
        },
        {
         "contentDetails": {
          "videoId": "AcMzfCrXSEA",
          "videoPublishedAt": "2023-10-29T14:40:58Z"
         },
         "etag": "FETAFK7aObJwdfmxTxMbyqxgObI",
         "id": "VVVjcTFYdTNTS2N3RTFDcHpHaS1ONjhnLkFjTXpmQ3JYU0VB",
         "kind": "youtube#playlistItem",
         "snippet": {
          "channelId": "UCcq1Xu3SKcwE1CpzGi-N68g",
          "channelTitle": "Pipoca & Nanquim",
          "description": "👻 ZONA FANTASMA: mangá volume único, com sobrecapa, 4 cards exclusivos + deck box e marcador de página (Pré-venda 30% OFF até 29/11): https://amzn.to/3sgfJC8 / https://bit.ly/zonafantasmapn  (+5% OFF no pix em nosso site)\n🎨 MANDALA DE FOGO mangá volume único, com sobrecapa, capa metalizada em bronze e marcador de página (Pré-venda 30% OFF até 31/10): https://amzn.to/3Q381V9 / https://bit.ly/mandalaon (+5% OFF no pix em nosso site)\n\nOUTROS MANGÁS DO JUNJITO QUE VÊM COM 4 CARDS CADA:\n💀 AS ESCULTURAS SEM CABEÇA: https://amzn.to/3Rktl9L / https://bit.ly/esculturaspn \n🏘️ CIDADE DAS LÁPIDES: https://amzn.to/3P11lX9 / https://bit.ly/lapidespn\n👻 O BECO: https://amzn.to/4469YEi / https://bit.ly/obecopn\n🛁 O ENCANAMENTO QUE GEME: https://amzn.to/4469YEi / https://bit.ly/encanamentopn\n💔 MORTOS DE AMOR: https://amzn.to/3GLnZ1j / https://bit.ly/mortosdeamorpn\n💀 MORADA DO DESERTOR: https://amzn.to/3GLnZ1j / https://bit.ly/desertorpn\n😈 CONTOS ESMAGADORES: https://amzn.to/3YnMqIS / https://bit.ly/contosesmagadorespn\n\nO último mangá da coleção JUNJI ITO que a editora Pipoca e Nanquim fez em 2023, concluindo também a coleção de cards, com os 4 últimos e o deck box pra guardar todos!\n\nSOBRE O MANGÁ:\nNesta nova coletânea com os trabalhos mais recentes de Junji Ito, o mestre dos mangás de horror, as forças do além dão um jeito de influenciar o mundo dos vivos das mais diversas maneiras!\n\nEm A Descida das Carpideiras, um jovem casal sai em viagem para comemorar o noivado e vai parar em uma pequena cidade no interior, onde conhecem a antiga tradição das carpideiras e seu mistério contagiante... No segundo conto, Maria é uma estudante recém-transferida para um colégio católico feminino que realiza um sinistro culto à reencarnação de Madona, a mãe de Deus, e descobre uma estranha ligação entre estátuas de sal e a família do diretor... A Corrente de Espíritos em Aokigahara se baseia na triste fama da floresta homônima e imagina o destino da alma daqueles que escolhem esse local para dar fim à própria vida... São oito histórias inéditas, e uma delas nos traz de volta os irmãos Hikizuri, os protagonistas das mais hilárias brigas familiares sobrenaturais!\n\nZona Fantasma foi publicada originalmente em duas partes no Japão, com quatro contos inéditos cada: a primeira foi lançada digitalmente no aplicativo Line Manga, entre 2020 e 2021, e a segunda, no site AERA dot., da editora Asahi Shimbun, entre 2021 e 2022. \n\nAs versões encadernadas japonesas saíram em 2021 e 2023, e o primeiro volume concorreu ao Prêmio Eisner em 2023, por conta da publicação nos EUA. Na edição brasileira, ambas as partes estão reunidas neste volume único caprichadíssimo, com todo o cuidado e qualidade da editora Pipoca & Nanquim!\n\nO mangá tem papel pólen bold de alta gramatura, miolo com acabamento colado e costurado (para garantir o melhor manuseio das páginas), sobrecapa com verniz localizado, e vem acompanhado de um marcador de página e mais 4 CARDS EXCLUSIVOS, que fecham a belíssima coleção de cartas com os principais personagens do autor (são 32 cards ao todo, distribuídos de 4 em 4 em mangás lançados em 2023). \n\nAlém de tudo, Zona Fantasma vem acompanhado de um deck box, a caixinha que serve para acomodar todos os 32 cards e fechar sua coleção.\n\n🌸 EDIÇÃO DO VÍDEO: Jessica Torlezi (@jessica_torlezi)\n-------------\nCAIXA POSTAL 81382\nCEP 08050-970 São Paulo/SP\n\nNOSSOS LINKS\n- Site e loja virtual: https://pipocaenanquim.com.br/\n- E-mail: pipocaenanquim@gmail.com\n- @pipocaenanquim \n- @alexandrecallari\n- @zagaiada\n- @danielgillopes\n\n#mangá #junjiito #pipocaenanquim \nCHEGAMOS AO FIM! 50º Mangá da Nossa Editora: ZONA FANTASMA! | Pipoca e Nanquim 543\nhttps://youtu.be/AcMzfCrXSEA",
          "playlistId": "UUcq1Xu3SKcwE1CpzGi-N68g",
          "position": 19,
          "publishedAt": "2023-10-29T14:40:58Z",
          "resourceId": {
           "kind": "youtube#video",
           "videoId": "AcMzfCrXSEA"
          },
          "thumbnails": {
           "default": {
            "height": 90,
            "url": "https://i.ytimg.com/vi/AcMzfCrXSEA/default.jpg",
            "width": 120
           },
           "high": {
            "height": 360,
            "url": "https://i.ytimg.com/vi/AcMzfCrXSEA/hqdefault.jpg",
            "width": 480
           },
           "maxres": {
            "height": 720,
            "url": "https://i.ytimg.com/vi/AcMzfCrXSEA/maxresdefault.jpg",
            "width": 1280
           },
           "medium": {
            "height": 180,
            "url": "https://i.ytimg.com/vi/AcMzfCrXSEA/mqdefault.jpg",
            "width": 320
           },
           "standard": {
            "height": 480,
            "url": "https://i.ytimg.com/vi/AcMzfCrXSEA/sddefault.jpg",
            "width": 640
           }
          },
          "title": "CHEGAMOS AO FIM! 50º Mangá da Nossa Editora: ZONA FANTASMA! | Pipoca e Nanquim 543",
          "videoOwnerChannelId": "UCcq1Xu3SKcwE1CpzGi-N68g",
          "videoOwnerChannelTitle": "Pipoca & Nanquim"
         }
        },
        {
         "contentDetails": {
          "videoId": "i3pWU_2akgs",
          "videoPublishedAt": "2023-10-27T21:37:36Z"
         },
         "etag": "OYQvcN45utJjUPutdZGe8GGMLps",
         "id": "VVVjcTFYdTNTS2N3RTFDcHpHaS1ONjhnLmkzcFdVXzJha2dz",
         "kind": "youtube#playlistItem",
         "snippet": {
          "channelId": "UCcq1Xu3SKcwE1CpzGi-N68g",
          "channelTitle": "Pipoca & Nanquim",
          "description": "🎭 ESPELHO MEU, de Alexandre Callari e Robson Moura: https://amzn.to/471vEEf / https://bit.ly/espelhomeupn\n🎟️ ESPELHO MEU, edição com bookplate autografado: https://amzn.to/3rlfxRg\n💥 OGIVA: https://amzn.to/3mcGkrP\n🌳 A Floresta das Árvores Retorcidas: https://amzn.to/2VxE5T8\n\n📚 Quadrinhos, livros e mangás da editora Pipoca & Nanquim: https://amzn.to/3pwH2GV\n\nFomos no cinema ver um dos filmes de terror mais aguardados do ano: Five Nights at Freddy's - O Pesadelo Sem Fim. E foi mesmo um pesadelo que não acabava nunca 😂 \n\nO filme é baseado no jogo de videogame Five Nights at Freddy's, lançado inicialmente em 2014. O game virou um grande cult e logo se tornou uma grande franquia com vários jogos seguidos. Os fãs ficaram animados com a notícia de que seria feito um longa-metragem, estrelado por Josh Hutcherson e Matthew Lillard.\n\nSINOPSE \nMike (Josh Hutcherson) vive um segurança problemático que começa a trabalhar na Pizzaria Freddy Fazbear, para sustentar ele e sua irmã mais nova. Já no primeiro dia do emprego novo, ele percebe que o turno da noite no Freddy's não será tão fácil assim, já que os bonecos animatrônicos ganham vida e sede de sangue.\n\nATUAIS PRÉ-VENDAS DA NOSSA EDITORA\n💪 BOX CONAN, O BÁRBARO: Coleção Completa em 3 Volumes + Pôster + Livreto Inédito + Marcadores Exclusivos (pré-venda de R$ 229,90 por R$ 160,90, cada livro sai por R$ 53,64): https://amzn.to/3RZrMhV / https://bit.ly/boxconanpn \n🔻 INCAL PSICOVERSO: https://amzn.to/3Q2hivt / https://bit.ly/incalpsicoversopn\n👑 REI KULL - Edição Completa e Definitiva com Sobrecapa de Acetato: https://amzn.to/3RsEdm0 / https://bit.ly/reikullpn\n🎨 MANDALA DE FOGO mangá volume único, com sobrecapa, capa metalizada em bronze e marcador exclusivo: https://amzn.to/3Q381V9 / https://bit.ly/mandalaon \n👻 AS ESCULTURAS SEM CABEÇA com 4 cards exclusivos: https://amzn.to/3Rktl9L / https://bit.ly/esculturaspn\n\n🌸 EDIÇÃO DO VÍDEO: Jessica Torlezi (@jessica_torlezi)\n-------------\nCAIXA POSTAL 81382\nCEP 08050-970 São Paulo/SP\n\nNOSSOS LINKS\n- Site e loja virtual: https://pipocaenanquim.com.br/\n- E-mail: pipocaenanquim@gmail.com\n- @pipocaenanquim \n- @alexandrecallari\n- @zagaiada\n- @danielgillopes\n\n#fivenightsatfreddys #filme #pnextra \nFIVE NIGHTS AT FREDDY'S: Tensão Pura no Game, Terror Soft no Filme | PN Extra 361\nhttps://youtu.be/i3pWU_2akgs",
          "playlistId": "UUcq1Xu3SKcwE1CpzGi-N68g",
          "position": 20,
          "publishedAt": "2023-10-27T21:37:36Z",
          "resourceId": {
           "kind": "youtube#video",
           "videoId": "i3pWU_2akgs"
          },
          "thumbnails": {
           "default": {
            "height": 90,
            "url": "https://i.ytimg.com/vi/i3pWU_2akgs/default.jpg",
            "width": 120
           },
           "high": {
            "height": 360,
            "url": "https://i.ytimg.com/vi/i3pWU_2akgs/hqdefault.jpg",
            "width": 480
           },
           "maxres": {
            "height": 720,
            "url": "https://i.ytimg.com/vi/i3pWU_2akgs/maxresdefault.jpg",
            "width": 1280
           },
           "medium": {
            "height": 180,
            "url": "https://i.ytimg.com/vi/i3pWU_2akgs/mqdefault.jpg",
            "width": 320
           },
           "standard": {
            "height": 480,
            "url": "https://i.ytimg.com/vi/i3pWU_2akgs/sddefault.jpg",
            "width": 640
           }
          },
          "title": "FIVE NIGHTS AT FREDDY'S: Tensão Pura no Game, Terror Soft no Filme | PN Extra 361",
          "videoOwnerChannelId": "UCcq1Xu3SKcwE1CpzGi-N68g",
          "videoOwnerChannelTitle": "Pipoca & Nanquim"
         }
        },
        {
         "contentDetails": {
          "videoId": "PiD3V5eP9pc",
          "videoPublishedAt": "2023-10-26T22:00:15Z"
         },
         "etag": "ceiTVizJdykUGgEcyh8LOzsM9zQ",
         "id": "VVVjcTFYdTNTS2N3RTFDcHpHaS1ONjhnLlBpRDNWNWVQOXBj",
         "kind": "youtube#playlistItem",
         "snippet": {
          "channelId": "UCcq1Xu3SKcwE1CpzGi-N68g",
          "channelTitle": "Pipoca & Nanquim",
          "description": "📚 Quadrinhos, livros e mangás da editora Pipoca & Nanquim: https://amzn.to/3pwH2GV\n\nMais um Saga da Editora no ar, hoje pra mostrar o mais novo estoque do PN! O lugar de onde os pedidos que lojistas, e também os que vocês fazem no nosso site, são embalados e enviados pela nossa equipe de logística 🥰\n\nAlém disso, aqui também serve como o escritório secreto do Danielzinho, que está escrevendo seu mais novo romance 😏\n\nATUAIS PRÉ-VENDAS DA NOSSA EDITORA\n💪 BOX CONAN, O BÁRBARO: Coleção Completa em 3 Volumes + Pôster + Livreto Inédito + Marcadores Exclusivos (pré-venda de R$ 229,90 por R$ 160,90, cada livro sai por R$ 53,64): https://amzn.to/3RZrMhV / https://bit.ly/boxconanpn \n🔻 INCAL PSICOVERSO: https://amzn.to/3Q2hivt / https://bit.ly/incalpsicoversopn\n👑 REI KULL - Edição Completa e Definitiva com Sobrecapa de Acetato: https://amzn.to/3RsEdm0 / https://bit.ly/reikullpn\n🎨 MANDALA DE FOGO mangá volume único, com sobrecapa, capa metalizada em bronze e marcador exclusivo: https://amzn.to/3Q381V9 / https://bit.ly/mandalaon \n👻 AS ESCULTURAS SEM CABEÇA com 4 cards exclusivos: https://amzn.to/3Rktl9L / https://bit.ly/esculturaspn\n\n🌸 EDIÇÃO DO VÍDEO: Jessica Torlezi (@jessica_torlezi)\n-------------\nCAIXA POSTAL 81382\nCEP 08050-970 São Paulo/SP\n\nNOSSOS LINKS\n- Site e loja virtual: https://pipocaenanquim.com.br/\n- E-mail: pipocaenanquim@gmail.com\n- @pipocaenanquim \n- @alexandrecallari\n- @zagaiada\n- @danielgillopes\n\n#sagadaeditora #quadrinhos #pipocaenanquim \nMostrando o novo estoque de quadrinhos que tivemos que alugar | Saga da Editora 142\nhttps://youtu.be/PiD3V5eP9pc",
          "playlistId": "UUcq1Xu3SKcwE1CpzGi-N68g",
          "position": 21,
          "publishedAt": "2023-10-26T22:00:15Z",
          "resourceId": {
           "kind": "youtube#video",
           "videoId": "PiD3V5eP9pc"
          },
          "thumbnails": {
           "default": {
            "height": 90,
            "url": "https://i.ytimg.com/vi/PiD3V5eP9pc/default.jpg",
            "width": 120
           },
           "high": {
            "height": 360,
            "url": "https://i.ytimg.com/vi/PiD3V5eP9pc/hqdefault.jpg",
            "width": 480
           },
           "maxres": {
            "height": 720,
            "url": "https://i.ytimg.com/vi/PiD3V5eP9pc/maxresdefault.jpg",
            "width": 1280
           },
           "medium": {
            "height": 180,
            "url": "https://i.ytimg.com/vi/PiD3V5eP9pc/mqdefault.jpg",
            "width": 320
           },
           "standard": {
            "height": 480,
            "url": "https://i.ytimg.com/vi/PiD3V5eP9pc/sddefault.jpg",
            "width": 640
           }
          },
          "title": "Mostrando o novo estoque de quadrinhos que tivemos que alugar | Saga da Editora 142",
          "videoOwnerChannelId": "UCcq1Xu3SKcwE1CpzGi-N68g",
          "videoOwnerChannelTitle": "Pipoca & Nanquim"
         }
        },
        {
         "contentDetails": {
          "videoId": "96iIYWiLNeQ",
          "videoPublishedAt": "2023-10-26T00:15:04Z"
         },
         "etag": "tGDvHGw-rp6lQJkY2vvVWRe-tJU",
         "id": "VVVjcTFYdTNTS2N3RTFDcHpHaS1ONjhnLjk2aUlZV2lMTmVR",
         "kind": "youtube#playlistItem",
         "snippet": {
          "channelId": "UCcq1Xu3SKcwE1CpzGi-N68g",
          "channelTitle": "Pipoca & Nanquim",
          "description": "",
          "playlistId": "UUcq1Xu3SKcwE1CpzGi-N68g",
          "position": 22,
          "publishedAt": "2023-10-26T00:15:04Z",
          "resourceId": {
           "kind": "youtube#video",
           "videoId": "96iIYWiLNeQ"
          },
          "thumbnails": {
           "default": {
            "height": 90,
            "url": "https://i.ytimg.com/vi/96iIYWiLNeQ/default.jpg",
            "width": 120
           },
           "high": {
            "height": 360,
            "url": "https://i.ytimg.com/vi/96iIYWiLNeQ/hqdefault.jpg",
            "width": 480
           },
           "maxres": {
            "height": 720,
            "url": "https://i.ytimg.com/vi/96iIYWiLNeQ/maxresdefault.jpg",
            "width": 1280
           },
           "medium": {
            "height": 180,
            "url": "https://i.ytimg.com/vi/96iIYWiLNeQ/mqdefault.jpg",
            "width": 320
           },
           "standard": {
            "height": 480,
            "url": "https://i.ytimg.com/vi/96iIYWiLNeQ/sddefault.jpg",
            "width": 640
           }
          },
          "title": "FINALMENTE ELE APROVOU! Prepararem-se!!",
          "videoOwnerChannelId": "UCcq1Xu3SKcwE1CpzGi-N68g",
          "videoOwnerChannelTitle": "Pipoca & Nanquim"
         }
        },
        {
         "contentDetails": {
          "videoId": "k0rCJTOTf4k",
          "videoPublishedAt": "2023-10-25T22:06:22Z"
         },
         "etag": "W-Y1o5Nouev7QbkSWwuF63_J2Jo",
         "id": "VVVjcTFYdTNTS2N3RTFDcHpHaS1ONjhnLmswckNKVE9UZjRr",
         "kind": "youtube#playlistItem",
         "snippet": {
          "channelId": "UCcq1Xu3SKcwE1CpzGi-N68g",
          "channelTitle": "Pipoca & Nanquim",
          "description": "🎭 ESPELHO MEU, de Alexandre Callari e Robson Moura: https://amzn.to/471vEEf / https://bit.ly/espelhomeupn\n🎟️ ESPELHO MEU, edição com bookplate autografado: https://amzn.to/3rlfxRg\n🎨 Site do Robson: https://robsonmourahq.com.br/\n📚 Quadrinhos, livros e mangás da editora Pipoca & Nanquim: https://amzn.to/3pwH2GV\n\nNo Vlog do PN de hoje, em comemoração ao Halloween Dia das Bruxas, Alexandre Callari volta a dar dicas de filmes! São 4 obras de terror de arrepiar todos os pelinhos da nuca! E, pra melhorar, todos os títulos indicados estão nas principais plataformas de streaming: Netflix, Prime Video, Paramount+ e HBO Max. No final, ainda tem uma dica extra pra você que também assina a Disney+ 😝\n\nLIVROS E QUADRINHOS DE ARREPIAR\n🏝️ O ESTRANHO CONTO DA ILHA PANORAMA: https://amzn.to/3UtoRNG / https://bit.ly/ilhapn\n🧛‍♂️ O GRANDE LIVRO DOS VAMPIROS: https://amzn.to/3opZXhH / https://bit.ly/grandelivrovampirospn\n👗 TOMIE volume 1: https://amzn.to/3P36xK5 / https://bit.ly/tomie1pn\n👗 TOMIE volume 2: https://amzn.to/3P3NUFO / https://bit.ly/tomie2pn\n🏘️ CIDADE DAS LÁPIDES: https://amzn.to/3P11lX9 / https://bit.ly/lapidespn\n💀 HISTÓRIAS ASSUSTADORAS PARA CONTAR À NOITE: https://amzn.to/47CskzA / https://bit.ly/historiasassustadoraspn\n🌪️ SENSOR: https://amzn.to/3qFZfCM / https://bit.ly/sensorpn\n👻 O BECO: https://amzn.to/4469YEi / https://bit.ly/obecopn\n👹 INFIEL: https://amzn.to/3hMrqLF / https://bit.ly/infielpn\n\nATUAIS PRÉ-VENDAS DA NOSSA EDITORA\n💪 BOX CONAN, O BÁRBARO: Coleção Completa em 3 Volumes + Pôster + Livreto Inédito + Marcadores Exclusivos (pré-venda de R$ 229,90 por R$ 160,90, cada livro sai por R$ 53,64): https://amzn.to/3RZrMhV / https://bit.ly/boxconanpn \n🔻 INCAL PSICOVERSO: https://amzn.to/3Q2hivt / https://bit.ly/incalpsicoversopn\n👑 REI KULL - Edição Completa e Definitiva com Sobrecapa de Acetato: https://amzn.to/3RsEdm0 / https://bit.ly/reikullpn\n🎨 MANDALA DE FOGO mangá volume único, com sobrecapa, capa metalizada em bronze e marcador exclusivo: https://amzn.to/3Q381V9 / https://bit.ly/mandalaon \n👻 AS ESCULTURAS SEM CABEÇA com 4 cards exclusivos: https://amzn.to/3Rktl9L / https://bit.ly/esculturaspn\n\n🚀 EDIÇÃO DO VÍDEO: João Alves (@johndalves) \n-------------\nCAIXA POSTAL 81382\nCEP 08050-970 São Paulo/SP\n\nNOSSOS LINKS\n- Site e loja virtual: https://pipocaenanquim.com.br/\n- E-mail: pipocaenanquim@gmail.com\n- @pipocaenanquim \n- @alexandrecallari\n- @zagaiada\n- @danielgillopes\n\n#filmesdeterror #halloween #vlogdopn\n4 Filmes de Terror pra Maratonar nos Streamings nesse Halloween | Vlog do PN 214\nhttps://youtu.be/k0rCJTOTf4k",
          "playlistId": "UUcq1Xu3SKcwE1CpzGi-N68g",
          "position": 23,
          "publishedAt": "2023-10-25T22:06:22Z",
          "resourceId": {
           "kind": "youtube#video",
           "videoId": "k0rCJTOTf4k"
          },
          "thumbnails": {
           "default": {
            "height": 90,
            "url": "https://i.ytimg.com/vi/k0rCJTOTf4k/default.jpg",
            "width": 120
           },
           "high": {
            "height": 360,
            "url": "https://i.ytimg.com/vi/k0rCJTOTf4k/hqdefault.jpg",
            "width": 480
           },
           "maxres": {
            "height": 720,
            "url": "https://i.ytimg.com/vi/k0rCJTOTf4k/maxresdefault.jpg",
            "width": 1280
           },
           "medium": {
            "height": 180,
            "url": "https://i.ytimg.com/vi/k0rCJTOTf4k/mqdefault.jpg",
            "width": 320
           },
           "standard": {
            "height": 480,
            "url": "https://i.ytimg.com/vi/k0rCJTOTf4k/sddefault.jpg",
            "width": 640
           }
          },
          "title": "4 Filmes de Terror pra Maratonar nos Streamings nesse Halloween | Vlog do PN 214",
          "videoOwnerChannelId": "UCcq1Xu3SKcwE1CpzGi-N68g",
          "videoOwnerChannelTitle": "Pipoca & Nanquim"
         }
        },
        {
         "contentDetails": {
          "videoId": "nIchBgXXsa4",
          "videoPublishedAt": "2023-10-23T23:15:51Z"
         },
         "etag": "Myz3plQjG1bynvR6W9nwbA1B6yg",
         "id": "VVVjcTFYdTNTS2N3RTFDcHpHaS1ONjhnLm5JY2hCZ1hYc2E0",
         "kind": "youtube#playlistItem",
         "snippet": {
          "channelId": "UCcq1Xu3SKcwE1CpzGi-N68g",
          "channelTitle": "Pipoca & Nanquim",
          "description": "",
          "playlistId": "UUcq1Xu3SKcwE1CpzGi-N68g",
          "position": 24,
          "publishedAt": "2023-10-23T23:15:51Z",
          "resourceId": {
           "kind": "youtube#video",
           "videoId": "nIchBgXXsa4"
          },
          "thumbnails": {
           "default": {
            "height": 90,
            "url": "https://i.ytimg.com/vi/nIchBgXXsa4/default.jpg",
            "width": 120
           },
           "high": {
            "height": 360,
            "url": "https://i.ytimg.com/vi/nIchBgXXsa4/hqdefault.jpg",
            "width": 480
           },
           "maxres": {
            "height": 720,
            "url": "https://i.ytimg.com/vi/nIchBgXXsa4/maxresdefault.jpg",
            "width": 1280
           },
           "medium": {
            "height": 180,
            "url": "https://i.ytimg.com/vi/nIchBgXXsa4/mqdefault.jpg",
            "width": 320
           },
           "standard": {
            "height": 480,
            "url": "https://i.ytimg.com/vi/nIchBgXXsa4/sddefault.jpg",
            "width": 640
           }
          },
          "title": "Versão econômica na gráfica? O que é isso?",
          "videoOwnerChannelId": "UCcq1Xu3SKcwE1CpzGi-N68g",
          "videoOwnerChannelTitle": "Pipoca & Nanquim"
         }
        },
        {
         "contentDetails": {
          "videoId": "-8RHmVUNj0Y",
          "videoPublishedAt": "2023-10-23T23:08:59Z"
         },
         "etag": "qi8KD3sFnO7LMcIq24JDOPNEB2A",
         "id": "VVVjcTFYdTNTS2N3RTFDcHpHaS1ONjhnLi04UkhtVlVOajBZ",
         "kind": "youtube#playlistItem",
         "snippet": {
          "channelId": "UCcq1Xu3SKcwE1CpzGi-N68g",
          "channelTitle": "Pipoca & Nanquim",
          "description": "",
          "playlistId": "UUcq1Xu3SKcwE1CpzGi-N68g",
          "position": 25,
          "publishedAt": "2023-10-23T23:08:59Z",
          "resourceId": {
           "kind": "youtube#video",
           "videoId": "-8RHmVUNj0Y"
          },
          "thumbnails": {
           "default": {
            "height": 90,
            "url": "https://i.ytimg.com/vi/-8RHmVUNj0Y/default.jpg",
            "width": 120
           },
           "high": {
            "height": 360,
            "url": "https://i.ytimg.com/vi/-8RHmVUNj0Y/hqdefault.jpg",
            "width": 480
           },
           "maxres": {
            "height": 720,
            "url": "https://i.ytimg.com/vi/-8RHmVUNj0Y/maxresdefault.jpg",
            "width": 1280
           },
           "medium": {
            "height": 180,
            "url": "https://i.ytimg.com/vi/-8RHmVUNj0Y/mqdefault.jpg",
            "width": 320
           },
           "standard": {
            "height": 480,
            "url": "https://i.ytimg.com/vi/-8RHmVUNj0Y/sddefault.jpg",
            "width": 640
           }
          },
          "title": "Sobre mudança de altura em ÚLTIMO RONIN (que não teve)",
          "videoOwnerChannelId": "UCcq1Xu3SKcwE1CpzGi-N68g",
          "videoOwnerChannelTitle": "Pipoca & Nanquim"
         }
        },
        {
         "contentDetails": {
          "videoId": "VHygAZFZI1c",
          "videoPublishedAt": "2023-10-22T14:00:18Z"
         },
         "etag": "QqyxzwYRZ7i31_fRi-lx6TDxOfE",
         "id": "VVVjcTFYdTNTS2N3RTFDcHpHaS1ONjhnLlZIeWdBWkZaSTFj",
         "kind": "youtube#playlistItem",
         "snippet": {
          "channelId": "UCcq1Xu3SKcwE1CpzGi-N68g",
          "channelTitle": "Pipoca & Nanquim",
          "description": "⚡ APOIO: Evolukit Móveis Modulados. https://evolukit.com.br/\nAs melhores estantes para sua organização de Livros, HQs e colecionáveis. Use o cupom cupom PIPOCA5 de 10% off à vista e 5% a prazo, em até 6x sem juros.\n👉 INSCREVA-SE NA NEWSLETTER DO SOC TUM POW:  https://gustavovicola.substack.com/\n👉 LINK DO VÍDEO DO SURGIMENTO DAS COMIC SHOPS: https://youtu.be/hLAOw1UiMNM\n👉 TEXTOS DO ÉRICO ASSIS MENCIONADOS NO VÍDEO: \nhttps://apilha.com.br/contaminacao-direta-como-a-covid-19-fez-o-gibi-dos-eua-entrar-em-colapso/\nhttps://www.omelete.com.br/quadrinhos/enquanto-isso-por-que-a-marvel-sacudiu-o-mercado-ontem\n👉 HISTÓRIA DA MILE HIGH COMICS: https://www.milehighcomics.com/information/hist.html\n\nRetornando para a continuação da pauta sobre o surgimento das lojas de quadrinhos, no vídeo de hoje, Bruno Zago e Daniel Lopes vão falar sobre o Mercado Direto das comics shops norte-americanas com Marvel, DC, Image, Dark Horse e outras editoras! \n\nCom a crescimento das lojas de quadrinhos nos Estados Unidos, os lojistas pressionaram as editoras para poderem desfrutar do tão almejado mercado direto, para assim conseguirem melhores preços e condições de pagamentos no atacado. Quando isso aconteceu, surgiu um verdadeiro Battle Royale de distribuidoras de gibis, que culminou no monopólio de uma delas. Essa é uma história incrível, cheia de reviravoltas, e que vale a pena ser conhecida.\n\nATUAIS PRÉ-VENDAS DA NOSSA EDITORA\n💪 BOX CONAN, O BÁRBARO: Coleção Completa em 3 Volumes + Pôster + Livreto Inédito + Marcadores Exclusivos (pré-venda de R$ 229,90 por R$ 160,90, cada livro sai por R$ 53,64): https://amzn.to/3RZrMhV / https://bit.ly/boxconanpn \n🔻 INCAL PSICOVERSO: https://amzn.to/3Q2hivt / https://bit.ly/incalpsicoversopn\n👑 REI KULL - Edição Completa e Definitiva com Sobrecapa de Acetato: https://amzn.to/3RsEdm0 / https://bit.ly/reikullpn\n🎨 MANDALA DE FOGO mangá volume único, com sobrecapa, capa metalizada em bronze e marcador exclusivo: https://amzn.to/3Q381V9 / https://bit.ly/mandalaon \n👻 AS ESCULTURAS SEM CABEÇA com 4 cards exclusivos: https://amzn.to/3Rktl9L / https://bit.ly/esculturaspn\n\n🌟 PESQUISA DO VÍDEO: Gustavo Vícola (@gustavo.vicola)\n🌸 EDIÇÃO DO VÍDEO: Jessica Torlezi (@jessica_torlezi)\n-------------\nCAIXA POSTAL 81382\nCEP 08050-970 São Paulo/SP\n\nNOSSOS LINKS\n- Site e loja virtual: https://pipocaenanquim.com.br/\n- E-mail: pipocaenanquim@gmail.com\n- @pipocaenanquim \n- @alexandrecallari\n- @zagaiada\n- @danielgillopes\n\n#pnextra #quadrinhos #hqs\nGuerra de Distribuidoras! A História do Mercado Direto de Quadrinhos nos EUA | PN Extra 360\nhttps://youtu.be/VHygAZFZI1c",
          "playlistId": "UUcq1Xu3SKcwE1CpzGi-N68g",
          "position": 26,
          "publishedAt": "2023-10-22T14:00:18Z",
          "resourceId": {
           "kind": "youtube#video",
           "videoId": "VHygAZFZI1c"
          },
          "thumbnails": {
           "default": {
            "height": 90,
            "url": "https://i.ytimg.com/vi/VHygAZFZI1c/default.jpg",
            "width": 120
           },
           "high": {
            "height": 360,
            "url": "https://i.ytimg.com/vi/VHygAZFZI1c/hqdefault.jpg",
            "width": 480
           },
           "maxres": {
            "height": 720,
            "url": "https://i.ytimg.com/vi/VHygAZFZI1c/maxresdefault.jpg",
            "width": 1280
           },
           "medium": {
            "height": 180,
            "url": "https://i.ytimg.com/vi/VHygAZFZI1c/mqdefault.jpg",
            "width": 320
           },
           "standard": {
            "height": 480,
            "url": "https://i.ytimg.com/vi/VHygAZFZI1c/sddefault.jpg",
            "width": 640
           }
          },
          "title": "Guerra de Distribuidoras! A História do Mercado Direto de Quadrinhos nos EUA | PN Extra 360",
          "videoOwnerChannelId": "UCcq1Xu3SKcwE1CpzGi-N68g",
          "videoOwnerChannelTitle": "Pipoca & Nanquim"
         }
        },
        {
         "contentDetails": {
          "videoId": "jgFOz_zw6UY",
          "videoPublishedAt": "2023-10-20T21:00:24Z"
         },
         "etag": "IPhlfoLpaZPO22ZuRzdGtyHSFhk",
         "id": "VVVjcTFYdTNTS2N3RTFDcHpHaS1ONjhnLmpnRk96X3p3NlVZ",
         "kind": "youtube#playlistItem",
         "snippet": {
          "channelId": "UCcq1Xu3SKcwE1CpzGi-N68g",
          "channelTitle": "Pipoca & Nanquim",
          "description": "🔻 INCAL PSICOVERSO (pré-venda 30% OFF até 30/11, de R$ 99,90 por R$ 69,90): https://amzn.to/3Q2hivt / https://pipocaenanquim.com.br/incal-psicoverso-spin-off-oficial-de-incal.html (+5% OFF no pix pelo nosso site)\n👉 TRILOGIA INCAL e A CASTA DOS METABARÕES da nossa editora: https://amzn.to/46UtTYv / https://pipocaenanquim.com.br/colec-o/incal.html  (Utilize o cupom INCAL25 com 25% OFF para os títulos da Série Todo Incal, exclusivamente no site da editora*)\n*Cupom de desconto válido exclusivamente para os três títulos da Série Todo Incal, até 31/10/2023. Não acumula com outros cupons e pré-vendas.\n\nATUAIS PRÉ-VENDAS DA NOSSA EDITORA\n💪 BOX CONAN, O BÁRBARO: Coleção Completa em 3 Volumes + Pôster + Livreto Inédito + Marcadores Exclusivos (pré-venda de R$ 229,90 por R$ 160,90, cada livro sai por R$ 53,64): https://amzn.to/3RZrMhV / https://bit.ly/boxconanpn \n👑 REI KULL - Edição Completa e Definitiva com Sobrecapa de Acetato: https://amzn.to/3RsEdm0 / https://bit.ly/reikullpn\n🎨 MANDALA DE FOGO mangá volume único, com sobrecapa, capa metalizada em bronze e marcador exclusivo: https://amzn.to/3Q381V9 / https://bit.ly/mandalaon \n👻 AS ESCULTURAS SEM CABEÇA com 4 cards exclusivos: https://amzn.to/3Rktl9L / https://bit.ly/esculturaspn\n\nPelas mãos da incrível equipe formada pelo roteirista Mark Russell (Os Flintstones, Superman: A Era Espacial), o desenhista Yanick Paquette (Mulher-Maravilha: Terra Um, Corporação Batman) e o colorista Dave McCaig (Batman/Spawn, Vampiro Americano), descubra uma nova faceta do fantástico universo de INCAL, obra-prima de Alejandro Jodorowsky e Mœbius, em um chocante e explosivo prelúdio da saga original! Prepare-se para adentrar... o Psicoverso!\n\nO Materiaverso, plano onde se passam as aventuras de Incal, é repleto de tecnologias curiosas, mundos impressionantes e invenções extraordinárias. Mas de onde vem tudo isso? Do Psicoverso, é claro. Uma realidade de infinitas possibilidades onde tudo que pode existir, existe... pelo menos até ser imaginado no Materiaverso, quando é puxado de uma realidade para a outra. \n\nCansadas de ter suas maravilhosas criações tomadas pelo Materiaverso, agentes do Psicoverso rompem a barreira entre os dois planos para reaver à força seus haveres usurpados, condenando praticamente todo o Materiaverso à destruição! Cabe então a John Difool, Metabarão, Kill “Cara-de-Cão” e outros mais a tarefa de impedir esse extermínio. Se ao menos algum deles soubesse que tinha ao seu alcance o Incal Luz, a mais poderosa e primordial força dos dois mundos... talvez as coisas ficassem mais simples!\n\nO volume da editora Pipoca & Nanquim apresenta a história na íntegra – publicada originalmente nos Estados Unidos pela editora Humanoids, em novembro de 2022 – com formato grande (o mesmo da coleção Todo Incal), 132 páginas coloridas em papel couchê de alta gramatura e capa dura com verniz localizado. \n\n🌸 EDIÇÃO DO VÍDEO: Jessica Torlezi (@jessica_torlezi)\n-------------\nCAIXA POSTAL 81382\nCEP 08050-970 São Paulo/SP\n\nNOSSOS LINKS\n- Site e loja virtual: https://pipocaenanquim.com.br/\n- E-mail: pipocaenanquim@gmail.com\n- @pipocaenanquim \n- @alexandrecallari\n- @zagaiada\n- @danielgillopes\n\n#incal #pipocaenanquim #quadrinhos\nEsse lançamento vocês não esperavam já pra 2023! | Pipoca e Nanquim 542\nhttps://youtu.be/jgFOz_zw6UY",
          "playlistId": "UUcq1Xu3SKcwE1CpzGi-N68g",
          "position": 27,
          "publishedAt": "2023-10-20T21:00:24Z",
          "resourceId": {
           "kind": "youtube#video",
           "videoId": "jgFOz_zw6UY"
          },
          "thumbnails": {
           "default": {
            "height": 90,
            "url": "https://i.ytimg.com/vi/jgFOz_zw6UY/default.jpg",
            "width": 120
           },
           "high": {
            "height": 360,
            "url": "https://i.ytimg.com/vi/jgFOz_zw6UY/hqdefault.jpg",
            "width": 480
           },
           "maxres": {
            "height": 720,
            "url": "https://i.ytimg.com/vi/jgFOz_zw6UY/maxresdefault.jpg",
            "width": 1280
           },
           "medium": {
            "height": 180,
            "url": "https://i.ytimg.com/vi/jgFOz_zw6UY/mqdefault.jpg",
            "width": 320
           },
           "standard": {
            "height": 480,
            "url": "https://i.ytimg.com/vi/jgFOz_zw6UY/sddefault.jpg",
            "width": 640
           }
          },
          "title": "Esse lançamento vocês não esperavam já pra 2023: INCAL PSICOVERSO | Pipoca e Nanquim 542",
          "videoOwnerChannelId": "UCcq1Xu3SKcwE1CpzGi-N68g",
          "videoOwnerChannelTitle": "Pipoca & Nanquim"
         }
        },
        {
         "contentDetails": {
          "videoId": "HEueTph-PEQ",
          "videoPublishedAt": "2023-10-19T21:00:08Z"
         },
         "etag": "i3E88u38WNRMQQyrjOtH-SiZpJU",
         "id": "VVVjcTFYdTNTS2N3RTFDcHpHaS1ONjhnLkhFdWVUcGgtUEVR",
         "kind": "youtube#playlistItem",
         "snippet": {
          "channelId": "UCcq1Xu3SKcwE1CpzGi-N68g",
          "channelTitle": "Pipoca & Nanquim",
          "description": "🤖 Jaspion: Guia Visual Definitivo (financiamento coletivo até 03/11/23): https://bit.ly/jaspionlivro\n💥 COLEÇÃO SPECTREMAN (mangás da Pipoca & Nanquim): https://amzn.to/36XdkBj\n📚 Quadrinhos, livros e mangás da editora Pipoca & Nanquim: https://amzn.to/3pwH2GV\n\nATUAIS PRÉ-VENDAS DA NOSSA EDITORA\n💪 BOX CONAN, O BÁRBARO: Coleção Completa em 3 Volumes + Pôster + Livreto Inédito + Marcadores Exclusivos (pré-venda de R$ 229,90 por R$ 160,90, cada livro sai por R$ 53,64): https://amzn.to/3RZrMhV / https://bit.ly/boxconanpn \n👑 REI KULL - Edição Completa e Definitiva com Sobrecapa de Acetato: https://amzn.to/3RsEdm0 / https://bit.ly/reikullpn\n🎨 MANDALA DE FOGO mangá volume único, com sobrecapa, capa metalizada em bronze e marcador exclusivo: https://amzn.to/3Q381V9 / https://bit.ly/mandalaon \n👻 AS ESCULTURAS SEM CABEÇA com 4 cards exclusivos: https://amzn.to/3Rktl9L / https://bit.ly/esculturaspn\n\nRecebemos hoje Adriano Almeida e @RicardoCruzOfficial pra bater um papo nostálgico sobre os 35 anos do fantástico Jaspion no Brasil! Conversamos sobre como o seriado foi criado no Japão, onde infelizmente não fez tanto sucesso (apesar das expectativas da Toei), e como ele chegou em terras brasileiras. E acreditem, a história de como o Jaspion chegou no Brasil é tão interessante quanto as fabulosas tramas dos episódios do tokusatsu. A forma como o personagem fez sucesso por aqui foi tão inesperada, que as empresas tiveram que improvisar com brinquedos e produtos derivados na época, e essa é outra história formidável! E, para além desse vídeo, você encontra todo esse conteúdo e MUITO MAIS no livro Jaspion: Guia Visual Definitivo, uma produção caprichosa da editora Mozu, que chega pra agradar aos fãs mais exigentes de Jaspion! E esse não é um vídeo patrocinado, é somente uma divulgação mais do que merecida de um produto tão bom, de um herói do qual somos tão fãs.\n\nSOBRE O LIVRO DO JASPION:\nVocê vai mergulhar em uma jornada emocionante através de 176 páginas com o conteúdo mais completo já produzido sobre a série no Brasil, num livro de capa dura, papel encorpado e acabamento gráfico inspirado nas icônicas publicações japonesas de tokusatsu. Um item histórico para a sua coleção.\n\nE se prepara, porque a chance de você se emocionar com as imagens - muitas inéditas por aqui - são altíssimas! Recebemos mais de mil fotos da época em alta definição, cedidas pela própria produtora do seriado, a Toei Company. O livro é uma parceria da Sato Company com a editora Mozu, criada por Ricardo Cruz, Adriano Almeida e Ariel Wollinger para trazer conteúdo nostálgico de alta qualidade para os fãs brasileiros.\n\nNas páginas do livro você vai conferir detalhes sobre cada um dos 46 episódios, todos os personagens, armas, monstros gigantes, trilha sonora, design, etc. E vai ler entrevistas com atores e outros profissionais falando em primeira mão como foi trabalhar no seriado. É verdade que a série fracassou no Japão? Perguntas como esta serão respondidas por quem esteve lá e viu tudo acontecer.\n\nO livro documenta também a época em que Jaspion se tornou uma verdadeira febre no Brasil, com entrevistas exclusivas com todos os envolvidos no sucesso da série, desde os licenciantes até os dubladores e fabricantes de brinquedos. E se prepare para relembrar da avalanche de produtos que foram lançados na época, como VHS, discos, quadrinhos, roupas, brinquedos, e muito mais.\n\nJaspion - Guia Visual Definitivo é um item de colecionador obrigatório para todos os fãs de tokusatsu, especialmente aqueles que cresceram assistindo a TV Manchete. E, claro, também para quem quer conhecer mais a fundo esse fenômeno da cultura pop, que abriu muitas portas para esse gênero no Brasil - incluindo a explosão dos animes encabeçada por Cavaleiros do Zodíaco.\n\n🚀 EDIÇÃO DO VÍDEO: João Alves (@johndalves) \n-------------\nCAIXA POSTAL 81382\nCEP 08050-970 São Paulo/SP\n\nNOSSOS LINKS\n- Site e loja virtual: https://pipocaenanquim.com.br/\n- E-mail: pipocaenanquim@gmail.com\n- @pipocaenanquim \n- @alexandrecallari\n- @zagaiada\n- @danielgillopes\n\n#jaspion #pipocaenanquim #tokusatsu\nHistória completa de JASPION e o sucesso estrondoso no Brasil | Pipoca e Nanquim 541\nhttps://youtu.be/HEueTph-PEQ",
          "playlistId": "UUcq1Xu3SKcwE1CpzGi-N68g",
          "position": 28,
          "publishedAt": "2023-10-19T21:00:08Z",
          "resourceId": {
           "kind": "youtube#video",
           "videoId": "HEueTph-PEQ"
          },
          "thumbnails": {
           "default": {
            "height": 90,
            "url": "https://i.ytimg.com/vi/HEueTph-PEQ/default.jpg",
            "width": 120
           },
           "high": {
            "height": 360,
            "url": "https://i.ytimg.com/vi/HEueTph-PEQ/hqdefault.jpg",
            "width": 480
           },
           "maxres": {
            "height": 720,
            "url": "https://i.ytimg.com/vi/HEueTph-PEQ/maxresdefault.jpg",
            "width": 1280
           },
           "medium": {
            "height": 180,
            "url": "https://i.ytimg.com/vi/HEueTph-PEQ/mqdefault.jpg",
            "width": 320
           },
           "standard": {
            "height": 480,
            "url": "https://i.ytimg.com/vi/HEueTph-PEQ/sddefault.jpg",
            "width": 640
           }
          },
          "title": "História completa de JASPION e o sucesso estrondoso no Brasil | Pipoca e Nanquim 541",
          "videoOwnerChannelId": "UCcq1Xu3SKcwE1CpzGi-N68g",
          "videoOwnerChannelTitle": "Pipoca & Nanquim"
         }
        },
        {
         "contentDetails": {
          "videoId": "0UGldrPdogA",
          "videoPublishedAt": "2023-10-16T22:46:50Z"
         },
         "etag": "shK8wnKHuCiX9HSOcsg03vh1NZo",
         "id": "VVVjcTFYdTNTS2N3RTFDcHpHaS1ONjhnLjBVR2xkclBkb2dB",
         "kind": "youtube#playlistItem",
         "snippet": {
          "channelId": "UCcq1Xu3SKcwE1CpzGi-N68g",
          "channelTitle": "Pipoca & Nanquim",
          "description": "",
          "playlistId": "UUcq1Xu3SKcwE1CpzGi-N68g",
          "position": 29,
          "publishedAt": "2023-10-16T22:46:50Z",
          "resourceId": {
           "kind": "youtube#video",
           "videoId": "0UGldrPdogA"
          },
          "thumbnails": {
           "default": {
            "height": 90,
            "url": "https://i.ytimg.com/vi/0UGldrPdogA/default.jpg",
            "width": 120
           },
           "high": {
            "height": 360,
            "url": "https://i.ytimg.com/vi/0UGldrPdogA/hqdefault.jpg",
            "width": 480
           },
           "maxres": {
            "height": 720,
            "url": "https://i.ytimg.com/vi/0UGldrPdogA/maxresdefault.jpg",
            "width": 1280
           },
           "medium": {
            "height": 180,
            "url": "https://i.ytimg.com/vi/0UGldrPdogA/mqdefault.jpg",
            "width": 320
           },
           "standard": {
            "height": 480,
            "url": "https://i.ytimg.com/vi/0UGldrPdogA/sddefault.jpg",
            "width": 640
           }
          },
          "title": "Verifique se é o seu caso, pois já está em estoque",
          "videoOwnerChannelId": "UCcq1Xu3SKcwE1CpzGi-N68g",
          "videoOwnerChannelTitle": "Pipoca & Nanquim"
         }
        },
        {
         "contentDetails": {
          "videoId": "2jkaDJhuvGE",
          "videoPublishedAt": "2023-10-16T21:32:35Z"
         },
         "etag": "TUNNCBuf9CfaaIHvt--zv22CNV4",
         "id": "VVVjcTFYdTNTS2N3RTFDcHpHaS1ONjhnLjJqa2FESmh1dkdF",
         "kind": "youtube#playlistItem",
         "snippet": {
          "channelId": "UCcq1Xu3SKcwE1CpzGi-N68g",
          "channelTitle": "Pipoca & Nanquim",
          "description": "💪 BOX CONAN, O BÁRBARO: Coleção Completa em 3 Volumes + Pôster + Livreto Inédito + Marcadores Exclusivos (pré-venda de R$ 229,90 por R$ 160,90, cada livro sai por R$ 53,64): https://amzn.to/3RZrMhV / https://bit.ly/boxconanpn \n👑 REI KULL - Edição Completa e Definitiva com Sobrecapa de Acetato: https://amzn.to/3RsEdm0 / https://bit.ly/reikullpn\n⚔️ Solomon Kane: https://amzn.to/3PtB3eV / https://bit.ly/solomonpn\n👊 Bran Mak Morn - O Último Rei dos Pictos: https://amzn.to/3iQRoOq / https://bit.ly/branmakmornpn\n🏰 Red Sonja - A Balada da Deusa Ruiva e a Sombra do Abutre: https://amzn.to/3Pdm7RV / https://bit.ly/redsonjapn\n\nUm dos maiores best-sellers da editora Pipoca & Nanquim, a obra-prima do cultuado escritor Robert E. Howard, está de volta em uma nova edição absolutamente espetacular: o box Conan, o Bárbaro, com a coleção completa, acompanhado ainda de pôster exclusivo, um novo marcador de página para cada livro e um livreto com conteúdo especial inédito.\n\nConheça a trajetória de Conan pelas mãos de seu criador e descubra por que histórias como A Rainha da Costa Negra, A Torre do Elefante, A Hora do Dragão, Pregos Vermelhos e Além do Rio Negro são consideradas por público e crítica como a nata da Espada e Feitiçaria, tidas hoje em dia como verdadeiros marcos da literatura norte-americana de fantasia.\n\nTal qual as versões anteriores, esta reedição inclui todas as clássicas narrativas que Howard produziu do cimério, as que ele publicou em vida e as que foram lançadas postumamente, na ordem em que saíram, além das capas originais da revista Weird Tales (onde os textos eram publicados na década de 1930), extras complementares essenciais, como Os Anais da Era Hiboriana, e ilustrações dos artistas Gary Gianni, Gregory Manchess e Mark Schultz. \n\nO box que armazena a coleção é rígido, com acabamento de capa dura, e impresso com detalhes em hotstamp dourado e verniz localizado. E para coroar ainda mais esta reedição, cada um dos livros tem capa cartão com arte dos inigualáveis capistas do cimério na fase em quadrinhos da Marvel Comics, três dos ilustradores mais adorados pelos fãs: BORIS VALLEJO, JOE JUSKO e EARL NOREM!! \n\nAlém dos livros, o box também traz três marcadores de página inéditos, com artes coloridas; um pôster de 31x45 cm ilustrado por Mark Schultz; e um livreto de 40 páginas com capa de Boris Vallejo e quarta capa de Joe Jusko, que apresenta material inédito no Brasil, como o conto inacabado Lobos da Fronteira e a sinopse de Amalric, que Howard jamais concretizou em forma de conto.\n \nÉ a coleção definitiva de um dos maiores personagens da história da cultura pop, a oportunidade perfeita para descobrir (ou redescobrir) o nascimento do gênero Espada e Feitiçaria!\n\nOUTRAS PRÉ-VENDAS DA EDITORA (até 33% OFF na loja do PN):\n🎨 MANDALA DE FOGO: https://amzn.to/3Q381V9 /  https://bit.ly/mandalaon\n👑 REI KULL - Edição Completa e Definitiva com Sobrecapa de Acetato: https://amzn.to/3RsEdm0 / https://bit.ly/reikullpn (no site do PN +5% OFF no pix)\n🔥 COPRA Round 6 (pré-venda da conclusão da série): https://amzn.to/3OmH4vm / https://bit.ly/copra6pn\n👻 AS ESCULTURAS SEM CABEÇA com 4 cards exclusivos: https://amzn.to/3Rktl9L / https://bit.ly/esculturaspn\n\n🚀 EDIÇÃO DO VÍDEO: João Alves (@johndalves) \n-------------\nCAIXA POSTAL 81382\nCEP 08050-970 São Paulo/SP\n\nNOSSOS LINKS\n- Site e loja virtual: https://pipocaenanquim.com.br/\n- E-mail: pipocaenanquim@gmail.com\n- @pipocaenanquim \n- @alexandrecallari\n- @zagaiada\n- @danielgillopes\n\n#pipocaenanquim #conanobárbaro #robertehoward \nBOX CONAN O BÁRBARO! Vocês não vão acreditar nas capas que conseguimos 🤩 | Pipoca e Nanquim 540\nhttps://youtu.be/2jkaDJhuvGE",
          "playlistId": "UUcq1Xu3SKcwE1CpzGi-N68g",
          "position": 30,
          "publishedAt": "2023-10-16T21:32:35Z",
          "resourceId": {
           "kind": "youtube#video",
           "videoId": "2jkaDJhuvGE"
          },
          "thumbnails": {
           "default": {
            "height": 90,
            "url": "https://i.ytimg.com/vi/2jkaDJhuvGE/default.jpg",
            "width": 120
           },
           "high": {
            "height": 360,
            "url": "https://i.ytimg.com/vi/2jkaDJhuvGE/hqdefault.jpg",
            "width": 480
           },
           "maxres": {
            "height": 720,
            "url": "https://i.ytimg.com/vi/2jkaDJhuvGE/maxresdefault.jpg",
            "width": 1280
           },
           "medium": {
            "height": 180,
            "url": "https://i.ytimg.com/vi/2jkaDJhuvGE/mqdefault.jpg",
            "width": 320
           },
           "standard": {
            "height": 480,
            "url": "https://i.ytimg.com/vi/2jkaDJhuvGE/sddefault.jpg",
            "width": 640
           }
          },
          "title": "BOX CONAN O BÁRBARO! Vocês não vão acreditar nas capas que conseguimos 🤩 | Pipoca e Nanquim 540",
          "videoOwnerChannelId": "UCcq1Xu3SKcwE1CpzGi-N68g",
          "videoOwnerChannelTitle": "Pipoca & Nanquim"
         }
        },
        {
         "contentDetails": {
          "videoId": "YW8SW0ZcNz8",
          "videoPublishedAt": "2023-10-13T23:27:05Z"
         },
         "etag": "5cckwL_8UW_NzBz6D4ACLZd_lPM",
         "id": "VVVjcTFYdTNTS2N3RTFDcHpHaS1ONjhnLllXOFNXMFpjTno4",
         "kind": "youtube#playlistItem",
         "snippet": {
          "channelId": "UCcq1Xu3SKcwE1CpzGi-N68g",
          "channelTitle": "Pipoca & Nanquim",
          "description": "⚡ APOIO: Evolukit Móveis Modulados. https://evolukit.com.br/\nAs melhores estantes para sua organização de Livros, HQs e colecionáveis. Use o cupom cupom PIPOCA5 de 10% off à vista e 5% a prazo, em até 6x sem juros.\n📖 COPRA coleção (Pipoca e Nanquim): https://amzn.to/494Dj5J\n📚 Quadrinhos, livros e mangás da editora Pipoca & Nanquim: https://amzn.to/3pwH2GV\n\nApós revolucionar na Marvel Comics, Byrne acabou brigando com o editorial e foi parar na concorrência, a DC Comics! Lá, ele criou outras ótimas HQs com grandes personagens, até que ele brigou de novo e decidiu não ficar fixo em nenhuma das duas editoras, mas, sim, trabalhar de freela para todas, incluindo a novata Dark Horse, e ainda fez alguns retornos pras duas grandes dos super-heróis.\n\nNeste terceiro vídeo, vamos focar em mais parcerias com DC e Marvel, incluindo um crossover muito inusitado com seu ídolo Stan Lee; sua carreira dentro da IDW, onde criou muitas obras de Star Trek (entre elas uma série de fotonovelas!!); e, por fim, comentamos sua fanfic de X-Men, que ele lança regularmente em seu site pessoal!\n\nUfa, foram 3 vídeos recheados de conteúdo, uma verdadeira aula desse mestre da nona arte, então contamos com sua inscrição, seu like e comentário: qual o próximo mestre que devemos abordar aqui neste quadro do canal?\n\nQUADRINHOS, LIVROS e LINKS MENCIONADOS NO VÍDEO\n- COPRA coleção (Pipoca e Nanquim): https://amzn.to/494Dj5J\n- X-Men - Tesouros Ocultos Omnibus (Panini): https://amzn.to/3Q1IJpo\n- Superman & Batman - Gerações Omnibus (Panini): https://amzn.to/3FdkXBs\n- Dc Graphic Novels - Batman & Superman - Gerações (Eaglemoss): https://amzn.to/46tzB3N\n- Depois do Fim do Mundo (Mythos): https://amzn.to/3PUjMMv\n- John Byrne - Operação High Ways (Skrypt): https://amzn.to/3M0Aclk \n- Trio (Hyperion): https://amzn.to/48NY9WL\n- John Byrne - O Gênio Indomável: entre em contato pelo email para comprar: rodrigotalayer77@gmail.com (📸 Insta do Rodrigo, autor do livro: @rodrigotalayer)\n- Site oficial do John Byrne: https://www.byrnerobotics.com/\n- Matérias do Universo HQ sobre as polêmicas de John Byrne:\nhttps://universohq.com/noticias/john-byrne-polemica-pouca-e-bobagem/\nhttps://universohq.com/entrevistas/criatividade-e-polemica-a-toda-prova/\n\nPRÉ-VENDAS DA EDITORA ROLANDO AGORA (até 33% OFF na loja do PN):\n🎨 MANDALA DE FOGO: https://amzn.to/3Q381V9 / https://bit.ly/mandalaon\n👑 REI KULL - Edição Completa e Definitiva com Sobrecapa de Acetato: https://amzn.to/3RsEdm0 / https://bit.ly/reikullpn (no site do PN +5% OFF no pix)\n🔥 COPRA Round 6 (pré-venda da conclusão da série): https://amzn.to/3OmH4vm / https://bit.ly/copra6pn\n👻 AS ESCULTURAS SEM CABEÇA com 4 cards exclusivos: https://amzn.to/3Rktl9L / https://bit.ly/esculturaspn\n\n🌸 EDIÇÃO DO VÍDEO: Jessica Torlezi (@jessica_torlezi)\n-------------\nCAIXA POSTAL 81382\nCEP 08050-970 São Paulo/SP\n\nNOSSOS LINKS\n- Site e loja virtual: https://pipocaenanquim.com.br/\n- E-mail: pipocaenanquim@gmail.com\n- @pipocaenanquim \n- @alexandrecallari\n- @zagaiada\n- @danielgillopes\n\n#johnbyrne #quadrinhos #mestresdanonaarte\nFase mais conturbada da vida de JOHN BYRNE! Fanfic, fotonovela e polêmicas | Mestres da Nona Arte 19\nhttps://youtu.be/YW8SW0ZcNz8",
          "playlistId": "UUcq1Xu3SKcwE1CpzGi-N68g",
          "position": 31,
          "publishedAt": "2023-10-13T23:27:05Z",
          "resourceId": {
           "kind": "youtube#video",
           "videoId": "YW8SW0ZcNz8"
          },
          "thumbnails": {
           "default": {
            "height": 90,
            "url": "https://i.ytimg.com/vi/YW8SW0ZcNz8/default.jpg",
            "width": 120
           },
           "high": {
            "height": 360,
            "url": "https://i.ytimg.com/vi/YW8SW0ZcNz8/hqdefault.jpg",
            "width": 480
           },
           "maxres": {
            "height": 720,
            "url": "https://i.ytimg.com/vi/YW8SW0ZcNz8/maxresdefault.jpg",
            "width": 1280
           },
           "medium": {
            "height": 180,
            "url": "https://i.ytimg.com/vi/YW8SW0ZcNz8/mqdefault.jpg",
            "width": 320
           },
           "standard": {
            "height": 480,
            "url": "https://i.ytimg.com/vi/YW8SW0ZcNz8/sddefault.jpg",
            "width": 640
           }
          },
          "title": "Fase mais conturbada da vida de JOHN BYRNE! Fanfic, fotonovela e polêmicas | Mestres da Nona Arte 19",
          "videoOwnerChannelId": "UCcq1Xu3SKcwE1CpzGi-N68g",
          "videoOwnerChannelTitle": "Pipoca & Nanquim"
         }
        },
        {
         "contentDetails": {
          "videoId": "m9bY8CJWhOw",
          "videoPublishedAt": "2023-10-12T01:06:53Z"
         },
         "etag": "nn2TFRq8t9C1ZH1fUGzyJlzO1WM",
         "id": "VVVjcTFYdTNTS2N3RTFDcHpHaS1ONjhnLm05Ylk4Q0pXaE93",
         "kind": "youtube#playlistItem",
         "snippet": {
          "channelId": "UCcq1Xu3SKcwE1CpzGi-N68g",
          "channelTitle": "Pipoca & Nanquim",
          "description": "🥳 SALDÃO DE ANIVERSÁRIO ofertas até 60% até 11/10 (+5% OFF no Pix + cupom PN14 de R$ 14,00 de desconto em compras acima de R$ 299,00): https://pipocaenanquim.com.br//saldao-de-aniversario-14-anos.html\n👉 Entre para a nossa LISTA VIP, e fique por dentro de nossas ofertas em primeira mão (não é obrigatório pra participar do saldão): https://links.pipocaenanquim.com.br\n\nPRÉ-VENDAS DA EDITORA ROLANDO AGORA (até 33% OFF na loja do PN):\n🎨 MANDALA DE FOGO: https://amzn.to/3Q381V9 / https://bit.ly/mandalaon\n👑 REI KULL - Edição Completa e Definitiva com Sobrecapa de Acetato: https://amzn.to/3RsEdm0 / https://bit.ly/reikullpn (no site do PN +5% OFF no pix)\n🔥 COPRA Round 6 (pré-venda da conclusão da série): https://amzn.to/3OmH4vm / https://bit.ly/copra6pn\n👻 AS ESCULTURAS SEM CABEÇA com 4 cards exclusivos: https://amzn.to/3Rktl9L / https://bit.ly/esculturaspn\n\nSINOPSE DO GAME:\nDe PlayStation Studios e Bluepoint Games, chega um remake do clássico de PlayStation Demon's Souls. Totalmente reconstruído do zero e aprimorado, este remake apresenta os horrores dessa terra de fantasia sombria e nebulosa a uma nova geração de jogadores. Aqueles que já enfrentaram seus desafios e tribulações antes agora podem desafiar a escuridão novamente com uma qualidade visual impressionante e desempenho incrível.\n\nEm sua busca por poder, o 12º Rei de Boletaria, Rei Allant, canalizou as ancestrais Artes da Alma, despertando um demônio do alvorecer dos tempos, o Ancião. Com a invocação do Ancião, uma névoa incolor tomou conta da região, trazendo criaturas horrendas famintas por almas humanas. Aqueles que tiveram as almas arrancadas perderam a sanidade, ficando apenas com o desejo de atacar quem permaneceu são.\n\nAgora, Boletaria está isolada do mundo exterior, e os cavaleiros que ousam adentrar a névoa espessa para libertar a terra de seu suplício nunca mais são vistos. Ao se aventurar pela névoa maligna, você terá que enfrentar os desafios mais difíceis para ganhar o título de \"Algoz de Demônios\" e enviar o Ancião de volta ao seu sono.\n\n00:00 Introdução com Alexandre Callari\n06:53 Astro's Playroom com Alexandre Callari\n35:43 Criando o Conan em Demon Souls\n51:36 Comilança com Daniel sem barba\n1:04:20 Demon Souls com Daniel\n1:11:48 Começa o Noobificador Total pra valer!\n1:45:00 Conheçam Bruno Zago OVERPREPARED\n2:00:44 Aqui começa a degringolar...\n2:17:39 A sequência do sofrimento\n2:28:26 Enfim uma \"vitória\" e luz de esperança\n2:37:44 Esquece, ele nunca vai conseguir\n2:44:53 Reta final do desespero\n\n-------------\nCAIXA POSTAL 81382\nCEP 08050-970 São Paulo/SP\n\nNOSSOS LINKS\n- Site e loja virtual: https://pipocaenanquim.com.br/\n- E-mail: pipocaenanquim@gmail.com\n- @pipocaenanquim \n- @alexandrecallari\n- @zagaiada\n- @danielgillopes\n\n#noobificadortotal #demonsouls #ps5gameplay \nConhecendo o PS5 e colocando noob pra jogar DEMON SOULS pela primeira vez 😂 | Noobificador Total\nhttps://youtube.com/live/m9bY8CJWhOw",
          "playlistId": "UUcq1Xu3SKcwE1CpzGi-N68g",
          "position": 32,
          "publishedAt": "2023-10-12T01:06:53Z",
          "resourceId": {
           "kind": "youtube#video",
           "videoId": "m9bY8CJWhOw"
          },
          "thumbnails": {
           "default": {
            "height": 90,
            "url": "https://i.ytimg.com/vi/m9bY8CJWhOw/default.jpg",
            "width": 120
           },
           "high": {
            "height": 360,
            "url": "https://i.ytimg.com/vi/m9bY8CJWhOw/hqdefault.jpg",
            "width": 480
           },
           "maxres": {
            "height": 720,
            "url": "https://i.ytimg.com/vi/m9bY8CJWhOw/maxresdefault.jpg",
            "width": 1280
           },
           "medium": {
            "height": 180,
            "url": "https://i.ytimg.com/vi/m9bY8CJWhOw/mqdefault.jpg",
            "width": 320
           },
           "standard": {
            "height": 480,
            "url": "https://i.ytimg.com/vi/m9bY8CJWhOw/sddefault.jpg",
            "width": 640
           }
          },
          "title": "Conhecendo o PS5 e colocando noob pra jogar DEMON SOULS pela primeira vez 😂 | Noobificador Total",
          "videoOwnerChannelId": "UCcq1Xu3SKcwE1CpzGi-N68g",
          "videoOwnerChannelTitle": "Pipoca & Nanquim"
         }
        },
        {
         "contentDetails": {
          "videoId": "BwaXybNVN04",
          "videoPublishedAt": "2023-10-10T03:33:15Z"
         },
         "etag": "JFw_uwJKT4uuxnl3tbdWrEY51J8",
         "id": "VVVjcTFYdTNTS2N3RTFDcHpHaS1ONjhnLkJ3YVh5Yk5WTjA0",
         "kind": "youtube#playlistItem",
         "snippet": {
          "channelId": "UCcq1Xu3SKcwE1CpzGi-N68g",
          "channelTitle": "Pipoca & Nanquim",
          "description": "🥳 SALDÃO DE ANIVERSÁRIO ofertas até 60% até 11/10 (+5% OFF no Pix + cupom PN14 de R$ 14,00 de desconto em compras acima de R$ 299,00): https://pipocaenanquim.com.br//saldao-de-aniversario-14-anos.html\n👉 Entre para a nossa LISTA VIP, e fique por dentro de nossas ofertas em primeira mão (não é obrigatório pra participar do saldão): https://links.pipocaenanquim.com.br\n\nPRÉ-VENDAS DA EDITORA ROLANDO AGORA (até 33% OFF na loja do PN):\n🎨 MANDALA DE FOGO: https://amzn.to/3Q381V9 / https://bit.ly/mandalaon\n👑 REI KULL - Edição Completa e Definitiva com Sobrecapa de Acetato: https://amzn.to/3RsEdm0 / https://bit.ly/reikullpn (no site do PN +5% OFF no pix)\n🔥 COPRA Round 6 (pré-venda da conclusão da série): https://amzn.to/3OmH4vm / https://bit.ly/copra6pn\n👻 AS ESCULTURAS SEM CABEÇA com 4 cards exclusivos: https://amzn.to/3Rktl9L / https://bit.ly/esculturaspn\r\n\r\nDia 07/10/2009 nasceu o canal Pipoca e Nanquim! Ou seja, exatamente HOJE, data em que programamos esta Live, faz 14 anos que estamos fazendo esse trabalho na internet; e que alegria ter todos vocês conosco nessa trajetória. Como hoje é sábado, tivemos que deixar a comemoração pra segunda, dia 09/10. \r\n\r\nE, pra comemorar, vamos conversar com todos vocês em uma Live especial, respondendo perguntas e interagindo com os inscritos. Além disso, vamos contar o maior perrengue de nossas vidas até hoje, rsrs, por que sabemos que vocês gostam de um bom causo de perrengue. E pra coroar a Live, inauguraremos um grande Saldão em nossa loja, aos moldes daquele que foi feito em abril, no aniversário de 6 anos da editora.\r\n\r\nE ATENÇÃO: COMO SE PREPARAR PARA O SALDÃO? \r\n\r\nDevido a uma atualização técnica de servidor e do sistema de faturamento da nossa loja virtual, pedimos que os clientes já cadastrados em nosso site atualizem o seu cadastro para que consigam fazer novos pedidos e possam aproveitar o Saldão de Aniversário dessa segunda-feira (09/10). Para isso, será necessário apenas redefinir a senha. \r\n\r\nBasta entrar neste link (https://pipocaenanquim.com.br/custome..., digitar o e-mail de cadastro utilizado e, em seguida, clicar no botão \"Redefinir Minha Senha\". Se o e-mail informado realmente tiver uma conta já criada, chegará um e-mail para que a redefinição seja feita.\r\n\r\n👉 Mas como criar uma nova conta, caso não chegue o e-mail de redefinição de senha?\r\n\r\nCaso não chegue nenhum e-mail, será necessário criar uma nova conta, do zero, pois a sua conta com o e-mail indicado não estava mais ativa. Para isso, é só entrar no link abaixo e preencher o formulário de criação de conta, como em todo site de ecommerce: https://pipocaenanquim.com.br/custome...\r\n\r\n👉 E se eu tinha uma pré-venda comprada no sistema anterior?\r\n\r\nCaso você tenha feito algum pedido de pré-venda anteriormente, que ainda não foi enviado, não se preocupe. Todos os pedidos com pagamentos confirmados com pré-vendas serão enviados nas respectivas datas de chegadas desses quadrinhos ao estoque. \r\n\r\nNós mantivemos o site antigo no ar, em outro endereço, para que você também possa consultar, com a senha anterior, o status de seus pedidos antigos: https://antigo.pipocaenanquim.com.br/... (não faça nenhuma compra neste link, ele serve apenas para consultar seus pedidos já feitos).\r\n\r\n👉 Qualquer dúvida, temos também o nosso email: loja@pipocaenanquim.com.br\r\n\r\nObrigado pela compreensão!\r\n\r\n-------------\r\nCAIXA POSTAL 81382\r\nCEP 08050-970 São Paulo/SP\r\n\r\nNOSSOS LINKS\r\n- Site e loja virtual: https://pipocaenanquim.com.br/\r\n- E-mail: pipocaenanquim@gmail.com\r\n- @pipocaenanquim \r\n- @alexandrecallari\r\n- @zagaiada\r\n- @danielgillopes\n\n#pipocaenanquim #quadrinhos #mangás \nComemorando 14 Anos + SALDÃO ABSURDO EM NOSSO SITE + O Maior Perrengue da Editora | LIVE ESPECIAL\nhttps://youtube.com/live/BwaXybNVN04",
          "playlistId": "UUcq1Xu3SKcwE1CpzGi-N68g",
          "position": 33,
          "publishedAt": "2023-10-10T03:33:15Z",
          "resourceId": {
           "kind": "youtube#video",
           "videoId": "BwaXybNVN04"
          },
          "thumbnails": {
           "default": {
            "height": 90,
            "url": "https://i.ytimg.com/vi/BwaXybNVN04/default.jpg",
            "width": 120
           },
           "high": {
            "height": 360,
            "url": "https://i.ytimg.com/vi/BwaXybNVN04/hqdefault.jpg",
            "width": 480
           },
           "maxres": {
            "height": 720,
            "url": "https://i.ytimg.com/vi/BwaXybNVN04/maxresdefault.jpg",
            "width": 1280
           },
           "medium": {
            "height": 180,
            "url": "https://i.ytimg.com/vi/BwaXybNVN04/mqdefault.jpg",
            "width": 320
           },
           "standard": {
            "height": 480,
            "url": "https://i.ytimg.com/vi/BwaXybNVN04/sddefault.jpg",
            "width": 640
           }
          },
          "title": "Comemorando 14 Anos + SALDÃO ABSURDO EM NOSSO SITE + O Maior Perrengue da Editora | LIVE ESPECIAL",
          "videoOwnerChannelId": "UCcq1Xu3SKcwE1CpzGi-N68g",
          "videoOwnerChannelTitle": "Pipoca & Nanquim"
         }
        },
        {
         "contentDetails": {
          "videoId": "hLAOw1UiMNM",
          "videoPublishedAt": "2023-10-08T14:00:35Z"
         },
         "etag": "7S6qOeDeJ9_nuoPexM4AxnRYxTA",
         "id": "VVVjcTFYdTNTS2N3RTFDcHpHaS1ONjhnLmhMQU93MVVpTU5N",
         "kind": "youtube#playlistItem",
         "snippet": {
          "channelId": "UCcq1Xu3SKcwE1CpzGi-N68g",
          "channelTitle": "Pipoca & Nanquim",
          "description": "⚡ APOIO: Evolukit Móveis Modulados. https://evolukit.com.br/\nAs melhores estantes para sua organização de Livros, HQs e colecionáveis. Use o cupom cupom PIPOCA5 de 10% off à vista e 5% a prazo, em até 6x sem juros.\n👉 INSCREVA-SE NA NEWSLETTER DO SOC TUM POW:  https://gustavovicola.substack.com/\n👉 LINK COMENTADO NO VÍDEO:  http://www.kleefeldoncomics.com/2015/12/on-history-pop-hollinger.html\n\n🎨 MANDALA DE FOGO: https://amzn.to/3Q381V9 / https://bit.ly/mandalaon\n🌼 MONSTRO DEBAIXO DA MINHA CAMA (de R$ 69,90 por R$ 48,90 até 21/09): https://amzn.to/3QCQIec\n🤖 ZONA LIVRE (de R$ 49,90 por R$ 38,90 até 29/09): https://amzn.to/47zSumD\n📚 Quadrinhos, livros e mangás da editora Pipoca & Nanquim: https://amzn.to/3pwH2GV\n\nOs fãs de quadrinhos adoram frequentar lojas de quadrinhos, certo? Mas como, quando e onde surgiram esses estabelecimentos que tanto amamos? O vídeo de hoje vem exatamente pra contar essa história: como surgiram as comics shops! O vídeo é focado no mercado norte-americano de quadrinhos, modelo que mais inspirou o mercado brasileiro depois, mas traz também curiosidades sobre o Brasil. \n\nQual foi a primeira comic shop de todos os tempos? Será que é possível responder essa pergunta? Até é, mas não é tão simples quanto vocês pensam, pois existem controvérsias. E qual é a loja de HQs mais antiga do mundo? Nós descobrimos isso!! E quem foi que teve a ideia pra montar esse negócio? E como as grandes editoras passaram a vender pra lojistas especializados e abandonaram as bancas convencionais? Tudo isso e muito mais neste vídeo aqui, que é a primeira parte de dois vídeos muito completos que vão dar conta de toda a trajetória das comics shops, dos primórdios até os dias de hoje. \n\nEste vídeo parte do surgimento das histórias em quadrinhos e vai até o surgimento do famoso Mercado Direto norte-americano.\n\nPRÉ-VENDAS DA EDITORA ROLANDO AGORA (até 33% OFF na loja do PN):\n🎨 MANDALA DE FOGO: https://amzn.to/3Q381V9 / https://bit.ly/mandalaon\n👑 REI KULL - Edição Completa e Definitiva com Sobrecapa de Acetato: https://amzn.to/3RsEdm0 / https://bit.ly/reikullpn (no site do PN +5% OFF no pix)\n🔥 COPRA Round 6 (pré-venda da conclusão da série): https://amzn.to/3OmH4vm / https://bit.ly/copra6pn\n👻 AS ESCULTURAS SEM CABEÇA com 4 cards exclusivos: https://amzn.to/3Rktl9L / https://bit.ly/esculturaspn\n\n🌟 PESQUISA DO VÍDEO: Gustavo Vícola (@gustavo.vicola)\n🚀 EDIÇÃO DO VÍDEO: João Alves (@johndalves) \n-------------\nCAIXA POSTAL 81382\nCEP 08050-970 São Paulo/SP\n\nNOSSOS LINKS\n- Site e loja virtual: https://pipocaenanquim.com.br/\n- E-mail: pipocaenanquim@gmail.com\n- @pipocaenanquim \n- @alexandrecallari\n- @zagaiada\n- @danielgillopes\n\n#pnextra #quadrinhos #hqs\nHistória completa de como surgiram as COMIC SHOPS nos Estados Unidos | PN Extra 359\nhttps://youtu.be/hLAOw1UiMNM",
          "playlistId": "UUcq1Xu3SKcwE1CpzGi-N68g",
          "position": 34,
          "publishedAt": "2023-10-08T14:00:35Z",
          "resourceId": {
           "kind": "youtube#video",
           "videoId": "hLAOw1UiMNM"
          },
          "thumbnails": {
           "default": {
            "height": 90,
            "url": "https://i.ytimg.com/vi/hLAOw1UiMNM/default.jpg",
            "width": 120
           },
           "high": {
            "height": 360,
            "url": "https://i.ytimg.com/vi/hLAOw1UiMNM/hqdefault.jpg",
            "width": 480
           },
           "maxres": {
            "height": 720,
            "url": "https://i.ytimg.com/vi/hLAOw1UiMNM/maxresdefault.jpg",
            "width": 1280
           },
           "medium": {
            "height": 180,
            "url": "https://i.ytimg.com/vi/hLAOw1UiMNM/mqdefault.jpg",
            "width": 320
           },
           "standard": {
            "height": 480,
            "url": "https://i.ytimg.com/vi/hLAOw1UiMNM/sddefault.jpg",
            "width": 640
           }
          },
          "title": "História completa de como surgiram as COMIC SHOPS nos Estados Unidos | PN Extra 359",
          "videoOwnerChannelId": "UCcq1Xu3SKcwE1CpzGi-N68g",
          "videoOwnerChannelTitle": "Pipoca & Nanquim"
         }
        },
        {
         "contentDetails": {
          "videoId": "5Iurx2ghZ9g",
          "videoPublishedAt": "2023-10-06T22:21:23Z"
         },
         "etag": "7_aWHsZeHHZgDZ3IlC1DaqWuGQs",
         "id": "VVVjcTFYdTNTS2N3RTFDcHpHaS1ONjhnLjVJdXJ4MmdoWjln",
         "kind": "youtube#playlistItem",
         "snippet": {
          "channelId": "UCcq1Xu3SKcwE1CpzGi-N68g",
          "channelTitle": "Pipoca & Nanquim",
          "description": "🎨 MANDALA DE FOGO: https://amzn.to/3Q381V9 / https://bit.ly/mandalaon\n👉 Entre para a nossa LISTA VIP, e fique por dentro de nossas ofertas em primeira mão: https://links.pipocaenanquim.com.br\n📚 Quadrinhos, livros e mangás da editora Pipoca & Nanquim: https://amzn.to/3pwH2GV\r\n\r\nNossa crítica do começo da segunda temporada de LOKI, do Disney Plus, com spoilers.\r\n\r\nSINOPSE DA SÉRIE:\r\nA série da Marvel pertence ao universo MCU e acontece após os eventos de Vingadores: Ultimato (2019). Na sua primeira parte, lançada no Disney+ em 2021, Loki é levado para a Autoridade de Variância Temporal (AVL) depois de roubar o Tesseract e recebe a difícil missão de capturar uma Variante de si mesmo sob a supervisão do agente Mobius (Owen Wilson). Na segunda temporada, Loki precisa lidar com os deslizes temporais que o fazem viajar involuntariamente entre o passado e o presente, consequência do caos deixado por Sylvie (Sophia Di Martino) no multiverso no final da primeira etapa da série.\r\n\r\nPRÉ-VENDAS DA EDITORA ROLANDO AGORA (até 33% OFF na loja do PN):\r\n🎨 MANDALA DE FOGO: https://amzn.to/3Q381V9 / https://bit.ly/mandalaon\r\n👑 REI KULL - Edição Completa e Definitiva com Sobrecapa de Acetato: https://amzn.to/3RsEdm0 / https://bit.ly/reikullpn (no site do PN +5% OFF no pix)\r\n🔥 COPRA Round 6 (pré-venda da conclusão da série): https://amzn.to/3OmH4vm / https://bit.ly/copra6pn\r\n👻 AS ESCULTURAS SEM CABEÇA com 4 cards exclusivos: https://amzn.to/3Rktl9L / https://bit.ly/esculturaspn\r\n\r\n-------------\r\nCAIXA POSTAL 81382\r\nCEP 08050-970 São Paulo/SP\r\n\r\nNOSSOS LINKS\r\n- Site e loja virtual: https://pipocaenanquim.com.br/\r\n- E-mail: pipocaenanquim@gmail.com\r\n- @pipocaenanquim \r\n- @alexandrecallari\r\n- @zagaiada\r\n- @danielgillopes\r\n\r\n#loki #pipocaenanquim #marvel\r\nSegunda Temporada de LOKI! O que achamos desse começo | Pipoca e Nanquim 560\nhttps://youtube.com/live/5Iurx2ghZ9g",
          "playlistId": "UUcq1Xu3SKcwE1CpzGi-N68g",
          "position": 35,
          "publishedAt": "2023-10-06T22:21:23Z",
          "resourceId": {
           "kind": "youtube#video",
           "videoId": "5Iurx2ghZ9g"
          },
          "thumbnails": {
           "default": {
            "height": 90,
            "url": "https://i.ytimg.com/vi/5Iurx2ghZ9g/default.jpg",
            "width": 120
           },
           "high": {
            "height": 360,
            "url": "https://i.ytimg.com/vi/5Iurx2ghZ9g/hqdefault.jpg",
            "width": 480
           },
           "maxres": {
            "height": 720,
            "url": "https://i.ytimg.com/vi/5Iurx2ghZ9g/maxresdefault.jpg",
            "width": 1280
           },
           "medium": {
            "height": 180,
            "url": "https://i.ytimg.com/vi/5Iurx2ghZ9g/mqdefault.jpg",
            "width": 320
           },
           "standard": {
            "height": 480,
            "url": "https://i.ytimg.com/vi/5Iurx2ghZ9g/sddefault.jpg",
            "width": 640
           }
          },
          "title": "Segunda Temporada de LOKI! O que achamos desse começo | Pipoca e Nanquim 560",
          "videoOwnerChannelId": "UCcq1Xu3SKcwE1CpzGi-N68g",
          "videoOwnerChannelTitle": "Pipoca & Nanquim"
         }
        },
        {
         "contentDetails": {
          "videoId": "S6vQdfJnELs",
          "videoPublishedAt": "2023-10-05T17:12:18Z"
         },
         "etag": "d49a65isifiFdUhASlKQnGmLhTs",
         "id": "VVVjcTFYdTNTS2N3RTFDcHpHaS1ONjhnLlM2dlFkZkpuRUxz",
         "kind": "youtube#playlistItem",
         "snippet": {
          "channelId": "UCcq1Xu3SKcwE1CpzGi-N68g",
          "channelTitle": "Pipoca & Nanquim",
          "description": "",
          "playlistId": "UUcq1Xu3SKcwE1CpzGi-N68g",
          "position": 36,
          "publishedAt": "2023-10-05T17:12:18Z",
          "resourceId": {
           "kind": "youtube#video",
           "videoId": "S6vQdfJnELs"
          },
          "thumbnails": {
           "default": {
            "height": 90,
            "url": "https://i.ytimg.com/vi/S6vQdfJnELs/default.jpg",
            "width": 120
           },
           "high": {
            "height": 360,
            "url": "https://i.ytimg.com/vi/S6vQdfJnELs/hqdefault.jpg",
            "width": 480
           },
           "maxres": {
            "height": 720,
            "url": "https://i.ytimg.com/vi/S6vQdfJnELs/maxresdefault.jpg",
            "width": 1280
           },
           "medium": {
            "height": 180,
            "url": "https://i.ytimg.com/vi/S6vQdfJnELs/mqdefault.jpg",
            "width": 320
           },
           "standard": {
            "height": 480,
            "url": "https://i.ytimg.com/vi/S6vQdfJnELs/sddefault.jpg",
            "width": 640
           }
          },
          "title": "Nosso estoque causa isso nas pessoas",
          "videoOwnerChannelId": "UCcq1Xu3SKcwE1CpzGi-N68g",
          "videoOwnerChannelTitle": "Pipoca & Nanquim"
         }
        },
        {
         "contentDetails": {
          "videoId": "uzQCxA06or4",
          "videoPublishedAt": "2023-10-04T23:40:25Z"
         },
         "etag": "aATaaBlSqXcB7FhtUpxi6bjOQHM",
         "id": "VVVjcTFYdTNTS2N3RTFDcHpHaS1ONjhnLnV6UUN4QTA2b3I0",
         "kind": "youtube#playlistItem",
         "snippet": {
          "channelId": "UCcq1Xu3SKcwE1CpzGi-N68g",
          "channelTitle": "Pipoca & Nanquim",
          "description": "🎨 MANDALA DE FOGO mangá volume único, com sobrecapa, capa metalizada em bronze e marcador exclusivo (Pré-venda 30% OFF até 31/10): https://amzn.to/3Q381V9 / https://pipocaenanquim.com.br/mandala-de-fogo.html (+5% OFF no pix em nosso site)\n\n🍵 A Lenda de Musashi: https://amzn.to/3P41PKH / https://bit.ly/musashipn\n👺 KOGARASHI MONJIROU: O Prenúncio do Inverno: https://amzn.to/4824yNu / https://bit.ly/monjiroupn\n📚 Quadrinhos, livros e mangás da editora Pipoca & Nanquim: https://amzn.to/3pwH2GV\n\nO ciclo flamejante da arte que atravessou séculos! Hasegawa Touhaku (1539 – 1610) foi um dos maiores pintores na história da arte japonesa, com versatilidade para transitar entre a opulência ofuscante de painéis com folhas de ouro e o sereno minimalismo que o nanquim sobre papel pode proporcionar. Suas obras, muitas delas classificadas como Tesouros Nacionais, podem ser contempladas até a atualidade em diversos templos e museus. \n\nNeste mangá, a autora Chie Shimomoto nos apresenta a paixão ardente e os sacrifícios que moveram Touhaku, a partir da desilusão na meia-idade — quando seu entusiasmo se extinguia por não ter renome nem trabalhos relevantes —, da morte do governante Oda Nobunaga (1534 – 1582), que inflamou o cenário político, da fusão entre a arte e o budismo, da faísca inicial da filosofia estética que via beleza no simples e imperfeito (hoje conhecida como wabi-sabi), e da chama das rivalidades, até alcançar o topo da carreira e se imortalizar.\n\nMandala de Fogo é uma série publicada originalmente no Japão entre 2015 e 2016 na revista Comic Ran Twins: Sengoku Bushou Retsuden, especializada em jidaigeki (histórias de época do Japão), da editora Leed. E agora temos no Brasil este fascinante título encadernado em volume único, com toda a qualidade da Pipoca & Nanquim!\n\nA edição vem com sobrecapa, capa cartão de alta gramatura com cor especial metalizada, miolo colado e costurado (que garante durabilidade e melhor manuseio) em papel polén bold 90g, com marcador de página e glossário de termos exclusivo da versão nacional.\n\nSOBRE A AUTORA:\nChie Shimomoto é roteirista e desenhista de mangás do gênero jidaigeki, por meio dos quais ela retrata — com seu traço cristalino e toques bem-humorados — a rica cena cultural que efervescia ao longo dos séculos.\n\nEstreou em 2011  com a série Kabuki Hime – Tenkaichi no Musume (em tradução livre, “Princesa do Kabuki – A Dona do Mundo”), sobre Okuni, atriz a quem se atribui a popularização do teatro kabuki no início do século XVII, antes da proibição de mulheres nessa arte. Entre 2012 e 2014, publicou Shout – Shinsengumi (“Alto lá! – Shinsengumi”), sobre a última tropa de espadachins do Japão no fim do século XIX. Também abordou a culinária do Período Edo (1603 – 1868) em Ryanko Kitchen (“Cozinha de Samurai”), entre 2012 e 2014.\n\nApós a publicação de Mandala de Fogo, ela passou a assinar seus trabalhos como Momoji Gen.\n\n\nOUTRAS PRÉ-VENDAS DA EDITORA (até 33% OFF na loja do PN):\n👑 REI KULL - Edição Completa e Definitiva com Sobrecapa de Acetato: https://amzn.to/3RsEdm0 / https://bit.ly/reikullpn (no site do PN +5% OFF no pix)\n🔥 COPRA Round 6 (pré-venda da conclusão da série): https://amzn.to/3OmH4vm / https://bit.ly/copra6pn\n👻 AS ESCULTURAS SEM CABEÇA com 4 cards exclusivos: https://amzn.to/3Rktl9L / https://bit.ly/esculturaspn\n\n\n🚀 EDIÇÃO DO VÍDEO: João Alves (@johndalves) \n-------------\nCAIXA POSTAL 81382\nCEP 08050-970 São Paulo/SP\n\nNOSSOS LINKS\n- Site e loja virtual: https://pipocaenanquim.com.br/\n- E-mail: pipocaenanquim@gmail.com\n- @pipocaenanquim \n- @alexandrecallari\n- @zagaiada\n- @danielgillopes\n\n#mangás #pipocaenanquim #quadrinhos\nTesouro nacional do Japão em forma de mangá! MANDALA DE FOGO é imperdível! | Pipoca e Nanquim 539\nhttps://youtu.be/uzQCxA06or4",
          "playlistId": "UUcq1Xu3SKcwE1CpzGi-N68g",
          "position": 37,
          "publishedAt": "2023-10-04T23:40:25Z",
          "resourceId": {
           "kind": "youtube#video",
           "videoId": "uzQCxA06or4"
          },
          "thumbnails": {
           "default": {
            "height": 90,
            "url": "https://i.ytimg.com/vi/uzQCxA06or4/default.jpg",
            "width": 120
           },
           "high": {
            "height": 360,
            "url": "https://i.ytimg.com/vi/uzQCxA06or4/hqdefault.jpg",
            "width": 480
           },
           "maxres": {
            "height": 720,
            "url": "https://i.ytimg.com/vi/uzQCxA06or4/maxresdefault.jpg",
            "width": 1280
           },
           "medium": {
            "height": 180,
            "url": "https://i.ytimg.com/vi/uzQCxA06or4/mqdefault.jpg",
            "width": 320
           },
           "standard": {
            "height": 480,
            "url": "https://i.ytimg.com/vi/uzQCxA06or4/sddefault.jpg",
            "width": 640
           }
          },
          "title": "Tesouro nacional do Japão em forma de mangá! MANDALA DE FOGO na nossa editora | Pipoca e Nanquim 539",
          "videoOwnerChannelId": "UCcq1Xu3SKcwE1CpzGi-N68g",
          "videoOwnerChannelTitle": "Pipoca & Nanquim"
         }
        },
        {
         "contentDetails": {
          "videoId": "DeNINJEegkk",
          "videoPublishedAt": "2023-10-01T14:00:18Z"
         },
         "etag": "KmYZlybJ0lE7UHv3kRoYFctdQJE",
         "id": "VVVjcTFYdTNTS2N3RTFDcHpHaS1ONjhnLkRlTklOSkVlZ2tr",
         "kind": "youtube#playlistItem",
         "snippet": {
          "channelId": "UCcq1Xu3SKcwE1CpzGi-N68g",
          "channelTitle": "Pipoca & Nanquim",
          "description": "👑 REI KULL - Edição Completa e Definitiva com Sobrecapa de Acetato (pré-venda de R$ 92,90 por R$ 65,00): https://amzn.to/3RsEdm0 / https://bit.ly/reikullpn (no site do PN +5% OFF no pix)\n⚔️ Solomon Kane: https://amzn.to/3PtB3eV / https://bit.ly/solomonpn\n👊 Bran Mak Morn - O Último Rei dos Pictos: https://amzn.to/3iQRoOq / https://bit.ly/branmakmornpn\n🏰 Red Sonja - A Balada da Deusa Ruiva e a Sombra do Abutre: https://amzn.to/3Pdm7RV / https://bit.ly/redsonjapn\n🪓 Conan, o Cimério, volumes 1, 2 e 3: https://amzn.to/3PO4D0m\n\n📚 Quadrinhos, livros e mangás da editora Pipoca & Nanquim: https://amzn.to/3pwH2GV\n\nMais um vídeo do quadro Papel Jornal focado em um personagem de Robert E. Howard! Depois de falarmos dos quadrinhos clássicos de Conan, Solomon Kane e Red Sonja, agora é a vez do REI KULL, aproveitando a chegada do livro com todos os contos do bárbaro pela nossa editora! Alexandre Callari vasculhou sua imensa coleção atrás de fatos interessantes sobre o Rei da Valúsia, e elaborou uma lista com 5 curiosidades espetaculares!! Sabiam que ele já foi um vilão das antigas do Shazam, na época que ele ainda se chamava Capitão Marvel? Sabiam que, apesar de suas histórias serem ambientadas no passado distante da Era Hiboriana do Conan, ele já teve um crossover com o Cimério, que resultou em pancadaria? Esses e outros registros absurdos sobre esse incrível personagem você confere neste vídeo, com o seu like pra fortalecer!!\n\nSOBRE O LIVRO\nDe exilado da própria terra a prisioneiro em sinistras catacumbas. De escravo nas galés a inigualável guerreiro. De gladiador nas arenas a rei da maior nação do mundo civilizado!\n \nÉ com o máximo de orgulho que a editora Pipoca & Nanquim apresenta uma das mais amadas e conhecidas criações do mestre da literatura fantástica Robert E. Howard, Rei Kull! Concebido em 1929 pela pena sempre afiada do notório escritor, Kull é um atlante formidável que, após ser exilado de sua própria terra e passar décadas de andanças vivendo aventuras, torna-se o rei da Valúsia por mérito próprio, destituindo um tirano que oprimia o povo.\n\nEntre conspirações tramadas em salas escuras por parte de nobres que não acreditam em direitos iguais para toda a população e a descoberta de uma raça ancestral de homens-serpente infiltrada dentro da própria corte, Kull precisa lidar com questões filosóficas e existenciais, e se debate com uma poderosa pergunta: Qual o papel que um homem de bem deve desempenhar num mundo marcado pela corrupção?  \n\nA edição ainda inclui capas da clássica revista Weird Tales, prefácio exclusivo do historiador Marco Collares, e vem recheada de ilustrações do premiado artista Justin Sweet.\n\nE, para que os colecionadores de Howard tenham o melhor em suas prateleiras, o livro conta com o mesmo acabamento de luxo da trilogia Conan, o Bárbaro, e das edições definitivas de Bran Mak Morn e Solomon Kane, com sobrecapa de acetato transparente, fitilho marcador de tecido e miolo com 356 páginas em papel pólen bold.\n\n\n🍔 EDIÇÃO DO VÍDEO: Bruno Zago (@Ricardozagaiada) com auxílio de Ricardo Brito (@pretomero)\n-------------\nCAIXA POSTAL 81382\nCEP 08050-970 São Paulo/SP\n\nNOSSOS LINKS\n- Site e loja virtual: https://pipocaenanquim.com.br/\n- E-mail: pipocaenanquim@gmail.com\n- @pipocaenanquim \n- @alexandrecallari\n- @zagaiada\n- @danielgillopes\n\n#quadrinhos #conanobarbaro #papeljornal\n5 fatos absurdos do REI KULL nas HQs! De vilão do Shazam a porradaria com CONAN | Papel Jornal 47\nhttps://youtu.be/DeNINJEegkk",
          "playlistId": "UUcq1Xu3SKcwE1CpzGi-N68g",
          "position": 38,
          "publishedAt": "2023-10-01T14:00:18Z",
          "resourceId": {
           "kind": "youtube#video",
           "videoId": "DeNINJEegkk"
          },
          "thumbnails": {
           "default": {
            "height": 90,
            "url": "https://i.ytimg.com/vi/DeNINJEegkk/default.jpg",
            "width": 120
           },
           "high": {
            "height": 360,
            "url": "https://i.ytimg.com/vi/DeNINJEegkk/hqdefault.jpg",
            "width": 480
           },
           "maxres": {
            "height": 720,
            "url": "https://i.ytimg.com/vi/DeNINJEegkk/maxresdefault.jpg",
            "width": 1280
           },
           "medium": {
            "height": 180,
            "url": "https://i.ytimg.com/vi/DeNINJEegkk/mqdefault.jpg",
            "width": 320
           },
           "standard": {
            "height": 480,
            "url": "https://i.ytimg.com/vi/DeNINJEegkk/sddefault.jpg",
            "width": 640
           }
          },
          "title": "5 fatos absurdos do REI KULL nas HQs! De vilão do Shazam a porradaria com CONAN | Papel Jornal 47",
          "videoOwnerChannelId": "UCcq1Xu3SKcwE1CpzGi-N68g",
          "videoOwnerChannelTitle": "Pipoca & Nanquim"
         }
        },
        {
         "contentDetails": {
          "videoId": "Sx6nqtRG8xQ",
          "videoPublishedAt": "2023-09-29T22:16:23Z"
         },
         "etag": "OWa_IGLhMmvv4cOjT-Cq_yZotZU",
         "id": "VVVjcTFYdTNTS2N3RTFDcHpHaS1ONjhnLlN4Nm5xdFJHOHhR",
         "kind": "youtube#playlistItem",
         "snippet": {
          "channelId": "UCcq1Xu3SKcwE1CpzGi-N68g",
          "channelTitle": "Pipoca & Nanquim",
          "description": "🐲 Ingressos para o Dragon Concert com cupom PN10 de 10% de desconto: https://dragonconcert.com.br/ (veja se tem na cidade mais próxima de você)\n🐉 Siga no insta: @dragonconcertbr\n\n📱 VÍDEO MENCIONADO: The Genius of Dragon Ball: The Anatomy of Manga, de Mark Fitzpatrick (Canal @TotallyNotMark ): https://youtu.be/MgJPsj2P-kQ\n\n📕 SANDLAND (Panini): https://amzn.to/3tdSZD8\n📚 Quadrinhos, livros e mangás da editora Pipoca & Nanquim: https://amzn.to/3pwH2GV\n\nEis que vamos falar de um mangá extremamente divertido, diretamente das mãos de Akira Toriyama depois do sucesso estrondoso que fez com Dragon Ball, na época em que ele apenas topava fazer volumes únicos pra Shonen Jump, da editora Shueisha. É claro que se trata de SAND LAND, obra que ganhou um anime longa-metragem em 2023, com estreia no ocidente prevista pra 2024, e que também terá um game em 2024.\n\nSINOPSE DO MANGÁ\nVamos em busca da Fonte Fantasma!! Num mundo desértico onde tanto humanos quanto demônios sofrem com a falta d'água, O Príncipe dos Demônios, Beelzebub e Shiba, um ex-militar, formam uma aliança poderosa e partem em uma aventura em busca de água!! O que espera por eles na vastidão do deserto escaldante?!\n\n🚀 EDIÇÃO DO VÍDEO: João Alves (@johndalves) \n-------------\nCAIXA POSTAL 81382\nCEP 08050-970 São Paulo/SP\n\nNOSSOS LINKS\n- Site e loja virtual: https://pipocaenanquim.com.br/\n- E-mail: pipocaenanquim@gmail.com\n- @pipocaenanquim \n- @alexandrecallari\n- @zagaiada\n- @danielgillopes\n\n#dragonball #pnextra #mangás\nSANDLAND: o melhor mangá de Akira Toriyama depois de Dragon Ball e Dr. Slump | PN Extra 358\nhttps://youtu.be/Sx6nqtRG8xQ",
          "playlistId": "UUcq1Xu3SKcwE1CpzGi-N68g",
          "position": 39,
          "publishedAt": "2023-09-29T22:16:23Z",
          "resourceId": {
           "kind": "youtube#video",
           "videoId": "Sx6nqtRG8xQ"
          },
          "thumbnails": {
           "default": {
            "height": 90,
            "url": "https://i.ytimg.com/vi/Sx6nqtRG8xQ/default.jpg",
            "width": 120
           },
           "high": {
            "height": 360,
            "url": "https://i.ytimg.com/vi/Sx6nqtRG8xQ/hqdefault.jpg",
            "width": 480
           },
           "maxres": {
            "height": 720,
            "url": "https://i.ytimg.com/vi/Sx6nqtRG8xQ/maxresdefault.jpg",
            "width": 1280
           },
           "medium": {
            "height": 180,
            "url": "https://i.ytimg.com/vi/Sx6nqtRG8xQ/mqdefault.jpg",
            "width": 320
           },
           "standard": {
            "height": 480,
            "url": "https://i.ytimg.com/vi/Sx6nqtRG8xQ/sddefault.jpg",
            "width": 640
           }
          },
          "title": "SANDLAND e a arte de fazer mangá só por diversão, de Akira Toriyama | PN Extra 358",
          "videoOwnerChannelId": "UCcq1Xu3SKcwE1CpzGi-N68g",
          "videoOwnerChannelTitle": "Pipoca & Nanquim"
         }
        },
        {
         "contentDetails": {
          "videoId": "ZSvlX7xhMNM",
          "videoPublishedAt": "2023-09-27T22:16:05Z"
         },
         "etag": "FZJGc40ErgETdy0PmQrOn0vIQ8k",
         "id": "VVVjcTFYdTNTS2N3RTFDcHpHaS1ONjhnLlpTdmxYN3hoTU5N",
         "kind": "youtube#playlistItem",
         "snippet": {
          "channelId": "UCcq1Xu3SKcwE1CpzGi-N68g",
          "channelTitle": "Pipoca & Nanquim",
          "description": "⛵ CORTO MALTESE de Hugo Pratt com 30% de desconto e Frete Grátis na assinatura da Trem Fantasma, de R$ 129,90 por R$ 99,90 https://bit.ly/assinecortomaltese\n👉 Corto Maltese - Sob o Sol da Meia-Noite: https://amzn.to/3EVDEtj\n👉 Corto Maltese - Equatória: https://amzn.to/3ERghBn\n👉 Morgan: https://amzn.to/3ETMCY3\n\nNum oferecimento da @tremfantasmaeditora3951, preparamos um vídeo muito especial sobre a vida e obra de um dos maiores autores de quadrinhos de todos os tempos: HUGO PRATT! Aproveitando que a série do Corto Maltese está de volta ao Brasil pela editora Trem Fantasma (disponível no link no topo da descrição), falamos tudo sobre esse personagem e muitos outros que esse gênio dos quadrinhos criou e cocriou, como Ernie Pike e Sargento Kirk,  com Héctor Oesterheld, Shevah, de Verão Índio, com Milo Manara, e de todas as obras que ele fez ao longo de sua brilhante carreira. Mais um Mestres da Nona Arte pra abastecer o histórico desse nosso canal. Se inscreva pra não perder nenhum vídeo.\n\n🚀 EDIÇÃO DO VÍDEO: João Alves (@johndalves) \n-------------\nCAIXA POSTAL 81382\nCEP 08050-970 São Paulo/SP\n\nNOSSOS LINKS\n- Site e loja virtual: https://pipocaenanquim.com.br/\n- E-mail: pipocaenanquim@gmail.com\n- @pipocaenanquim \n- @alexandrecallari\n- @zagaiada\n- @danielgillopes\n\n#mestresdanonaarte #quadrinhos #hqs \nVida e obra do genial Hugo Pratt, criador do clássico CORTO MALTESE | Mestres da Nona Arte 18\nhttps://youtu.be/ZSvlX7xhMNM",
          "playlistId": "UUcq1Xu3SKcwE1CpzGi-N68g",
          "position": 40,
          "publishedAt": "2023-09-27T22:16:05Z",
          "resourceId": {
           "kind": "youtube#video",
           "videoId": "ZSvlX7xhMNM"
          },
          "thumbnails": {
           "default": {
            "height": 90,
            "url": "https://i.ytimg.com/vi/ZSvlX7xhMNM/default.jpg",
            "width": 120
           },
           "high": {
            "height": 360,
            "url": "https://i.ytimg.com/vi/ZSvlX7xhMNM/hqdefault.jpg",
            "width": 480
           },
           "maxres": {
            "height": 720,
            "url": "https://i.ytimg.com/vi/ZSvlX7xhMNM/maxresdefault.jpg",
            "width": 1280
           },
           "medium": {
            "height": 180,
            "url": "https://i.ytimg.com/vi/ZSvlX7xhMNM/mqdefault.jpg",
            "width": 320
           },
           "standard": {
            "height": 480,
            "url": "https://i.ytimg.com/vi/ZSvlX7xhMNM/sddefault.jpg",
            "width": 640
           }
          },
          "title": "Vida e obra do genial Hugo Pratt, criador do clássico CORTO MALTESE | Mestres da Nona Arte 18",
          "videoOwnerChannelId": "UCcq1Xu3SKcwE1CpzGi-N68g",
          "videoOwnerChannelTitle": "Pipoca & Nanquim"
         }
        },
        {
         "contentDetails": {
          "videoId": "7OHQ-3nz__0",
          "videoPublishedAt": "2023-09-24T14:00:07Z"
         },
         "etag": "WO373z_-Lth8JkdqNh8d53CSOPs",
         "id": "VVVjcTFYdTNTS2N3RTFDcHpHaS1ONjhnLjdPSFEtM256X18w",
         "kind": "youtube#playlistItem",
         "snippet": {
          "channelId": "UCcq1Xu3SKcwE1CpzGi-N68g",
          "channelTitle": "Pipoca & Nanquim",
          "description": "👑 REI KULL - Edição Completa e Definitiva com Sobrecapa de Acetato (pré-venda de R$ 92,90 por R$ 65,00): https://amzn.to/3RsEdm0 / https://bit.ly/reikullpn (no site do PN +5% OFF no pix)\n⚔️ Solomon Kane: https://amzn.to/3PtB3eV / https://bit.ly/solomonpn\n👊 Bran Mak Morn - O Último Rei dos Pictos: https://amzn.to/3iQRoOq / https://bit.ly/branmakmornpn\n🏰 Red Sonja - A Balada da Deusa Ruiva e a Sombra do Abutre: https://amzn.to/3Pdm7RV / https://bit.ly/redsonjapn\n🪓 Conan, o Cimério, volumes 1, 2 e 3: https://amzn.to/3PO4D0m\n\n📚 Quadrinhos, livros e mangás da editora Pipoca & Nanquim: https://amzn.to/3pwH2GV\n\nDe exilado da própria terra a prisioneiro em sinistras catacumbas. De escravo nas galés a inigualável guerreiro. De gladiador nas arenas a rei da maior nação do mundo civilizado!\n \nÉ com o máximo de orgulho que a editora Pipoca & Nanquim apresenta uma das mais amadas e conhecidas criações do mestre da literatura fantástica Robert E. Howard, Rei Kull! Concebido em 1929 pela pena sempre afiada do notório escritor, Kull é um atlante formidável que, após ser exilado de sua própria terra e passar décadas de andanças vivendo aventuras, torna-se o rei da Valúsia por mérito próprio, destituindo um tirano que oprimia o povo.\n\nEntre conspirações tramadas em salas escuras por parte de nobres que não acreditam em direitos iguais para toda a população e a descoberta de uma raça ancestral de homens-serpente infiltrada dentro da própria corte, Kull precisa lidar com questões filosóficas e existenciais, e se debate com uma poderosa pergunta: Qual o papel que um homem de bem deve desempenhar num mundo marcado pela corrupção?  \n\nA edição ainda inclui capas da clássica revista Weird Tales, prefácio exclusivo do historiador Marco Collares, e vem recheada de ilustrações do premiado artista Justin Sweet.\n\nE, para que os colecionadores de Howard tenham o melhor em suas prateleiras, o livro conta com o mesmo acabamento de luxo da trilogia Conan, o Bárbaro, e das edições definitivas de Bran Mak Morn e Solomon Kane, com sobrecapa de acetato transparente, fitilho marcador de tecido e miolo com 356 páginas em papel pólen bold.\n\n\n🍔 EDIÇÃO DO VÍDEO: Ricardo Brito (@pretomero)\n-------------\nCAIXA POSTAL 81382\nCEP 08050-970 São Paulo/SP\n\nNOSSOS LINKS\n- Site e loja virtual: https://pipocaenanquim.com.br/\n- E-mail: pipocaenanquim@gmail.com\n- @pipocaenanquim \n- @alexandrecallari\n- @zagaiada\n- @danielgillopes\n\n#pipocaenanquim #robertehoward #livros\nREI KULL, livro completo do bárbaro que deu origem ao Conan! | Pipoca e Nanquim 538\nhttps://youtu.be/7OHQ-3nz__0",
          "playlistId": "UUcq1Xu3SKcwE1CpzGi-N68g",
          "position": 41,
          "publishedAt": "2023-09-24T14:00:07Z",
          "resourceId": {
           "kind": "youtube#video",
           "videoId": "7OHQ-3nz__0"
          },
          "thumbnails": {
           "default": {
            "height": 90,
            "url": "https://i.ytimg.com/vi/7OHQ-3nz__0/default.jpg",
            "width": 120
           },
           "high": {
            "height": 360,
            "url": "https://i.ytimg.com/vi/7OHQ-3nz__0/hqdefault.jpg",
            "width": 480
           },
           "maxres": {
            "height": 720,
            "url": "https://i.ytimg.com/vi/7OHQ-3nz__0/maxresdefault.jpg",
            "width": 1280
           },
           "medium": {
            "height": 180,
            "url": "https://i.ytimg.com/vi/7OHQ-3nz__0/mqdefault.jpg",
            "width": 320
           },
           "standard": {
            "height": 480,
            "url": "https://i.ytimg.com/vi/7OHQ-3nz__0/sddefault.jpg",
            "width": 640
           }
          },
          "title": "REI KULL, livro completo do bárbaro antepassado do Conan! | Pipoca e Nanquim 538",
          "videoOwnerChannelId": "UCcq1Xu3SKcwE1CpzGi-N68g",
          "videoOwnerChannelTitle": "Pipoca & Nanquim"
         }
        },
        {
         "contentDetails": {
          "videoId": "IXd4rSW-4Dk",
          "videoPublishedAt": "2023-09-22T22:00:10Z"
         },
         "etag": "1Iy35PzR9LWXuIC5wjoEGTndCxE",
         "id": "VVVjcTFYdTNTS2N3RTFDcHpHaS1ONjhnLklYZDRyU1ctNERr",
         "kind": "youtube#playlistItem",
         "snippet": {
          "channelId": "UCcq1Xu3SKcwE1CpzGi-N68g",
          "channelTitle": "Pipoca & Nanquim",
          "description": "👊 Todos os volumes de COPRA, da nossa editora: https://amzn.to/3RsAeWr\n☀️ SUPERMAN A ERA ESPACIAL (não é jabá, é pura recomendação): https://amzn.to/3RwgSzF\n📚 Quadrinhos, livros e mangás da editora Pipoca & Nanquim: https://amzn.to/3pwH2GV\n\nUm bate-papo sobre a dificuldade que vem sendo pra DC Comics acertar na maioria das histórias do Homem de Aço durante as últimas décadas, e pra Warner adaptar o personagem pro cinema, e um review sobre uma HQ recente que foge à regra (como algumas outras) e acerta totalmente: SUPERMAN - A ERA ESPACIAL.   \n\nSINOPSE DA HQ: \nDepois de anos parado, nos anos 1960, o jovem Clark Kent desafia os desejos de seus pais de vir ao mundo como o primeiro super-herói da Era Espacial. Mas o jovem repórter descobre que o mundo logo chegará ao fim e que não há nada que ele possa fazer para salvá-lo. À medida que cada década passa e cada novo perigo surge, ele se pergunta se esta é a que vai matar ele e todos que ele ama. Superman percebe que mesmo as boas intenções não estão isentas de reação, pois o mundo ao seu redor se transforma em um lugar tão determinado a se destruir quanto a salvá-lo.Unindo o roteirista aclamado pela crítica Mark Russell (Os Flintstones) e o vencedor do Eisner Mike Allred (Surfista Prateado) pela primeira vez, esta série promete aos fãs uma viagem inesquecível pela história e cultura dos EUA estrelando nossos amados super-heróis em uma ótica surpreendente.\n\n🚀 EDIÇÃO DO VÍDEO: João Alves (@johndalves) \n-------------\nCAIXA POSTAL 81382\nCEP 08050-970 São Paulo/SP\n\nNOSSOS LINKS\n- Site e loja virtual: https://pipocaenanquim.com.br/\n- E-mail: pipocaenanquim@gmail.com\n- @pipocaenanquim \n- @alexandrecallari\n- @zagaiada\n- @danielgillopes\n\n#superman #quadrinhos #pnextra \nMas quando a DC acerta sai uma OBRA-PRIMA dessa! QUAL É A ESSÊNCIA DO SUPERMAN? | PN Extra 357\nhttps://youtu.be/IXd4rSW-4Dk",
          "playlistId": "UUcq1Xu3SKcwE1CpzGi-N68g",
          "position": 42,
          "publishedAt": "2023-09-22T22:00:10Z",
          "resourceId": {
           "kind": "youtube#video",
           "videoId": "IXd4rSW-4Dk"
          },
          "thumbnails": {
           "default": {
            "height": 90,
            "url": "https://i.ytimg.com/vi/IXd4rSW-4Dk/default.jpg",
            "width": 120
           },
           "high": {
            "height": 360,
            "url": "https://i.ytimg.com/vi/IXd4rSW-4Dk/hqdefault.jpg",
            "width": 480
           },
           "maxres": {
            "height": 720,
            "url": "https://i.ytimg.com/vi/IXd4rSW-4Dk/maxresdefault.jpg",
            "width": 1280
           },
           "medium": {
            "height": 180,
            "url": "https://i.ytimg.com/vi/IXd4rSW-4Dk/mqdefault.jpg",
            "width": 320
           },
           "standard": {
            "height": 480,
            "url": "https://i.ytimg.com/vi/IXd4rSW-4Dk/sddefault.jpg",
            "width": 640
           }
          },
          "title": "Mas quando a DC acerta sai uma OBRA-PRIMA dessa! QUAL É A ESSÊNCIA DO SUPERMAN? | PN Extra 357",
          "videoOwnerChannelId": "UCcq1Xu3SKcwE1CpzGi-N68g",
          "videoOwnerChannelTitle": "Pipoca & Nanquim"
         }
        },
        {
         "contentDetails": {
          "videoId": "76vCjphnuCo",
          "videoPublishedAt": "2023-09-20T22:12:07Z"
         },
         "etag": "NzVBfbGJuTe8FY4DRITkpJHwv1Q",
         "id": "VVVjcTFYdTNTS2N3RTFDcHpHaS1ONjhnLjc2dkNqcGhudUNv",
         "kind": "youtube#playlistItem",
         "snippet": {
          "channelId": "UCcq1Xu3SKcwE1CpzGi-N68g",
          "channelTitle": "Pipoca & Nanquim",
          "description": "🍃 TARZAN - O SENHOR DA SELVA, de Roy Thomas e John Buscema: https://amzn.to/3seUsFa\n🚀 SKY MASTERS DA FORÇA ESPACIAL, de Jack Kirby, Wally Wood e Dick Ayers: https://amzn.to/460wTSU\n📖 John Byrne: O Gênio Indomável: entre em contato pelo email para comprar: rodrigotalayer77@gmail.com (📸 Insta do Rodrigo, autor do livro: @rodrigotalayer)\n📚 Quadrinhos, livros e mangás da editora Pipoca & Nanquim: https://amzn.to/3pwH2GV\n\nLINKS PRA ALGUNS DOS QUADRINHOS E LIVROS CITADOS NO VÍDEO:\n- Batman: As Muitas Mortes de Batman: https://amzn.to/46iNt07\n- Mulher-Hulk por John Byrne: Marvel Omnibus: https://amzn.to/3ESOCzH\n- Quarteto Fantástico por John Byrne: Marvel Omnibus: https://amzn.to/3r5RYw5\n- Tropa Alfa por John Byrne: Marvel Omnibus: https://amzn.to/44L5l2q\n- A Saga do Superman: https://amzn.to/3Rq0Vv5\n- Next Men - Volume 1: https://amzn.to/3EL5dWb\n- Druuna Vol. 1 de 3: https://amzn.to/3Zow7wK\n- Blueberry Vol. 1 de 4: https://amzn.to/3EKhl9Q\n- O Rei Macaco: https://amzn.to/3ZqgjJO\n- Borgia: Edição Integral: https://amzn.to/46li2m6\n- Universo HQ Entrevista: https://amzn.to/45Zjquy\n\nEstamos de volta com o quadro Mestres da Nona Arte do astro JOHN BYRNE! O vídeo de hoje é a parte 2, e a primeira parte você pode conferir neste link aqui: https://youtu.be/GquIjHAML5Y.\n\nApós revolucionar na Marvel Comics, ilustrando e co-escrevendo os X-men, dando o protagonismo pro seu conterrâneo Wolverine, criando a melhor fase do Quarteto Fantástico desde Jack Kirby e Stan Lee, Byrne acabou brigando com o editorial e foi parar na concorrência, a DC Comics! Lá, ele criou uma das melhores fases em quadrinhos do Superman de todos os tempos, renovando o personagem após a Crise nas Infinitas Terras, e entregando outras ótimas HQs, como Omac e As Muitas Mortes de Batman. Até que ele brigou de novo e decidiu não ficar fixo em nenhuma das duas editoras, mas, sim, trabalhar de freela para todas, incluindo a novata Dark Horse, onde publicou material autoral, como Next Men. E seu retorno pra Marvel ficou marcado por uma personagem fantástica, a qual ele ajudou a popularizar: Mulher-Hulk! \n\nE acreditem, dois vídeos não foram suficiente pra dar conta da carreira desse astro dos super-heróis, então contamos com seu like e comentário pra elaborarmos a terceira e última parte.\n\nE não fique triste quando o vídeo acabar, pois a parte três já está a caminho.\n\nPRÉ-VENDAS DA EDITORA ROLANDO AGORA:\n🍵 A LENDA DE MUSASHI: https://amzn.to/3P41PKH / https://bit.ly/musashipn\n⛩️ ZONA LIVRE: https://amzn.to/3QFizL0 / https://bit.ly/zonalivrepn\n🧸 MONSTRO DEBAIXO DA MINHA CAMA: https://amzn.to/3QCQIec / https://bit.ly/monstropn\n📸 O COMBATE COTIDIANO: https://amzn.to/45aaT7k / https://bit.ly/combatepn\n🔥 COPRA Round 6 (pré-venda da conclusão da série): https://amzn.to/3OmH4vm / https://bit.ly/copra6pn\n👺 KOGARASHI MONJIROU: O Prenúncio do Inverno: https://amzn.to/44T6vtb / https://bit.ly/monjiroupn\n🏘️ CIDADE DAS LÁPIDES: https://amzn.to/3P11lX9 / https://bit.ly/lapidespn\n👻 AS ESCULTURAS SEM CABEÇA: https://amzn.to/3Rktl9L / https://bit.ly/esculturaspn\n\n🍔 EDIÇÃO DO VÍDEO: Ricardo Brito (@pretomero)\n-------------\nCAIXA POSTAL 81382\nCEP 08050-970 São Paulo/SP\n\nNOSSOS LINKS\n- Site e loja virtual: https://pipocaenanquim.com.br/\n- E-mail: pipocaenanquim@gmail.com\n- @pipocaenanquim \n- @alexandrecallari\n- @zagaiada\n- @danielgillopes\n\n#johnbyrne #quadrinhos #mestresdanonaarte\nQuando JOHN BYRNE brigou na Marvel e foi reinar na DC (até brigar de novo) | Mestres da Nona Arte 17\nhttps://youtu.be/76vCjphnuCo",
          "playlistId": "UUcq1Xu3SKcwE1CpzGi-N68g",
          "position": 43,
          "publishedAt": "2023-09-20T22:12:07Z",
          "resourceId": {
           "kind": "youtube#video",
           "videoId": "76vCjphnuCo"
          },
          "thumbnails": {
           "default": {
            "height": 90,
            "url": "https://i.ytimg.com/vi/76vCjphnuCo/default.jpg",
            "width": 120
           },
           "high": {
            "height": 360,
            "url": "https://i.ytimg.com/vi/76vCjphnuCo/hqdefault.jpg",
            "width": 480
           },
           "maxres": {
            "height": 720,
            "url": "https://i.ytimg.com/vi/76vCjphnuCo/maxresdefault.jpg",
            "width": 1280
           },
           "medium": {
            "height": 180,
            "url": "https://i.ytimg.com/vi/76vCjphnuCo/mqdefault.jpg",
            "width": 320
           },
           "standard": {
            "height": 480,
            "url": "https://i.ytimg.com/vi/76vCjphnuCo/sddefault.jpg",
            "width": 640
           }
          },
          "title": "Quando JOHN BYRNE brigou na Marvel e foi reinar na DC (até brigar de novo) | Mestres da Nona Arte 17",
          "videoOwnerChannelId": "UCcq1Xu3SKcwE1CpzGi-N68g",
          "videoOwnerChannelTitle": "Pipoca & Nanquim"
         }
        },
        {
         "contentDetails": {
          "videoId": "QFJaljHSGa8",
          "videoPublishedAt": "2023-09-17T14:00:12Z"
         },
         "etag": "y6SAkzMbZg0OkaIkAfNHU0Ikz5w",
         "id": "VVVjcTFYdTNTS2N3RTFDcHpHaS1ONjhnLlFGSmFsakhTR2E4",
         "kind": "youtube#playlistItem",
         "snippet": {
          "channelId": "UCcq1Xu3SKcwE1CpzGi-N68g",
          "channelTitle": "Pipoca & Nanquim",
          "description": "👻 AS ESCULTURAS SEM CABEÇA com 4 cards (pré-venda 30% OFF até 20/10): https://amzn.to/3Rktl9L / https://bit.ly/esculturaspn (até 33% OFF na loja do PN)\n🏘️ CIDADE DAS LÁPIDES com 4 cards (pré-venda 30% OFF até 22/09): https://amzn.to/3P11lX9 / https://bit.ly/lapidespn\n🏝️ O ESTRANHO CONTO DA ILHA PANORAMA, de Suehiro Maruo e Edogawa Ranpo: https://amzn.to/3UtoRNG / https://bit.ly/ilhapn\n\nMANGÁS DO JUNJITO QUE VÊM COM 4 CARDS CADA:\n👻 O BECO: https://amzn.to/4469YEi / https://bit.ly/obecopn\n🛁 O ENCANAMENTO QUE GEME: https://amzn.to/4469YEi / https://bit.ly/encanamentopn\n💔 MORTOS DE AMOR: https://amzn.to/3GLnZ1j / https://bit.ly/mortosdeamorpn\n💀 MORADA DO DESERTOR: https://amzn.to/3GLnZ1j / https://bit.ly/desertorpn\n😈 CONTOS ESMAGADORES: https://amzn.to/3YnMqIS / https://bit.ly/contosesmagadorespn\n\nOUTROS MANGÁS DO JUNJI ITO DA NOSSA EDITORA:\n👉 TOMIE volume 1: https://amzn.to/3P36xK5 / https://bit.ly/tomie1pn\n👉 TOMIE volume 2: https://amzn.to/3P3NUFO / https://bit.ly/tomie2pn\n🌪️ SENSOR: https://amzn.to/3qFZfCM / https://bit.ly/sensorpn\n🐌 DISMORFOS: https://amzn.to/3YnMqIS / https://bit.ly/dismorfospn\n💀 CALAFRIOS: https://amzn.to/3bc1V32\n🔨 AS EGOCÊNTRICAS MALDIÇÕES DE SOUICHI: https://amzn.to/3YHmkRU \n🩸 A SALA DE AULA QUE DERRETEU: https://amzn.to/47Fuy0V\n🤖 FRANKENSTEIN E OUTRAS HISTÓRIAS: https://amzn.to/3YOM2UH\n\nMANGÁS DE OUTRAS EDITORAS\n⚡ Gyo: https://amzn.to/45V25D7\n⚡ Vênus Invisível - Coleção de Histórias Curtas: https://amzn.to/3Lmbzze\n⚡ Contos de Horror da Mimi: https://amzn.to/3Pm7ImX\n⚡ Diário dos Gatos Yon & Mu: https://amzn.to/3rq0xls\n⚡ Fragmentos do Horror: https://amzn.to/3rh1eh3 \n⚡ Uzumaki: https://amzn.to/3sWSIEm\n\nO GÊNIO QUE DESBRAVOU O ABISMO PROFUNDO DO TERROR E O EXTREMO DA BELEZA.\n\nJunji Ito nasceu no dia 31 de julho de 1963, na cidade de Nakatsugawa, província de Gifu, Japão. \nApós se formar no colegial, frequentou uma escola técnica de próteses dentárias, chegando a atuar na área por um tempo. A vontade de mostrar seu trabalho com quadrinhos para o grande mestre do terror Kazuo Umezz, porém, o levou a concorrer ao então recém-criado Prêmio Umezz para novos talentos, organizado pela revista mensal Halloween (editora Asahi Sonorama) desde 1986 até 1995. Logo na primeira edição do evento, Tomie, sua obra de estreia, recebeu menção honrosa e se tornou seu trabalho mais representativo. \n\nTrês anos depois, Ito largou o emprego de técnico protético e passou a se dedicar exclusivamente à carreira de quadrinista, apresentando ao mundo obras-primas como Cidade sem Ruas, Balões Enforcadores, a série Souichi, o premiado Mortos de Amor. A fama veio em 1998 com a série Uzumaki, publicada na revista Big Comic Spirits (editora Shogakukan), e outros títulos inigualáveis, como Gyo e Contos Esmagadores, se seguiram desde então. \n\nEm 2019, a edição norte-americana de sua leitura de Frankenstein — décimo volume da Coleção de Obras-Primas de Junji Ito — conquistou a categoria Melhor Adaptação de Outra Mídia do Prêmio Eisner, o mais prestigiado do mundo dos quadrinhos. Nos anos seguintes, novas obras suas foram premiadas, com Melhor Edição Norte-Americana de Material Estrangeiro Asiático para Remina e Melhor Roteirista/Artista para Remina e Vênus Invisível em 2021, seguidos por Melhor Edição Norte-Americana de Material Estrangeiro Asiático para Mortos de Amor em 2022, rendendo-lhe assim a memorável marca de quatro Prêmios Eisner conquistados, igualando o Deus do Mangá Osamu Tezuka. \n\nNo ano de 2023, em reconhecimento a todas as suas realizações, o autor foi homenageado com o Prêmio Fauves d’Honneur no Festival Internacional de Quadrinhos de Angoulême, na França.\n\n🌸 EDIÇÃO DO VÍDEO: Jessica Torlezi (@jessica_torlezi)\n-------------\nCAIXA POSTAL 81382\nCEP 08050-970 São Paulo/SP\n\nNOSSOS LINKS\n- Site e loja virtual: https://pipocaenanquim.com.br/\n- E-mail: pipocaenanquim@gmail.com\n- @pipocaenanquim \n- @alexandrecallari\n- @zagaiada\n- @danielgillopes\n\n#junjiito #mangás #mestresdanonaarte\nHistória da Carreira Completa de JUNJI ITO e Todos os seus Mangás | Mestres da Nona Arte 17\nhttps://youtu.be/QFJaljHSGa8",
          "playlistId": "UUcq1Xu3SKcwE1CpzGi-N68g",
          "position": 44,
          "publishedAt": "2023-09-17T14:00:12Z",
          "resourceId": {
           "kind": "youtube#video",
           "videoId": "QFJaljHSGa8"
          },
          "thumbnails": {
           "default": {
            "height": 90,
            "url": "https://i.ytimg.com/vi/QFJaljHSGa8/default.jpg",
            "width": 120
           },
           "high": {
            "height": 360,
            "url": "https://i.ytimg.com/vi/QFJaljHSGa8/hqdefault.jpg",
            "width": 480
           },
           "maxres": {
            "height": 720,
            "url": "https://i.ytimg.com/vi/QFJaljHSGa8/maxresdefault.jpg",
            "width": 1280
           },
           "medium": {
            "height": 180,
            "url": "https://i.ytimg.com/vi/QFJaljHSGa8/mqdefault.jpg",
            "width": 320
           },
           "standard": {
            "height": 480,
            "url": "https://i.ytimg.com/vi/QFJaljHSGa8/sddefault.jpg",
            "width": 640
           }
          },
          "title": "História da Carreira Completa de JUNJI ITO e Todos os seus Mangás | Mestres da Nona Arte 17",
          "videoOwnerChannelId": "UCcq1Xu3SKcwE1CpzGi-N68g",
          "videoOwnerChannelTitle": "Pipoca & Nanquim"
         }
        },
        {
         "contentDetails": {
          "videoId": "1dBc9eAE-bg",
          "videoPublishedAt": "2023-09-16T14:00:01Z"
         },
         "etag": "EMFKSooiI9H-U2u6Rmg8ymIVIyU",
         "id": "VVVjcTFYdTNTS2N3RTFDcHpHaS1ONjhnLjFkQmM5ZUFFLWJn",
         "kind": "youtube#playlistItem",
         "snippet": {
          "channelId": "UCcq1Xu3SKcwE1CpzGi-N68g",
          "channelTitle": "Pipoca & Nanquim",
          "description": "⚡ APOIO: Evolukit Móveis Modulados. https://evolukit.com.br/\nAs melhores estantes para sua organização de Livros, HQs e colecionáveis. Use o cupom cupom PIPOCA5 de 10% off à vista e 5% a prazo, em até 6x sem juros.\n\nLINKS PROS MANGÁS DA NOSSA EDITORA NA AMAZON:\n🐺 VAMPIROS, de Osamu Tezuka: https://amzn.to/44d2UGG / https://bit.ly/vampirospn\n👺 KOGARASHI MONJIROU: O Prenúncio do Inverno (Pré-venda 30% OFF até 10/09): https://amzn.to/4824yNu / https://bit.ly/monjiroupn\n🍵 A Lenda de Musashi (Pré-venda 30% OFF até 30/09): https://amzn.to/3P41PKH / https://bit.ly/musashipn\n📚 Quadrinhos, livros e mangás da editora Pipoca & Nanquim: https://amzn.to/3pwH2GV\n\nNo vídeo de hoje, damos nossas opiniões sinceras (com spoilers) a respeito de One Piece, a primeira temporada da série da Netflix. Nós assistimos tudo e chamamos o Matheus, do Canal All Blue aqui do YouTube, especialista no mangá e anime de Eiichiro Oda, para gravar com a gente, neste que é o maior bate-papo sobre a série One Piece do YouTube!! Bora ver, e deixe sua crítica nos comentários.\n\nREDES SOCIAIS DO MATHEUS JOYBOY\n​@MatheusJoyBoy https://youtube.com/allbluevideoreview\n@matheusjoyboy no Insta e no Twitter\nCanal dele na roxinha: https://www.twitch.tv/matheusjoyboy\n\nSINOPSE DA SÉRIE\nEm One Piece: A Série, os mangás mais vendidos do Japão ganham vida no live-action da Netflix. Na série, Monkey D. Luffy (Iñaki Godoy) é um garoto de espírito livre que tem energia e coragem de sobra. Seu maior sonho é se tornar o Rei dos Piratas e conquistar os mares e, para isso, ele tem como missão encontrar o legado de Gold Roger. O One Piece é o maior tesouro escondido pelo pirata e achá-lo é a única forma de chegar ao seu objetivo. Para essa arriscada missão, Luffy reúne uma tripulação habilidosa e pronta para enfrentar perigosos rivais e explorar ilhas misteriosas.\n\n🚀 EDIÇÃO DO VÍDEO: João Alves (@johndalves) \n-------------\nCAIXA POSTAL 81382\nCEP 08050-970 São Paulo/SP\n\nNOSSOS LINKS\n- Site e loja virtual: https://pipocaenanquim.com.br/\n- E-mail: pipocaenanquim@gmail.com\n- @pipocaenanquim \n- @alexandrecallari\n- @zagaiada\n- @danielgillopes\n\n#onepiece #onepiecenetflix #pipocaenanquim \nPontos Positivos e Negativos! O Maior Bate-papo Sobre ONE PIECE do YouTube | Pipoca e Nanquim 537\nhttps://youtu.be/1dBc9eAE-bg",
          "playlistId": "UUcq1Xu3SKcwE1CpzGi-N68g",
          "position": 45,
          "publishedAt": "2023-09-16T14:00:01Z",
          "resourceId": {
           "kind": "youtube#video",
           "videoId": "1dBc9eAE-bg"
          },
          "thumbnails": {
           "default": {
            "height": 90,
            "url": "https://i.ytimg.com/vi/1dBc9eAE-bg/default.jpg",
            "width": 120
           },
           "high": {
            "height": 360,
            "url": "https://i.ytimg.com/vi/1dBc9eAE-bg/hqdefault.jpg",
            "width": 480
           },
           "maxres": {
            "height": 720,
            "url": "https://i.ytimg.com/vi/1dBc9eAE-bg/maxresdefault.jpg",
            "width": 1280
           },
           "medium": {
            "height": 180,
            "url": "https://i.ytimg.com/vi/1dBc9eAE-bg/mqdefault.jpg",
            "width": 320
           },
           "standard": {
            "height": 480,
            "url": "https://i.ytimg.com/vi/1dBc9eAE-bg/sddefault.jpg",
            "width": 640
           }
          },
          "title": "Pontos Positivos e Negativos! O Maior Bate-papo Sobre ONE PIECE do YouTube | Pipoca e Nanquim 537",
          "videoOwnerChannelId": "UCcq1Xu3SKcwE1CpzGi-N68g",
          "videoOwnerChannelTitle": "Pipoca & Nanquim"
         }
        },
        {
         "contentDetails": {
          "videoId": "FZn1MdTnHTU",
          "videoPublishedAt": "2023-09-16T00:14:20Z"
         },
         "etag": "n29RSqBEQdbqM1O13T2ueTq9IcE",
         "id": "VVVjcTFYdTNTS2N3RTFDcHpHaS1ONjhnLkZabjFNZFRuSFRV",
         "kind": "youtube#playlistItem",
         "snippet": {
          "channelId": "UCcq1Xu3SKcwE1CpzGi-N68g",
          "channelTitle": "Pipoca & Nanquim",
          "description": "📖 BÓRGIA Edição Integral: https://amzn.to/3m0UK3f / https://bit.ly/borgiapn\n🛸 A Casta dos Metabarões Vol. 2 (volume 2 de 3 da COLEÇÃO METABARÕES): https://amzn.to/3poCrGZ / https://bit.ly/casta2pn\n🛡️ A Casta dos Metabarões Vol. 1 (volume 1 de 3 da COLEÇÃO METABARÕES): https://amzn.to/3CQSa4D\n🔸 Trilogia TODO INCAL: https://amzn.to/38hBq6P\n📚 Quadrinhos, livros e mangás da editora Pipoca & Nanquim: https://amzn.to/3pwH2GV\n\nVocê piscou e chegou mais um Saga da Editora, dessa vez a espera foi curta! E no vídeo de hoje vamos falar de Bórgia, de Milo Manara e Alejandro Jodorowsky. Mostramos (na medida do possível 😅) todos os detalhes dessa edição linda.\n\n🌸 EDIÇÃO DO VÍDEO: Jessica Torlezi (@jessica_torlezi)\n-------------\nCAIXA POSTAL 81382\nCEP 08050-970 São Paulo/SP\n\nNOSSOS LINKS\n- Site e loja virtual: https://pipocaenanquim.com.br/\n- E-mail: pipocaenanquim@gmail.com\n- @pipocaenanquim \n- @alexandrecallari\n- @zagaiada\n- @danielgillopes\n\n#sagadaeditora #quadrinhos #milomanara\nMostrando BORGIA EDIÇÃO INTEGRAL torcendo pro YouTube não excluir esse vídeo 😬 | Saga da Editora 142\nhttps://youtu.be/FZn1MdTnHTU",
          "playlistId": "UUcq1Xu3SKcwE1CpzGi-N68g",
          "position": 46,
          "publishedAt": "2023-09-16T00:14:20Z",
          "resourceId": {
           "kind": "youtube#video",
           "videoId": "FZn1MdTnHTU"
          },
          "thumbnails": {
           "default": {
            "height": 90,
            "url": "https://i.ytimg.com/vi/FZn1MdTnHTU/default.jpg",
            "width": 120
           },
           "high": {
            "height": 360,
            "url": "https://i.ytimg.com/vi/FZn1MdTnHTU/hqdefault.jpg",
            "width": 480
           },
           "maxres": {
            "height": 720,
            "url": "https://i.ytimg.com/vi/FZn1MdTnHTU/maxresdefault.jpg",
            "width": 1280
           },
           "medium": {
            "height": 180,
            "url": "https://i.ytimg.com/vi/FZn1MdTnHTU/mqdefault.jpg",
            "width": 320
           },
           "standard": {
            "height": 480,
            "url": "https://i.ytimg.com/vi/FZn1MdTnHTU/sddefault.jpg",
            "width": 640
           }
          },
          "title": "Mostrando BORGIA EDIÇÃO INTEGRAL torcendo pro YouTube não excluir esse vídeo 😬 | Saga da Editora 142",
          "videoOwnerChannelId": "UCcq1Xu3SKcwE1CpzGi-N68g",
          "videoOwnerChannelTitle": "Pipoca & Nanquim"
         }
        },
        {
         "contentDetails": {
          "videoId": "m1DK86MOkkw",
          "videoPublishedAt": "2023-09-14T04:39:26Z"
         },
         "etag": "O5NN3svUEslRrSoPRU-WEzpvuTQ",
         "id": "VVVjcTFYdTNTS2N3RTFDcHpHaS1ONjhnLm0xREs4Nk1Pa2t3",
         "kind": "youtube#playlistItem",
         "snippet": {
          "channelId": "UCcq1Xu3SKcwE1CpzGi-N68g",
          "channelTitle": "Pipoca & Nanquim",
          "description": "📚 Quadrinhos, livros e mangás da editora Pipoca & Nanquim: https://amzn.to/3g3v6US\n\nBruno Zago voltou de suas férias pra se tornar o cavaleiro vazio, pular todas as plataformas e matar todos os seus inimigos sem morrer nenhuma vez! E seu fiel escudeiro Danil Lopes também estará presente para não só julgar, mas também para oferecer apoio moral ao seu amigo noob 🤣\n\nSINOPSE DO JOGO\nDesça no mundo de Hollow Knight! O premiado jogo ação/aventura de insetos e heróis. Explore cavernas serpenteantes, cidades antigas e ermos mortais. Lute contra criaturas malignas, alie-se a insetos bizarros. Descubra a história antiga e solucione mistérios enterrados no coração do reino.\n\nPRÉ-VENDAS DA EDITORA ROLANDO AGORA:\n🍵 A LENDA DE MUSASHI: https://amzn.to/3P41PKH / https://bit.ly/musashipn\n⛩️ ZONA LIVRE: https://amzn.to/3QFizL0 / https://bit.ly/zonalivrepn\n🧸 MONSTRO DEBAIXO DA MINHA CAMA: https://amzn.to/3QCQIec / https://bit.ly/monstropn\n📸 O COMBATE COTIDIANO: https://amzn.to/45aaT7k / https://bit.ly/combatepn\n🔥 COPRA Round 6 (pré-venda da conclusão da série): https://amzn.to/3OmH4vm / https://bit.ly/copra6pn\n👺 KOGARASHI MONJIROU: O Prenúncio do Inverno: https://amzn.to/44T6vtb / https://bit.ly/monjiroupn\n🏘️ CIDADE DAS LÁPIDES: https://amzn.to/3P11lX9 / https://bit.ly/lapidespn\n\n🌸 DIREÇÃO DA LIVE: Jessica Torlezi (@jessica_torlezi)\n-------------\nCAIXA POSTAL 81382\nCEP 08050-970 São Paulo/SP\n\nNOSSOS LINKS\n- Site e loja virtual: https://pipocaenanquim.com.br/\n- E-mail: pipocaenanquim@gmail.com\n- @pipocaenanquim \n- @alexandrecallari\n- @zagaiada\n- @danielgillopes\n\n#noobificadortotal #thelastofuspart2 #thelastofus\nConhecendo uma obra-prima dos games viciantes: HOLLOW KNIGHT | Noobificador Total AO VIVO\nhttps://youtube.com/live/m1DK86MOkkw",
          "playlistId": "UUcq1Xu3SKcwE1CpzGi-N68g",
          "position": 47,
          "publishedAt": "2023-09-14T04:39:26Z",
          "resourceId": {
           "kind": "youtube#video",
           "videoId": "m1DK86MOkkw"
          },
          "thumbnails": {
           "default": {
            "height": 90,
            "url": "https://i.ytimg.com/vi/m1DK86MOkkw/default.jpg",
            "width": 120
           },
           "high": {
            "height": 360,
            "url": "https://i.ytimg.com/vi/m1DK86MOkkw/hqdefault.jpg",
            "width": 480
           },
           "maxres": {
            "height": 720,
            "url": "https://i.ytimg.com/vi/m1DK86MOkkw/maxresdefault.jpg",
            "width": 1280
           },
           "medium": {
            "height": 180,
            "url": "https://i.ytimg.com/vi/m1DK86MOkkw/mqdefault.jpg",
            "width": 320
           },
           "standard": {
            "height": 480,
            "url": "https://i.ytimg.com/vi/m1DK86MOkkw/sddefault.jpg",
            "width": 640
           }
          },
          "title": "Conhecendo uma obra-prima dos games viciantes: HOLLOW KNIGHT | Noobificador Total AO VIVO",
          "videoOwnerChannelId": "UCcq1Xu3SKcwE1CpzGi-N68g",
          "videoOwnerChannelTitle": "Pipoca & Nanquim"
         }
        },
        {
         "contentDetails": {
          "videoId": "RK_Rm3Niht8",
          "videoPublishedAt": "2023-09-12T22:00:13Z"
         },
         "etag": "8pWW59BSaBUcZrcnHm198ZmnQ3E",
         "id": "VVVjcTFYdTNTS2N3RTFDcHpHaS1ONjhnLlJLX1JtM05paHQ4",
         "kind": "youtube#playlistItem",
         "snippet": {
          "channelId": "UCcq1Xu3SKcwE1CpzGi-N68g",
          "channelTitle": "Pipoca & Nanquim",
          "description": "🏝️ O ESTRANHO CONTO DA ILHA PANORAMA: https://amzn.to/3UtoRNG / https://bit.ly/ilhapn\n📚 Quadrinhos, livros e mangás da editora Pipoca & Nanquim: https://amzn.to/3pwH2GV\n\nA gente tarda, mas não falha 🤣 Está de volta o quadro Saga da Editora, desta vez pra mostrar os detalhes de Ilha Panorama, primeira obra do mestre do terror e cruel Suehiro Maruo! \n\nE pode ficar tranquilo que logo logo voltaremos com outro Saga, é só você piscar que ele chega! \n\n🍔 EDIÇÃO DO VÍDEO: Ricardo Brito (@pretomero)\n-------------\nCAIXA POSTAL 81382\nCEP 08050-970 São Paulo/SP\n\nNOSSOS LINKS\n- Site e loja virtual: https://pipocaenanquim.com.br/\n- E-mail: pipocaenanquim@gmail.com\n- @pipocaenanquim \n- @alexandrecallari\n- @zagaiada\n- @danielgillopes\n\n#sagadaeditora #mangás #quadrinhos \nTodos os detalhes do mangá O ESTRANHO CONTO DA ILHA PANORAMA | Saga da Editora 141\nhttps://youtu.be/RK_Rm3Niht8",
          "playlistId": "UUcq1Xu3SKcwE1CpzGi-N68g",
          "position": 48,
          "publishedAt": "2023-09-12T22:00:13Z",
          "resourceId": {
           "kind": "youtube#video",
           "videoId": "RK_Rm3Niht8"
          },
          "thumbnails": {
           "default": {
            "height": 90,
            "url": "https://i.ytimg.com/vi/RK_Rm3Niht8/default.jpg",
            "width": 120
           },
           "high": {
            "height": 360,
            "url": "https://i.ytimg.com/vi/RK_Rm3Niht8/hqdefault.jpg",
            "width": 480
           },
           "maxres": {
            "height": 720,
            "url": "https://i.ytimg.com/vi/RK_Rm3Niht8/maxresdefault.jpg",
            "width": 1280
           },
           "medium": {
            "height": 180,
            "url": "https://i.ytimg.com/vi/RK_Rm3Niht8/mqdefault.jpg",
            "width": 320
           },
           "standard": {
            "height": 480,
            "url": "https://i.ytimg.com/vi/RK_Rm3Niht8/sddefault.jpg",
            "width": 640
           }
          },
          "title": "Todos os detalhes do mangá O ESTRANHO CONTO DA ILHA PANORAMA | Saga da Editora 141",
          "videoOwnerChannelId": "UCcq1Xu3SKcwE1CpzGi-N68g",
          "videoOwnerChannelTitle": "Pipoca & Nanquim"
         }
        },
        {
         "contentDetails": {
          "videoId": "GquIjHAML5Y",
          "videoPublishedAt": "2023-09-10T14:00:13Z"
         },
         "etag": "YgvRLRyPuOzqFHZwPvdL1l4zdWg",
         "id": "VVVjcTFYdTNTS2N3RTFDcHpHaS1ONjhnLkdxdUlqSEFNTDVZ",
         "kind": "youtube#playlistItem",
         "snippet": {
          "channelId": "UCcq1Xu3SKcwE1CpzGi-N68g",
          "channelTitle": "Pipoca & Nanquim",
          "description": "🍃 TARZAN - O SENHOR DA SELVA, de Roy Thomas e John Buscema: https://amzn.to/3seUsFa\n📖 John Byrne: O Gênio Indomável: entre em contato pelo email: rodrigotalayer77@gmail.com\n📸 Insta do Rodrigo, autor do livro: @rodrigotalayer\n👉 LINK PRA PARTE 2 DO VÍDEO: https://youtu.be/76vCjphnuCo\n\n📚 Quadrinhos, livros e mangás da editora Pipoca & Nanquim: https://amzn.to/3pwH2GV\n\nEstamos de volta com o quadro Mestres da Nona Arte! Desta vez, numa série especial dividida em três partes, afinal, uma seria pouco para narrar a trajetória de um autor tão magistral. Portanto, no vídeo de hoje, prepare-se para saber TUDO SOBRE JOHN BYRNE!\n\nNeste episódio, Alexandre Callari e Daniel Lopes comentam suas origens, suas principais influências, seu início da carreira em fanzines e sua primeira fase na Marvel, onde desenvolveu alguns dos principais personagens da editora, como Punho de Ferro, Capitão América, Vingadores, Hulk e X-Men, em fases antológicas e celebradas mundo afora.\n\nE não fique triste quando o vídeo acabar, pois a parte dois já está publicado e você acessa pelo link no topo desta descrição.\n\nQUADRINHOS MENCIONADOS\n- Quarteto Fantástico: https://amzn.to/3r5RYw5\n- Vingadores: A Busca Pelo Visão: https://amzn.to/44KpRR5\n- Tropa Alfa Omnibus: https://amzn.to/44L5l2q\n- X-Men: A Ascensão da Fênix: https://amzn.to/45FwFjT\n\nPRÉ-VENDAS DA EDITORA ROLANDO AGORA:\n🍵 A LENDA DE MUSASHI: https://amzn.to/3P41PKH / https://bit.ly/musashipn\n⛩️ ZONA LIVRE: https://amzn.to/3QFizL0 / https://bit.ly/zonalivrepn\n🧸 MONSTRO DEBAIXO DA MINHA CAMA: https://amzn.to/3QCQIec / https://bit.ly/monstropn\n📸 O COMBATE COTIDIANO: https://amzn.to/45aaT7k / https://bit.ly/combatepn\n🔥 COPRA Round 6 (pré-venda da conclusão da série): https://amzn.to/3OmH4vm / https://bit.ly/copra6pn\n👺 KOGARASHI MONJIROU: O Prenúncio do Inverno: https://amzn.to/44T6vtb / https://bit.ly/monjiroupn\n🏘️ CIDADE DAS LÁPIDES: https://amzn.to/3P11lX9 / https://bit.ly/lapidespn\n\n00:00 Intro\n8:23 Início de carreira e Charlton Comics\n13:46 Marvel Comics\n50:06 Fim do primeiro período Marvel\n\n🌸 EDIÇÃO DO VÍDEO: Jessica Torlezi (@jessica_torlezi)\n-------------\nCAIXA POSTAL 81382\nCEP 08050-970 São Paulo/SP\n\nNOSSOS LINKS\n- Site e loja virtual: https://pipocaenanquim.com.br/\n- E-mail: pipocaenanquim@gmail.com\n- @pipocaenanquim \n- @alexandrecallari\n- @zagaiada\n- @danielgillopes\n\n#johnbyrne #quadrinhos #mestresdanonaarte\nMaior astro das HQs de super-herói dos anos 80! Vida e obra de JOHN BYRNE | Mestres da Nona Arte 16\nhttps://youtu.be/GquIjHAML5Y",
          "playlistId": "UUcq1Xu3SKcwE1CpzGi-N68g",
          "position": 49,
          "publishedAt": "2023-09-10T14:00:13Z",
          "resourceId": {
           "kind": "youtube#video",
           "videoId": "GquIjHAML5Y"
          },
          "thumbnails": {
           "default": {
            "height": 90,
            "url": "https://i.ytimg.com/vi/GquIjHAML5Y/default.jpg",
            "width": 120
           },
           "high": {
            "height": 360,
            "url": "https://i.ytimg.com/vi/GquIjHAML5Y/hqdefault.jpg",
            "width": 480
           },
           "maxres": {
            "height": 720,
            "url": "https://i.ytimg.com/vi/GquIjHAML5Y/maxresdefault.jpg",
            "width": 1280
           },
           "medium": {
            "height": 180,
            "url": "https://i.ytimg.com/vi/GquIjHAML5Y/mqdefault.jpg",
            "width": 320
           },
           "standard": {
            "height": 480,
            "url": "https://i.ytimg.com/vi/GquIjHAML5Y/sddefault.jpg",
            "width": 640
           }
          },
          "title": "Ascensão do Maior Astro das HQs de Super-heróis dos Anos 80: JOHN BYRNE | Mestres da Nona Arte 16",
          "videoOwnerChannelId": "UCcq1Xu3SKcwE1CpzGi-N68g",
          "videoOwnerChannelTitle": "Pipoca & Nanquim"
         }
        }
       ],
       "kind": "youtube#playlistItemListResponse",
       "nextPageToken": "EAAaI1BUOkNESWlFRGd3TTBNNE56TkRRamd4TWpGRE1ERW9BVkFC",
       "pageInfo": {
        "resultsPerPage": 50,
        "totalResults": 1735
       }
      },
      "text/plain": [
       "<IPython.core.display.JSON object>"
      ]
     },
     "execution_count": 6,
     "metadata": {
      "application/json": {
       "expanded": false,
       "root": "root"
      }
     },
     "output_type": "execute_result"
    }
   ],
   "source": [
    "JSON(request.execute())"
   ]
  },
  {
   "cell_type": "code",
   "execution_count": 7,
   "id": "25e22a81-ea35-4054-a68b-6f2d9b218173",
   "metadata": {},
   "outputs": [],
   "source": [
    "request = youtube.playlistItems().list(\n",
    "    part=\"snippet,contentDetails\",\n",
    "    playlistId='UUcq1Xu3SKcwE1CpzGi-N68g',\n",
    "    maxResults = 50\n",
    ")\n",
    "response = request.execute()"
   ]
  },
  {
   "cell_type": "code",
   "execution_count": 8,
   "id": "037da725-c63f-441d-b74f-4c7787bf72ab",
   "metadata": {},
   "outputs": [],
   "source": [
    "def get_videos_ids(youtube, playlist_id):\n",
    "    video_ids = []\n",
    "\n",
    "    def get_page(page_token):\n",
    "        if page_token == '':\n",
    "            request = youtube.playlistItems().list(\n",
    "                part=\"snippet,contentDetails\",\n",
    "                playlistId=playlist_id,\n",
    "                maxResults = 50\n",
    "            )\n",
    "        else: \n",
    "            request = youtube.playlistItems().list(\n",
    "            part=\"snippet,contentDetails\",\n",
    "            playlistId=playlist_id,\n",
    "            maxResults = 50,\n",
    "            pageToken = page_token\n",
    "            )\n",
    "\n",
    "        response = request.execute()\n",
    "        return response\n",
    "    \n",
    "    def add_ids(response):\n",
    "        for i in response['items']:\n",
    "            video_ids.append(i['contentDetails']['videoId'])\n",
    "            \n",
    "    #Call api and add the videos\n",
    "    response = get_page('')\n",
    "    add_ids(response)\n",
    "\n",
    "    #Check next page\n",
    "    next_page_token = response['nextPageToken']\n",
    "    while next_page_token is not None:\n",
    "        response = get_page(next_page_token)\n",
    "        add_ids(response)\n",
    "        try:\n",
    "            next_page_token = response['nextPageToken']\n",
    "        except: \n",
    "            break\n",
    "    return video_ids"
   ]
  },
  {
   "cell_type": "code",
   "execution_count": 9,
   "id": "76ada281-d4b1-45d5-b5a0-5c72d29860f0",
   "metadata": {},
   "outputs": [],
   "source": [
    "video_ids = get_videos_ids(youtube, 'UUcq1Xu3SKcwE1CpzGi-N68g')"
   ]
  },
  {
   "cell_type": "code",
   "execution_count": 10,
   "id": "deaa07c7-86d4-44c3-a476-8e6c56fdfc94",
   "metadata": {},
   "outputs": [],
   "source": [
    "def get_videos_info(video_ids):\n",
    "    all_videos_info = []\n",
    "\n",
    "    for i in range(0, len(video_ids), 50):\n",
    "        request = youtube.videos().list(\n",
    "            part=\"snippet,contentDetails,statistics\",\n",
    "            id=\",\".join(video_ids[i:i+50])\n",
    "        )\n",
    "        response = request.execute()\n",
    "        \n",
    "        for video in response['items']:\n",
    "            imported_stats = {\n",
    "                'snippet': ['channelTitle', 'title', 'description', 'tags', 'publishedAt'],\n",
    "                'statistics': ['viewCount', 'likeCount', 'favouriteCount', 'commentCount'],\n",
    "                 'contentDetails': ['duration', 'definition', 'caption']\n",
    "            }\n",
    "            video_info = {}\n",
    "            video_info['id'] = video['id']\n",
    "            \n",
    "            for key in imported_stats:\n",
    "                for stat in imported_stats[key]:\n",
    "                    try:\n",
    "                        video_info[stat] = video[key][stat]\n",
    "                    except:\n",
    "                        video_info[stat] = None\n",
    "            all_videos_info.append(video_info)\n",
    "        \n",
    "    return all_videos_info"
   ]
  },
  {
   "cell_type": "code",
   "execution_count": 11,
   "id": "4eeb2379-1246-4445-9c16-f7b68135e074",
   "metadata": {
    "scrolled": true
   },
   "outputs": [],
   "source": [
    "all_videos_info = get_videos_info(video_ids)"
   ]
  },
  {
   "cell_type": "markdown",
   "id": "3bb26978-e409-47aa-8afa-e72f5a458530",
   "metadata": {
    "jp-MarkdownHeadingCollapsed": true
   },
   "source": [
    "# Preprocessing"
   ]
  },
  {
   "cell_type": "code",
   "execution_count": 12,
   "id": "9c67004e-1102-4f46-ae84-f12702d15218",
   "metadata": {},
   "outputs": [
    {
     "data": {
      "text/html": [
       "<div>\n",
       "<style scoped>\n",
       "    .dataframe tbody tr th:only-of-type {\n",
       "        vertical-align: middle;\n",
       "    }\n",
       "\n",
       "    .dataframe tbody tr th {\n",
       "        vertical-align: top;\n",
       "    }\n",
       "\n",
       "    .dataframe thead th {\n",
       "        text-align: right;\n",
       "    }\n",
       "</style>\n",
       "<table border=\"1\" class=\"dataframe\">\n",
       "  <thead>\n",
       "    <tr style=\"text-align: right;\">\n",
       "      <th></th>\n",
       "      <th>id</th>\n",
       "      <th>channelTitle</th>\n",
       "      <th>title</th>\n",
       "      <th>description</th>\n",
       "      <th>tags</th>\n",
       "      <th>publishedAt</th>\n",
       "      <th>viewCount</th>\n",
       "      <th>likeCount</th>\n",
       "      <th>favouriteCount</th>\n",
       "      <th>commentCount</th>\n",
       "      <th>duration</th>\n",
       "      <th>definition</th>\n",
       "      <th>caption</th>\n",
       "    </tr>\n",
       "  </thead>\n",
       "  <tbody>\n",
       "    <tr>\n",
       "      <th>0</th>\n",
       "      <td>cTufXjYijqQ</td>\n",
       "      <td>Pipoca &amp; Nanquim</td>\n",
       "      <td>BORA FAZER NASCER NOSSO PRIMEIRO FILME! Aberto...</td>\n",
       "      <td>🎥 Catarse de Ogiva: https://www.catarse.me/Ogi...</td>\n",
       "      <td>[pipocananquim9216484931, ogiva, filme, catars...</td>\n",
       "      <td>2023-11-26T15:54:30Z</td>\n",
       "      <td>6212</td>\n",
       "      <td>1649</td>\n",
       "      <td>None</td>\n",
       "      <td>276</td>\n",
       "      <td>PT27M5S</td>\n",
       "      <td>hd</td>\n",
       "      <td>false</td>\n",
       "    </tr>\n",
       "    <tr>\n",
       "      <th>1</th>\n",
       "      <td>ufQGQb5g6ZM</td>\n",
       "      <td>Pipoca &amp; Nanquim</td>\n",
       "      <td>UMA NOVA ETAPA DIA 26/11 ❤️</td>\n",
       "      <td></td>\n",
       "      <td>None</td>\n",
       "      <td>2023-11-26T02:19:27Z</td>\n",
       "      <td>1734</td>\n",
       "      <td>298</td>\n",
       "      <td>None</td>\n",
       "      <td>6</td>\n",
       "      <td>PT22S</td>\n",
       "      <td>hd</td>\n",
       "      <td>false</td>\n",
       "    </tr>\n",
       "    <tr>\n",
       "      <th>2</th>\n",
       "      <td>cSinekP-uwI</td>\n",
       "      <td>Pipoca &amp; Nanquim</td>\n",
       "      <td>TEASER TRAILER DO FILME DE OGIVA NO CATARSE 🎬 🤩</td>\n",
       "      <td>🎥 Catarse de Ogiva: https://www.catarse.me/Ogi...</td>\n",
       "      <td>[pipocananquim9216484931, pipoca e nanquim, og...</td>\n",
       "      <td>2023-11-25T14:30:14Z</td>\n",
       "      <td>9919</td>\n",
       "      <td>2271</td>\n",
       "      <td>None</td>\n",
       "      <td>197</td>\n",
       "      <td>PT4M34S</td>\n",
       "      <td>hd</td>\n",
       "      <td>false</td>\n",
       "    </tr>\n",
       "    <tr>\n",
       "      <th>3</th>\n",
       "      <td>N-ox544XhE0</td>\n",
       "      <td>Pipoca &amp; Nanquim</td>\n",
       "      <td>Vem aí o nosso primeiro filme live-action!!</td>\n",
       "      <td>🎥 Catarse de Ogiva: https://www.catarse.me/Ogi...</td>\n",
       "      <td>None</td>\n",
       "      <td>2023-11-24T22:31:48Z</td>\n",
       "      <td>7474</td>\n",
       "      <td>1607</td>\n",
       "      <td>None</td>\n",
       "      <td>28</td>\n",
       "      <td>PT46S</td>\n",
       "      <td>hd</td>\n",
       "      <td>false</td>\n",
       "    </tr>\n",
       "    <tr>\n",
       "      <th>4</th>\n",
       "      <td>OKp86seA9O0</td>\n",
       "      <td>Pipoca &amp; Nanquim</td>\n",
       "      <td>React pirado de Loki Season 2! COMO É ISSO DE ...</td>\n",
       "      <td>✨ Black Friday da Surfshark! Use o cupom de de...</td>\n",
       "      <td>[pipocananquim9216484931, loki, segunda tempor...</td>\n",
       "      <td>2023-11-24T21:00:17Z</td>\n",
       "      <td>14434</td>\n",
       "      <td>2109</td>\n",
       "      <td>None</td>\n",
       "      <td>333</td>\n",
       "      <td>PT52M12S</td>\n",
       "      <td>hd</td>\n",
       "      <td>false</td>\n",
       "    </tr>\n",
       "  </tbody>\n",
       "</table>\n",
       "</div>"
      ],
      "text/plain": [
       "            id      channelTitle  \\\n",
       "0  cTufXjYijqQ  Pipoca & Nanquim   \n",
       "1  ufQGQb5g6ZM  Pipoca & Nanquim   \n",
       "2  cSinekP-uwI  Pipoca & Nanquim   \n",
       "3  N-ox544XhE0  Pipoca & Nanquim   \n",
       "4  OKp86seA9O0  Pipoca & Nanquim   \n",
       "\n",
       "                                               title  \\\n",
       "0  BORA FAZER NASCER NOSSO PRIMEIRO FILME! Aberto...   \n",
       "1                        UMA NOVA ETAPA DIA 26/11 ❤️   \n",
       "2    TEASER TRAILER DO FILME DE OGIVA NO CATARSE 🎬 🤩   \n",
       "3        Vem aí o nosso primeiro filme live-action!!   \n",
       "4  React pirado de Loki Season 2! COMO É ISSO DE ...   \n",
       "\n",
       "                                         description  \\\n",
       "0  🎥 Catarse de Ogiva: https://www.catarse.me/Ogi...   \n",
       "1                                                      \n",
       "2  🎥 Catarse de Ogiva: https://www.catarse.me/Ogi...   \n",
       "3  🎥 Catarse de Ogiva: https://www.catarse.me/Ogi...   \n",
       "4  ✨ Black Friday da Surfshark! Use o cupom de de...   \n",
       "\n",
       "                                                tags           publishedAt  \\\n",
       "0  [pipocananquim9216484931, ogiva, filme, catars...  2023-11-26T15:54:30Z   \n",
       "1                                               None  2023-11-26T02:19:27Z   \n",
       "2  [pipocananquim9216484931, pipoca e nanquim, og...  2023-11-25T14:30:14Z   \n",
       "3                                               None  2023-11-24T22:31:48Z   \n",
       "4  [pipocananquim9216484931, loki, segunda tempor...  2023-11-24T21:00:17Z   \n",
       "\n",
       "  viewCount likeCount favouriteCount commentCount  duration definition caption  \n",
       "0      6212      1649           None          276   PT27M5S         hd   false  \n",
       "1      1734       298           None            6     PT22S         hd   false  \n",
       "2      9919      2271           None          197   PT4M34S         hd   false  \n",
       "3      7474      1607           None           28     PT46S         hd   false  \n",
       "4     14434      2109           None          333  PT52M12S         hd   false  "
      ]
     },
     "execution_count": 12,
     "metadata": {},
     "output_type": "execute_result"
    }
   ],
   "source": [
    "df = pd.DataFrame(all_videos_info)\n",
    "df.head()"
   ]
  },
  {
   "cell_type": "code",
   "execution_count": 13,
   "id": "6dedb620-6c3e-4349-8d49-50202a7d3d38",
   "metadata": {},
   "outputs": [
    {
     "data": {
      "text/plain": [
       "id                False\n",
       "channelTitle      False\n",
       "title             False\n",
       "description       False\n",
       "tags               True\n",
       "publishedAt       False\n",
       "viewCount          True\n",
       "likeCount          True\n",
       "favouriteCount     True\n",
       "commentCount      False\n",
       "duration          False\n",
       "definition        False\n",
       "caption           False\n",
       "dtype: bool"
      ]
     },
     "execution_count": 13,
     "metadata": {},
     "output_type": "execute_result"
    }
   ],
   "source": [
    "df.isnull().any()"
   ]
  },
  {
   "cell_type": "code",
   "execution_count": 14,
   "id": "7c4d5038-c63e-40a9-aa55-c7478b58cdc6",
   "metadata": {},
   "outputs": [
    {
     "data": {
      "text/plain": [
       "id                object\n",
       "channelTitle      object\n",
       "title             object\n",
       "description       object\n",
       "tags              object\n",
       "publishedAt       object\n",
       "viewCount         object\n",
       "likeCount         object\n",
       "favouriteCount    object\n",
       "commentCount      object\n",
       "duration          object\n",
       "definition        object\n",
       "caption           object\n",
       "dtype: object"
      ]
     },
     "execution_count": 14,
     "metadata": {},
     "output_type": "execute_result"
    }
   ],
   "source": [
    "df.dtypes"
   ]
  },
  {
   "cell_type": "markdown",
   "id": "b925f0cb-8d64-4f75-bd2f-355f04007862",
   "metadata": {},
   "source": [
    "### Turn into numeric\n",
    "* viewCount\n",
    "* likeCount\n",
    "* favoriteCount\n",
    "* commentCount "
   ]
  },
  {
   "cell_type": "code",
   "execution_count": 15,
   "id": "7dccfaee-a220-46f0-b0c4-ae3a66d7fc60",
   "metadata": {},
   "outputs": [],
   "source": [
    "numeric_cols = ['viewCount', 'likeCount', 'favouriteCount', 'commentCount']\n",
    "df[numeric_cols] = df[numeric_cols].apply(pd.to_numeric, errors='coerce', axis=1)"
   ]
  },
  {
   "cell_type": "code",
   "execution_count": 16,
   "id": "ad227daf-a607-4ba4-8b63-360ff93c020c",
   "metadata": {},
   "outputs": [],
   "source": [
    "# Parsing date of publishing\n",
    "df['publishedAt'] = df['publishedAt'].apply(lambda x: parser.parse(x)) \n",
    "df['pushblishDayOfWeek'] = df['publishedAt'].apply(lambda x: x.strftime(\"%A\")) "
   ]
  },
  {
   "cell_type": "code",
   "execution_count": 17,
   "id": "3c119c0d-f873-4048-bca4-7abc511ae457",
   "metadata": {},
   "outputs": [],
   "source": [
    "import isodate\n",
    "df['durationSecs'] = df['duration'].apply(lambda x: isodate.parse_duration(x))\n",
    "df['durationSecs'] = df['durationSecs'].astype('timedelta64[s]')"
   ]
  },
  {
   "cell_type": "code",
   "execution_count": 18,
   "id": "06d907cc-9d13-42dc-8239-bfc31e63f780",
   "metadata": {},
   "outputs": [],
   "source": [
    "df['tagSize'] = df['tags'].apply(lambda x: 0 if x is None else len(x))"
   ]
  },
  {
   "cell_type": "code",
   "execution_count": 19,
   "id": "68750b12-3697-4b72-9e20-d5b5b827e65d",
   "metadata": {},
   "outputs": [
    {
     "data": {
      "text/html": [
       "<div>\n",
       "<style scoped>\n",
       "    .dataframe tbody tr th:only-of-type {\n",
       "        vertical-align: middle;\n",
       "    }\n",
       "\n",
       "    .dataframe tbody tr th {\n",
       "        vertical-align: top;\n",
       "    }\n",
       "\n",
       "    .dataframe thead th {\n",
       "        text-align: right;\n",
       "    }\n",
       "</style>\n",
       "<table border=\"1\" class=\"dataframe\">\n",
       "  <thead>\n",
       "    <tr style=\"text-align: right;\">\n",
       "      <th></th>\n",
       "      <th>id</th>\n",
       "      <th>channelTitle</th>\n",
       "      <th>title</th>\n",
       "      <th>description</th>\n",
       "      <th>tags</th>\n",
       "      <th>publishedAt</th>\n",
       "      <th>viewCount</th>\n",
       "      <th>likeCount</th>\n",
       "      <th>favouriteCount</th>\n",
       "      <th>commentCount</th>\n",
       "      <th>duration</th>\n",
       "      <th>definition</th>\n",
       "      <th>caption</th>\n",
       "      <th>pushblishDayOfWeek</th>\n",
       "      <th>durationSecs</th>\n",
       "      <th>tagSize</th>\n",
       "    </tr>\n",
       "  </thead>\n",
       "  <tbody>\n",
       "    <tr>\n",
       "      <th>0</th>\n",
       "      <td>cTufXjYijqQ</td>\n",
       "      <td>Pipoca &amp; Nanquim</td>\n",
       "      <td>BORA FAZER NASCER NOSSO PRIMEIRO FILME! Aberto...</td>\n",
       "      <td>🎥 Catarse de Ogiva: https://www.catarse.me/Ogi...</td>\n",
       "      <td>[pipocananquim9216484931, ogiva, filme, catars...</td>\n",
       "      <td>2023-11-26 15:54:30+00:00</td>\n",
       "      <td>6212.0</td>\n",
       "      <td>1649.0</td>\n",
       "      <td>NaN</td>\n",
       "      <td>276.0</td>\n",
       "      <td>PT27M5S</td>\n",
       "      <td>hd</td>\n",
       "      <td>false</td>\n",
       "      <td>Sunday</td>\n",
       "      <td>0 days 00:27:05</td>\n",
       "      <td>13</td>\n",
       "    </tr>\n",
       "    <tr>\n",
       "      <th>1</th>\n",
       "      <td>ufQGQb5g6ZM</td>\n",
       "      <td>Pipoca &amp; Nanquim</td>\n",
       "      <td>UMA NOVA ETAPA DIA 26/11 ❤️</td>\n",
       "      <td></td>\n",
       "      <td>None</td>\n",
       "      <td>2023-11-26 02:19:27+00:00</td>\n",
       "      <td>1734.0</td>\n",
       "      <td>298.0</td>\n",
       "      <td>NaN</td>\n",
       "      <td>6.0</td>\n",
       "      <td>PT22S</td>\n",
       "      <td>hd</td>\n",
       "      <td>false</td>\n",
       "      <td>Sunday</td>\n",
       "      <td>0 days 00:00:22</td>\n",
       "      <td>0</td>\n",
       "    </tr>\n",
       "    <tr>\n",
       "      <th>2</th>\n",
       "      <td>cSinekP-uwI</td>\n",
       "      <td>Pipoca &amp; Nanquim</td>\n",
       "      <td>TEASER TRAILER DO FILME DE OGIVA NO CATARSE 🎬 🤩</td>\n",
       "      <td>🎥 Catarse de Ogiva: https://www.catarse.me/Ogi...</td>\n",
       "      <td>[pipocananquim9216484931, pipoca e nanquim, og...</td>\n",
       "      <td>2023-11-25 14:30:14+00:00</td>\n",
       "      <td>9919.0</td>\n",
       "      <td>2271.0</td>\n",
       "      <td>NaN</td>\n",
       "      <td>197.0</td>\n",
       "      <td>PT4M34S</td>\n",
       "      <td>hd</td>\n",
       "      <td>false</td>\n",
       "      <td>Saturday</td>\n",
       "      <td>0 days 00:04:34</td>\n",
       "      <td>13</td>\n",
       "    </tr>\n",
       "    <tr>\n",
       "      <th>3</th>\n",
       "      <td>N-ox544XhE0</td>\n",
       "      <td>Pipoca &amp; Nanquim</td>\n",
       "      <td>Vem aí o nosso primeiro filme live-action!!</td>\n",
       "      <td>🎥 Catarse de Ogiva: https://www.catarse.me/Ogi...</td>\n",
       "      <td>None</td>\n",
       "      <td>2023-11-24 22:31:48+00:00</td>\n",
       "      <td>7474.0</td>\n",
       "      <td>1607.0</td>\n",
       "      <td>NaN</td>\n",
       "      <td>28.0</td>\n",
       "      <td>PT46S</td>\n",
       "      <td>hd</td>\n",
       "      <td>false</td>\n",
       "      <td>Friday</td>\n",
       "      <td>0 days 00:00:46</td>\n",
       "      <td>0</td>\n",
       "    </tr>\n",
       "    <tr>\n",
       "      <th>4</th>\n",
       "      <td>OKp86seA9O0</td>\n",
       "      <td>Pipoca &amp; Nanquim</td>\n",
       "      <td>React pirado de Loki Season 2! COMO É ISSO DE ...</td>\n",
       "      <td>✨ Black Friday da Surfshark! Use o cupom de de...</td>\n",
       "      <td>[pipocananquim9216484931, loki, segunda tempor...</td>\n",
       "      <td>2023-11-24 21:00:17+00:00</td>\n",
       "      <td>14434.0</td>\n",
       "      <td>2109.0</td>\n",
       "      <td>NaN</td>\n",
       "      <td>333.0</td>\n",
       "      <td>PT52M12S</td>\n",
       "      <td>hd</td>\n",
       "      <td>false</td>\n",
       "      <td>Friday</td>\n",
       "      <td>0 days 00:52:12</td>\n",
       "      <td>16</td>\n",
       "    </tr>\n",
       "  </tbody>\n",
       "</table>\n",
       "</div>"
      ],
      "text/plain": [
       "            id      channelTitle  \\\n",
       "0  cTufXjYijqQ  Pipoca & Nanquim   \n",
       "1  ufQGQb5g6ZM  Pipoca & Nanquim   \n",
       "2  cSinekP-uwI  Pipoca & Nanquim   \n",
       "3  N-ox544XhE0  Pipoca & Nanquim   \n",
       "4  OKp86seA9O0  Pipoca & Nanquim   \n",
       "\n",
       "                                               title  \\\n",
       "0  BORA FAZER NASCER NOSSO PRIMEIRO FILME! Aberto...   \n",
       "1                        UMA NOVA ETAPA DIA 26/11 ❤️   \n",
       "2    TEASER TRAILER DO FILME DE OGIVA NO CATARSE 🎬 🤩   \n",
       "3        Vem aí o nosso primeiro filme live-action!!   \n",
       "4  React pirado de Loki Season 2! COMO É ISSO DE ...   \n",
       "\n",
       "                                         description  \\\n",
       "0  🎥 Catarse de Ogiva: https://www.catarse.me/Ogi...   \n",
       "1                                                      \n",
       "2  🎥 Catarse de Ogiva: https://www.catarse.me/Ogi...   \n",
       "3  🎥 Catarse de Ogiva: https://www.catarse.me/Ogi...   \n",
       "4  ✨ Black Friday da Surfshark! Use o cupom de de...   \n",
       "\n",
       "                                                tags  \\\n",
       "0  [pipocananquim9216484931, ogiva, filme, catars...   \n",
       "1                                               None   \n",
       "2  [pipocananquim9216484931, pipoca e nanquim, og...   \n",
       "3                                               None   \n",
       "4  [pipocananquim9216484931, loki, segunda tempor...   \n",
       "\n",
       "                publishedAt  viewCount  likeCount  favouriteCount  \\\n",
       "0 2023-11-26 15:54:30+00:00     6212.0     1649.0             NaN   \n",
       "1 2023-11-26 02:19:27+00:00     1734.0      298.0             NaN   \n",
       "2 2023-11-25 14:30:14+00:00     9919.0     2271.0             NaN   \n",
       "3 2023-11-24 22:31:48+00:00     7474.0     1607.0             NaN   \n",
       "4 2023-11-24 21:00:17+00:00    14434.0     2109.0             NaN   \n",
       "\n",
       "   commentCount  duration definition caption pushblishDayOfWeek  \\\n",
       "0         276.0   PT27M5S         hd   false             Sunday   \n",
       "1           6.0     PT22S         hd   false             Sunday   \n",
       "2         197.0   PT4M34S         hd   false           Saturday   \n",
       "3          28.0     PT46S         hd   false             Friday   \n",
       "4         333.0  PT52M12S         hd   false             Friday   \n",
       "\n",
       "     durationSecs  tagSize  \n",
       "0 0 days 00:27:05       13  \n",
       "1 0 days 00:00:22        0  \n",
       "2 0 days 00:04:34       13  \n",
       "3 0 days 00:00:46        0  \n",
       "4 0 days 00:52:12       16  "
      ]
     },
     "execution_count": 19,
     "metadata": {},
     "output_type": "execute_result"
    }
   ],
   "source": [
    "df.head()"
   ]
  },
  {
   "cell_type": "markdown",
   "id": "4210cc38-57a0-4b70-913c-35ec672d0a55",
   "metadata": {},
   "source": [
    "# Analysis"
   ]
  },
  {
   "cell_type": "code",
   "execution_count": 20,
   "id": "09122d6a-3466-4b50-adbb-4bb45ddaf37a",
   "metadata": {},
   "outputs": [
    {
     "data": {
      "text/plain": [
       "<Axes: ylabel='viewCount'>"
      ]
     },
     "execution_count": 20,
     "metadata": {},
     "output_type": "execute_result"
    },
    {
     "data": {
      "image/png": "[encoded data removed]",
      "text/plain": [
       "<Figure size 640x480 with 1 Axes>"
      ]
     },
     "metadata": {},
     "output_type": "display_data"
    }
   ],
   "source": [
    "sn.violinplot(df, y='viewCount')"
   ]
  },
  {
   "cell_type": "code",
   "execution_count": 21,
   "id": "44e1918d-bd68-4cee-a22f-f1e0723f7227",
   "metadata": {},
   "outputs": [
    {
     "data": {
      "text/plain": [
       "40821.1291810842"
      ]
     },
     "execution_count": 21,
     "metadata": {},
     "output_type": "execute_result"
    }
   ],
   "source": [
    "df['viewCount'].mean()"
   ]
  }
 ],
 "metadata": {
  "kernelspec": {
   "display_name": "youtube_api",
   "language": "python",
   "name": "youtube_api"
  },
  "language_info": {
   "codemirror_mode": {
    "name": "ipython",
    "version": 3
   },
   "file_extension": ".py",
   "mimetype": "text/x-python",
   "name": "python",
   "nbconvert_exporter": "python",
   "pygments_lexer": "ipython3",
   "version": "3.10.2"
  }
 },
 "nbformat": 4,
 "nbformat_minor": 5
}
